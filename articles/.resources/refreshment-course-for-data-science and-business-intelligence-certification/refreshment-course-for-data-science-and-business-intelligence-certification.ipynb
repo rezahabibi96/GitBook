{
 "cells": [
  {
   "cell_type": "markdown",
   "id": "9d29d9a6",
   "metadata": {},
   "source": [
    "# Refreshment Course for Data Science and Business Intelligence Certification"
   ]
  },
  {
   "cell_type": "markdown",
   "id": "8bf4135b",
   "metadata": {},
   "source": [
    "## Introduction"
   ]
  },
  {
   "cell_type": "markdown",
   "id": "5ca53f96",
   "metadata": {},
   "source": [
    "When we are asked to prove our credibility in a field, for example, as doctors we are required to show our licenses. In many professions, certification is one of the main ways to demonstrate credibility.\n",
    "\n",
    "For instance, there are internationally recognized certifications such as AWS or GCP. Many countries or third-party institutions also provide their own certifications. In Indonesia, an official government body is responsible for this. In this post, we will discuss some of their certifications in data science and business intelligence, as well as the refresher materials available for preparation."
   ]
  },
  {
   "cell_type": "markdown",
   "id": "c6b432f2",
   "metadata": {},
   "source": [
    "## Data Science Certification"
   ]
  },
  {
   "cell_type": "markdown",
   "id": "a84fa5ef",
   "metadata": {},
   "source": [
    "Each certification comes with predefined units that the test taker must complete in order to become certified. For example, in Data Science, the required units include:\n",
    "* Data Collection\n",
    "* Data Exploration\n",
    "* Data Validation\n",
    "* Data Definition\n",
    "* Data Construction\n",
    "* Data Labeling\n",
    "* Model Building\n",
    "* Model Evaluation\n",
    "\n",
    "While I am not entirely sure whether these units fully reflect the best practices of a modern data science workflow, I believe they could be simplified and better aligned with current standards, such as: \n",
    "* Data Collection\n",
    "* Data Understanding\n",
    "* Data Exploration\n",
    "* Data Preprocessing\n",
    "* Model Development\n",
    "* Model Deployment\n",
    "\n",
    "It is also worth noting that these units were most likely designed before the pre-LLM era. Today, with the advancement of generative AI, many of these steps could potentially be automated or significantly accelerated. :D"
   ]
  },
  {
   "cell_type": "markdown",
   "id": "55622b80",
   "metadata": {},
   "source": [
    "### Data Collection"
   ]
  },
  {
   "cell_type": "markdown",
   "id": "efadaabc",
   "metadata": {},
   "source": [
    "The first step is data collection. When taking a certification, the provider usually provides both the dataset and the goal for the test takers. However, there may be cases where you need to find and collect the data yourself. If so, what should you do?\n",
    "\n",
    "First, you need to determine what kind of data you want to analyze. For example:\n",
    "* Stock data, if you are role-playing as an investment analyst.\n",
    "* Revenue data, if you are role-playing as a company analyst aiming to boost revenue.\n",
    "* Customer churn data, if your goal is to prevent the company from losing customers, etc.\n",
    "\n",
    "It is important to remember that every type of data comes with its own characteristics, which will influence how you approach analysis.\n",
    "\n",
    "Second, after deciding on the type of data, you should identify platforms to find open datasets, such as Kaggle. Alternatively, if you have access to proprietary data and permission to use it, you can work with that as long as privacy and confidentiality are preserved.\n",
    "\n",
    "For simplicity, we will use the Telco customer churn dataset, which can be found [[1]](https://kaggle.com/datasets/blastchar/telco-customer-churn)."
   ]
  },
  {
   "cell_type": "markdown",
   "id": "439d76cf",
   "metadata": {},
   "source": [
    "### Data Understanding"
   ]
  },
  {
   "cell_type": "markdown",
   "id": "54fa1c20",
   "metadata": {},
   "source": [
    "After deciding on the dataset, it is essential to understand what the data is about. I usually find that reading the data’s description and metadata is very helpful. Here is what the provider states about the Telco dataset:\n",
    "\n",
    ">Predict behavior to retain customers. You can analyze all relevant customer data and develop focused customer retention programs. The raw data contains 7043 rows (customers) and 21 columns (features).\" [IBM Sample Data Sets]\n",
    "\n",
    "From this, we know that the dataset contains 7,043 customers with 21 properties. Taking a quick glance at the data, we can notice some properties that are likely of most interest, Churn. By this time, we may come up with several questions, such as:\n",
    "* What proportion of customers have churned?\n",
    "* What are the main reasons customers decide to churn?\n",
    "* How does customer churn affect the company?\n",
    "* How can we prevent more customers from churning?\n",
    "* What strategies should we implement?\n",
    "\n",
    "From my perspective, data science is essentially a workflow designed to answer these questions. This can be achieved by building predictive models to simulate customer behavior and ultimately create the desired outcome; in this case, retaining more customers.\n"
   ]
  },
  {
   "cell_type": "markdown",
   "id": "1efd9f77",
   "metadata": {},
   "source": [
    "## Data Exploration"
   ]
  },
  {
   "cell_type": "markdown",
   "id": "34a7d52d",
   "metadata": {},
   "source": [
    "After understanding the data and defining the objectives, the next step is usually to conduct Exploratory Data Analysis (EDA) to gain deeper insights. In the conventional approach, this often begins with tasks such as:\n",
    "* reading the dataset with pandas, \n",
    "* performing sampling, \n",
    "* generating summaries, \n",
    "* and creating basic plots, etc. \n",
    "\n",
    "While effective, these steps can be somewhat repetitive, and, if I may say, a little tedious."
   ]
  },
  {
   "cell_type": "markdown",
   "id": "d3fddcf4",
   "metadata": {},
   "source": [
    "#### The Conventional Way (Tedious and Repetitive)"
   ]
  },
  {
   "cell_type": "code",
   "execution_count": 1,
   "id": "723e0589",
   "metadata": {},
   "outputs": [
    {
     "data": {
      "text/html": [
       "<div>\n",
       "<style scoped>\n",
       "    .dataframe tbody tr th:only-of-type {\n",
       "        vertical-align: middle;\n",
       "    }\n",
       "\n",
       "    .dataframe tbody tr th {\n",
       "        vertical-align: top;\n",
       "    }\n",
       "\n",
       "    .dataframe thead th {\n",
       "        text-align: right;\n",
       "    }\n",
       "</style>\n",
       "<table border=\"1\" class=\"dataframe\">\n",
       "  <thead>\n",
       "    <tr style=\"text-align: right;\">\n",
       "      <th></th>\n",
       "      <th>customerID</th>\n",
       "      <th>gender</th>\n",
       "      <th>SeniorCitizen</th>\n",
       "      <th>Partner</th>\n",
       "      <th>Dependents</th>\n",
       "      <th>tenure</th>\n",
       "      <th>PhoneService</th>\n",
       "      <th>MultipleLines</th>\n",
       "      <th>InternetService</th>\n",
       "      <th>OnlineSecurity</th>\n",
       "      <th>...</th>\n",
       "      <th>DeviceProtection</th>\n",
       "      <th>TechSupport</th>\n",
       "      <th>StreamingTV</th>\n",
       "      <th>StreamingMovies</th>\n",
       "      <th>Contract</th>\n",
       "      <th>PaperlessBilling</th>\n",
       "      <th>PaymentMethod</th>\n",
       "      <th>MonthlyCharges</th>\n",
       "      <th>TotalCharges</th>\n",
       "      <th>Churn</th>\n",
       "    </tr>\n",
       "  </thead>\n",
       "  <tbody>\n",
       "    <tr>\n",
       "      <th>3808</th>\n",
       "      <td>7785-RDVIG</td>\n",
       "      <td>Female</td>\n",
       "      <td>0</td>\n",
       "      <td>Yes</td>\n",
       "      <td>Yes</td>\n",
       "      <td>3</td>\n",
       "      <td>Yes</td>\n",
       "      <td>No</td>\n",
       "      <td>No</td>\n",
       "      <td>No internet service</td>\n",
       "      <td>...</td>\n",
       "      <td>No internet service</td>\n",
       "      <td>No internet service</td>\n",
       "      <td>No internet service</td>\n",
       "      <td>No internet service</td>\n",
       "      <td>Month-to-month</td>\n",
       "      <td>No</td>\n",
       "      <td>Mailed check</td>\n",
       "      <td>19.30</td>\n",
       "      <td>54.7</td>\n",
       "      <td>No</td>\n",
       "    </tr>\n",
       "    <tr>\n",
       "      <th>4116</th>\n",
       "      <td>2466-FCCPT</td>\n",
       "      <td>Female</td>\n",
       "      <td>0</td>\n",
       "      <td>Yes</td>\n",
       "      <td>Yes</td>\n",
       "      <td>20</td>\n",
       "      <td>Yes</td>\n",
       "      <td>No</td>\n",
       "      <td>No</td>\n",
       "      <td>No internet service</td>\n",
       "      <td>...</td>\n",
       "      <td>No internet service</td>\n",
       "      <td>No internet service</td>\n",
       "      <td>No internet service</td>\n",
       "      <td>No internet service</td>\n",
       "      <td>One year</td>\n",
       "      <td>No</td>\n",
       "      <td>Bank transfer (automatic)</td>\n",
       "      <td>19.70</td>\n",
       "      <td>395.6</td>\n",
       "      <td>No</td>\n",
       "    </tr>\n",
       "    <tr>\n",
       "      <th>6760</th>\n",
       "      <td>5295-PCJOO</td>\n",
       "      <td>Male</td>\n",
       "      <td>0</td>\n",
       "      <td>No</td>\n",
       "      <td>Yes</td>\n",
       "      <td>4</td>\n",
       "      <td>Yes</td>\n",
       "      <td>No</td>\n",
       "      <td>DSL</td>\n",
       "      <td>Yes</td>\n",
       "      <td>...</td>\n",
       "      <td>No</td>\n",
       "      <td>No</td>\n",
       "      <td>No</td>\n",
       "      <td>No</td>\n",
       "      <td>Month-to-month</td>\n",
       "      <td>Yes</td>\n",
       "      <td>Electronic check</td>\n",
       "      <td>49.40</td>\n",
       "      <td>184.4</td>\n",
       "      <td>Yes</td>\n",
       "    </tr>\n",
       "    <tr>\n",
       "      <th>3422</th>\n",
       "      <td>1837-YQUCE</td>\n",
       "      <td>Female</td>\n",
       "      <td>0</td>\n",
       "      <td>No</td>\n",
       "      <td>No</td>\n",
       "      <td>70</td>\n",
       "      <td>No</td>\n",
       "      <td>No phone service</td>\n",
       "      <td>DSL</td>\n",
       "      <td>Yes</td>\n",
       "      <td>...</td>\n",
       "      <td>Yes</td>\n",
       "      <td>Yes</td>\n",
       "      <td>Yes</td>\n",
       "      <td>Yes</td>\n",
       "      <td>Two year</td>\n",
       "      <td>Yes</td>\n",
       "      <td>Bank transfer (automatic)</td>\n",
       "      <td>58.35</td>\n",
       "      <td>4214.25</td>\n",
       "      <td>No</td>\n",
       "    </tr>\n",
       "    <tr>\n",
       "      <th>5056</th>\n",
       "      <td>3262-EIDHV</td>\n",
       "      <td>Female</td>\n",
       "      <td>0</td>\n",
       "      <td>Yes</td>\n",
       "      <td>Yes</td>\n",
       "      <td>72</td>\n",
       "      <td>Yes</td>\n",
       "      <td>Yes</td>\n",
       "      <td>DSL</td>\n",
       "      <td>Yes</td>\n",
       "      <td>...</td>\n",
       "      <td>Yes</td>\n",
       "      <td>Yes</td>\n",
       "      <td>Yes</td>\n",
       "      <td>Yes</td>\n",
       "      <td>Two year</td>\n",
       "      <td>No</td>\n",
       "      <td>Credit card (automatic)</td>\n",
       "      <td>84.70</td>\n",
       "      <td>5893.9</td>\n",
       "      <td>No</td>\n",
       "    </tr>\n",
       "    <tr>\n",
       "      <th>4754</th>\n",
       "      <td>2072-ZVJJX</td>\n",
       "      <td>Male</td>\n",
       "      <td>0</td>\n",
       "      <td>Yes</td>\n",
       "      <td>No</td>\n",
       "      <td>68</td>\n",
       "      <td>Yes</td>\n",
       "      <td>Yes</td>\n",
       "      <td>No</td>\n",
       "      <td>No internet service</td>\n",
       "      <td>...</td>\n",
       "      <td>No internet service</td>\n",
       "      <td>No internet service</td>\n",
       "      <td>No internet service</td>\n",
       "      <td>No internet service</td>\n",
       "      <td>Two year</td>\n",
       "      <td>No</td>\n",
       "      <td>Bank transfer (automatic)</td>\n",
       "      <td>25.25</td>\n",
       "      <td>1728.2</td>\n",
       "      <td>No</td>\n",
       "    </tr>\n",
       "    <tr>\n",
       "      <th>426</th>\n",
       "      <td>2806-MLNTI</td>\n",
       "      <td>Male</td>\n",
       "      <td>1</td>\n",
       "      <td>Yes</td>\n",
       "      <td>No</td>\n",
       "      <td>52</td>\n",
       "      <td>Yes</td>\n",
       "      <td>Yes</td>\n",
       "      <td>Fiber optic</td>\n",
       "      <td>No</td>\n",
       "      <td>...</td>\n",
       "      <td>Yes</td>\n",
       "      <td>No</td>\n",
       "      <td>Yes</td>\n",
       "      <td>Yes</td>\n",
       "      <td>One year</td>\n",
       "      <td>Yes</td>\n",
       "      <td>Bank transfer (automatic)</td>\n",
       "      <td>105.10</td>\n",
       "      <td>5376.4</td>\n",
       "      <td>No</td>\n",
       "    </tr>\n",
       "    <tr>\n",
       "      <th>1359</th>\n",
       "      <td>7943-RQCHR</td>\n",
       "      <td>Female</td>\n",
       "      <td>0</td>\n",
       "      <td>No</td>\n",
       "      <td>No</td>\n",
       "      <td>9</td>\n",
       "      <td>Yes</td>\n",
       "      <td>Yes</td>\n",
       "      <td>Fiber optic</td>\n",
       "      <td>No</td>\n",
       "      <td>...</td>\n",
       "      <td>No</td>\n",
       "      <td>No</td>\n",
       "      <td>Yes</td>\n",
       "      <td>Yes</td>\n",
       "      <td>Month-to-month</td>\n",
       "      <td>Yes</td>\n",
       "      <td>Electronic check</td>\n",
       "      <td>94.75</td>\n",
       "      <td>889.9</td>\n",
       "      <td>Yes</td>\n",
       "    </tr>\n",
       "    <tr>\n",
       "      <th>229</th>\n",
       "      <td>0945-TSONX</td>\n",
       "      <td>Female</td>\n",
       "      <td>0</td>\n",
       "      <td>Yes</td>\n",
       "      <td>Yes</td>\n",
       "      <td>47</td>\n",
       "      <td>Yes</td>\n",
       "      <td>Yes</td>\n",
       "      <td>DSL</td>\n",
       "      <td>Yes</td>\n",
       "      <td>...</td>\n",
       "      <td>No</td>\n",
       "      <td>Yes</td>\n",
       "      <td>Yes</td>\n",
       "      <td>Yes</td>\n",
       "      <td>Two year</td>\n",
       "      <td>Yes</td>\n",
       "      <td>Credit card (automatic)</td>\n",
       "      <td>85.30</td>\n",
       "      <td>4107.25</td>\n",
       "      <td>No</td>\n",
       "    </tr>\n",
       "    <tr>\n",
       "      <th>1719</th>\n",
       "      <td>2081-VEYEH</td>\n",
       "      <td>Male</td>\n",
       "      <td>0</td>\n",
       "      <td>No</td>\n",
       "      <td>No</td>\n",
       "      <td>3</td>\n",
       "      <td>Yes</td>\n",
       "      <td>No</td>\n",
       "      <td>Fiber optic</td>\n",
       "      <td>No</td>\n",
       "      <td>...</td>\n",
       "      <td>Yes</td>\n",
       "      <td>Yes</td>\n",
       "      <td>Yes</td>\n",
       "      <td>Yes</td>\n",
       "      <td>Month-to-month</td>\n",
       "      <td>Yes</td>\n",
       "      <td>Electronic check</td>\n",
       "      <td>107.95</td>\n",
       "      <td>318.6</td>\n",
       "      <td>No</td>\n",
       "    </tr>\n",
       "  </tbody>\n",
       "</table>\n",
       "<p>10 rows × 21 columns</p>\n",
       "</div>"
      ],
      "text/plain": [
       "      customerID  gender  SeniorCitizen Partner Dependents  tenure  \\\n",
       "3808  7785-RDVIG  Female              0     Yes        Yes       3   \n",
       "4116  2466-FCCPT  Female              0     Yes        Yes      20   \n",
       "6760  5295-PCJOO    Male              0      No        Yes       4   \n",
       "3422  1837-YQUCE  Female              0      No         No      70   \n",
       "5056  3262-EIDHV  Female              0     Yes        Yes      72   \n",
       "4754  2072-ZVJJX    Male              0     Yes         No      68   \n",
       "426   2806-MLNTI    Male              1     Yes         No      52   \n",
       "1359  7943-RQCHR  Female              0      No         No       9   \n",
       "229   0945-TSONX  Female              0     Yes        Yes      47   \n",
       "1719  2081-VEYEH    Male              0      No         No       3   \n",
       "\n",
       "     PhoneService     MultipleLines InternetService       OnlineSecurity  ...  \\\n",
       "3808          Yes                No              No  No internet service  ...   \n",
       "4116          Yes                No              No  No internet service  ...   \n",
       "6760          Yes                No             DSL                  Yes  ...   \n",
       "3422           No  No phone service             DSL                  Yes  ...   \n",
       "5056          Yes               Yes             DSL                  Yes  ...   \n",
       "4754          Yes               Yes              No  No internet service  ...   \n",
       "426           Yes               Yes     Fiber optic                   No  ...   \n",
       "1359          Yes               Yes     Fiber optic                   No  ...   \n",
       "229           Yes               Yes             DSL                  Yes  ...   \n",
       "1719          Yes                No     Fiber optic                   No  ...   \n",
       "\n",
       "         DeviceProtection          TechSupport          StreamingTV  \\\n",
       "3808  No internet service  No internet service  No internet service   \n",
       "4116  No internet service  No internet service  No internet service   \n",
       "6760                   No                   No                   No   \n",
       "3422                  Yes                  Yes                  Yes   \n",
       "5056                  Yes                  Yes                  Yes   \n",
       "4754  No internet service  No internet service  No internet service   \n",
       "426                   Yes                   No                  Yes   \n",
       "1359                   No                   No                  Yes   \n",
       "229                    No                  Yes                  Yes   \n",
       "1719                  Yes                  Yes                  Yes   \n",
       "\n",
       "          StreamingMovies        Contract PaperlessBilling  \\\n",
       "3808  No internet service  Month-to-month               No   \n",
       "4116  No internet service        One year               No   \n",
       "6760                   No  Month-to-month              Yes   \n",
       "3422                  Yes        Two year              Yes   \n",
       "5056                  Yes        Two year               No   \n",
       "4754  No internet service        Two year               No   \n",
       "426                   Yes        One year              Yes   \n",
       "1359                  Yes  Month-to-month              Yes   \n",
       "229                   Yes        Two year              Yes   \n",
       "1719                  Yes  Month-to-month              Yes   \n",
       "\n",
       "                  PaymentMethod MonthlyCharges  TotalCharges Churn  \n",
       "3808               Mailed check          19.30          54.7    No  \n",
       "4116  Bank transfer (automatic)          19.70         395.6    No  \n",
       "6760           Electronic check          49.40         184.4   Yes  \n",
       "3422  Bank transfer (automatic)          58.35       4214.25    No  \n",
       "5056    Credit card (automatic)          84.70        5893.9    No  \n",
       "4754  Bank transfer (automatic)          25.25        1728.2    No  \n",
       "426   Bank transfer (automatic)         105.10        5376.4    No  \n",
       "1359           Electronic check          94.75         889.9   Yes  \n",
       "229     Credit card (automatic)          85.30       4107.25    No  \n",
       "1719           Electronic check         107.95         318.6    No  \n",
       "\n",
       "[10 rows x 21 columns]"
      ]
     },
     "execution_count": 1,
     "metadata": {},
     "output_type": "execute_result"
    }
   ],
   "source": [
    "import pandas as pd\n",
    "df = pd.read_csv('telco.csv')\n",
    "df.sample(10)"
   ]
  },
  {
   "cell_type": "markdown",
   "id": "8c3bef87",
   "metadata": {},
   "source": [
    "#### Automate it! (Minimal Effort, Maximal Gain)"
   ]
  },
  {
   "cell_type": "code",
   "execution_count": null,
   "id": "e090e37c",
   "metadata": {
    "tags": [
     "hide-input"
    ]
   },
   "outputs": [],
   "source": [
    "from ydata_profiling import ProfileReport\n",
    "profile = ProfileReport(df, title=\"Profiling Report\")\n",
    "profile.to_file(\"profiling_report.html\")\n",
    "profile.to_notebook_iframe()"
   ]
  },
  {
   "cell_type": "markdown",
   "id": "fa37b34e",
   "metadata": {},
   "source": [
    "![Auto Eda](https://raw.githubusercontent.com/rezahabibi96/GitBook/refs/heads/main/.gitbook/assets/refreshment-course-for-data-science%20and-business-intelligence-certification/profiling_report.jpeg)"
   ]
  },
  {
   "cell_type": "markdown",
   "id": "3ed53f58",
   "metadata": {},
   "source": [
    "### Data Preprocessing"
   ]
  },
  {
   "cell_type": "code",
   "execution_count": null,
   "id": "65eed063",
   "metadata": {
    "tags": [
     "hide-input"
    ]
   },
   "outputs": [],
   "source": [
    "from sklearn.pipeline import Pipeline\n",
    "from sklearn.compose import ColumnTransformer\n",
    "from sklearn.impute import SimpleImputer\n",
    "from sklearn.preprocessing import StandardScaler, OrdinalEncoder, OneHotEncoder, LabelEncoder\n",
    "\n",
    "ids_cols = ['customerID']\n",
    "num_cols = ['MonthlyCharges', 'tenure']\n",
    "txt_cols = ['TotalCharges']\n",
    "tgt_cols = ['Churn']\n",
    "cat_cols = list(set(df.columns) - set(ids_cols) - set(num_cols) - set(txt_cols) - set(tgt_cols))\n",
    "\n",
    "numeric_transformer = Pipeline(steps=[\n",
    "    ('imputer', SimpleImputer(strategy='mean')),\n",
    "    ('scaler', StandardScaler())\n",
    "])\n",
    "\n",
    "categorical_transformer = Pipeline(steps=[\n",
    "    ('imputer', SimpleImputer(strategy='most_frequent')),\n",
    "    ('encoder', OrdinalEncoder())\n",
    "])\n",
    "\n",
    "preprocessor = ColumnTransformer(transformers=[\n",
    "    ('num', numeric_transformer.set_output(transform=\"pandas\"), num_cols),\n",
    "    ('cat', categorical_transformer.set_output(transform=\"pandas\"), cat_cols)\n",
    "])\n",
    "\n",
    "X = preprocessor.fit_transform(df.drop(columns=['Churn'], axis=1))\n",
    "y = LabelEncoder().fit_transform(df['Churn'])"
   ]
  },
  {
   "cell_type": "markdown",
   "id": "88b40425",
   "metadata": {},
   "source": [
    "### Model Building"
   ]
  },
  {
   "cell_type": "code",
   "execution_count": null,
   "id": "88026a73",
   "metadata": {
    "tags": [
     "hide-input"
    ]
   },
   "outputs": [
    {
     "name": "stdout",
     "output_type": "stream",
     "text": [
      "              precision    recall  f1-score   support\n",
      "\n",
      "           0       0.85      0.90      0.88      1282\n",
      "           1       0.69      0.57      0.63       479\n",
      "\n",
      "    accuracy                           0.81      1761\n",
      "   macro avg       0.77      0.74      0.75      1761\n",
      "weighted avg       0.81      0.81      0.81      1761\n",
      "\n"
     ]
    }
   ],
   "source": [
    "from sklearn.model_selection import train_test_split\n",
    "from sklearn.metrics import confusion_matrix, classification_report, accuracy_score\n",
    "from sklearn.linear_model import LogisticRegression\n",
    "\n",
    "X_train, X_test, y_train, y_test=train_test_split(X, y, test_size=0.25, random_state=42)\n",
    "LR = LogisticRegression()\n",
    "\n",
    "model = LR.fit(X_train, y_train)\n",
    "y_pred = model.predict(X_test)\n",
    "\n",
    "print(classification_report(y_test, y_pred))"
   ]
  },
  {
   "cell_type": "markdown",
   "id": "718c7d04",
   "metadata": {},
   "source": [
    "### Low Code Machine Learning with PyCaret"
   ]
  },
  {
   "cell_type": "markdown",
   "id": "07458db9",
   "metadata": {},
   "source": [
    "As we can see in the Data Preprocessing and Model Building steps, these often involve repetitive workflows. At this point, we should ask ourselves: Is it really necessary to perform every step manually? Do these steps directly help us answer our main objective, in this case, preventing more customer churn, or could we use more automated tools as long as they allow us to achieve the same goal effectively?"
   ]
  },
  {
   "cell_type": "code",
   "execution_count": null,
   "id": "dba02e4b",
   "metadata": {
    "tags": [
     "hide-input"
    ]
   },
   "outputs": [
    {
     "data": {
      "text/html": [],
      "text/plain": [
       "<IPython.core.display.HTML object>"
      ]
     },
     "metadata": {},
     "output_type": "display_data"
    },
    {
     "data": {
      "text/html": [
       "<style type=\"text/css\">\n",
       "#T_6b964 th {\n",
       "  text-align: left;\n",
       "}\n",
       "#T_6b964_row0_col0, #T_6b964_row0_col2, #T_6b964_row1_col0, #T_6b964_row1_col1, #T_6b964_row1_col2, #T_6b964_row1_col3, #T_6b964_row1_col4, #T_6b964_row1_col5, #T_6b964_row1_col6, #T_6b964_row1_col7, #T_6b964_row2_col0, #T_6b964_row2_col1, #T_6b964_row2_col2, #T_6b964_row2_col3, #T_6b964_row2_col4, #T_6b964_row2_col5, #T_6b964_row2_col6, #T_6b964_row2_col7, #T_6b964_row3_col0, #T_6b964_row3_col1, #T_6b964_row3_col3, #T_6b964_row3_col4, #T_6b964_row3_col5, #T_6b964_row3_col6, #T_6b964_row3_col7, #T_6b964_row4_col0, #T_6b964_row4_col1, #T_6b964_row4_col2, #T_6b964_row4_col3, #T_6b964_row4_col4, #T_6b964_row4_col5, #T_6b964_row4_col6, #T_6b964_row4_col7, #T_6b964_row5_col0, #T_6b964_row5_col1, #T_6b964_row5_col2, #T_6b964_row5_col3, #T_6b964_row5_col4, #T_6b964_row5_col5, #T_6b964_row5_col6, #T_6b964_row5_col7, #T_6b964_row6_col0, #T_6b964_row6_col1, #T_6b964_row6_col2, #T_6b964_row6_col3, #T_6b964_row6_col4, #T_6b964_row6_col5, #T_6b964_row6_col6, #T_6b964_row6_col7, #T_6b964_row7_col0, #T_6b964_row7_col1, #T_6b964_row7_col2, #T_6b964_row7_col3, #T_6b964_row7_col4, #T_6b964_row7_col5, #T_6b964_row7_col6, #T_6b964_row7_col7, #T_6b964_row8_col0, #T_6b964_row8_col1, #T_6b964_row8_col2, #T_6b964_row8_col3, #T_6b964_row8_col4, #T_6b964_row8_col5, #T_6b964_row8_col6, #T_6b964_row8_col7, #T_6b964_row9_col0, #T_6b964_row9_col1, #T_6b964_row9_col2, #T_6b964_row9_col3, #T_6b964_row9_col4, #T_6b964_row9_col5, #T_6b964_row9_col6, #T_6b964_row9_col7, #T_6b964_row10_col0, #T_6b964_row10_col1, #T_6b964_row10_col2, #T_6b964_row10_col3, #T_6b964_row10_col4, #T_6b964_row10_col5, #T_6b964_row10_col6, #T_6b964_row10_col7, #T_6b964_row11_col0, #T_6b964_row11_col1, #T_6b964_row11_col2, #T_6b964_row11_col3, #T_6b964_row11_col4, #T_6b964_row11_col5, #T_6b964_row11_col6, #T_6b964_row11_col7, #T_6b964_row12_col0, #T_6b964_row12_col1, #T_6b964_row12_col2, #T_6b964_row12_col3, #T_6b964_row12_col4, #T_6b964_row12_col5, #T_6b964_row12_col6, #T_6b964_row12_col7, #T_6b964_row13_col0, #T_6b964_row13_col1, #T_6b964_row13_col2, #T_6b964_row13_col3, #T_6b964_row13_col4, #T_6b964_row13_col5, #T_6b964_row13_col6, #T_6b964_row13_col7 {\n",
       "  text-align: left;\n",
       "}\n",
       "#T_6b964_row0_col1, #T_6b964_row0_col3, #T_6b964_row0_col4, #T_6b964_row0_col5, #T_6b964_row0_col6, #T_6b964_row0_col7, #T_6b964_row3_col2 {\n",
       "  text-align: left;\n",
       "  background-color: yellow;\n",
       "}\n",
       "#T_6b964_row0_col8, #T_6b964_row1_col8, #T_6b964_row2_col8, #T_6b964_row3_col8, #T_6b964_row4_col8, #T_6b964_row5_col8, #T_6b964_row6_col8, #T_6b964_row8_col8, #T_6b964_row9_col8, #T_6b964_row10_col8, #T_6b964_row11_col8, #T_6b964_row12_col8, #T_6b964_row13_col8 {\n",
       "  text-align: left;\n",
       "  background-color: lightgrey;\n",
       "}\n",
       "#T_6b964_row7_col8 {\n",
       "  text-align: left;\n",
       "  background-color: yellow;\n",
       "  background-color: lightgrey;\n",
       "}\n",
       "</style>\n",
       "<table id=\"T_6b964\">\n",
       "  <thead>\n",
       "    <tr>\n",
       "      <th class=\"blank level0\" >&nbsp;</th>\n",
       "      <th id=\"T_6b964_level0_col0\" class=\"col_heading level0 col0\" >Model</th>\n",
       "      <th id=\"T_6b964_level0_col1\" class=\"col_heading level0 col1\" >Accuracy</th>\n",
       "      <th id=\"T_6b964_level0_col2\" class=\"col_heading level0 col2\" >AUC</th>\n",
       "      <th id=\"T_6b964_level0_col3\" class=\"col_heading level0 col3\" >Recall</th>\n",
       "      <th id=\"T_6b964_level0_col4\" class=\"col_heading level0 col4\" >Prec.</th>\n",
       "      <th id=\"T_6b964_level0_col5\" class=\"col_heading level0 col5\" >F1</th>\n",
       "      <th id=\"T_6b964_level0_col6\" class=\"col_heading level0 col6\" >Kappa</th>\n",
       "      <th id=\"T_6b964_level0_col7\" class=\"col_heading level0 col7\" >MCC</th>\n",
       "      <th id=\"T_6b964_level0_col8\" class=\"col_heading level0 col8\" >TT (Sec)</th>\n",
       "    </tr>\n",
       "  </thead>\n",
       "  <tbody>\n",
       "    <tr>\n",
       "      <th id=\"T_6b964_level0_row0\" class=\"row_heading level0 row0\" >nb</th>\n",
       "      <td id=\"T_6b964_row0_col0\" class=\"data row0 col0\" >Naive Bayes</td>\n",
       "      <td id=\"T_6b964_row0_col1\" class=\"data row0 col1\" >0.7789</td>\n",
       "      <td id=\"T_6b964_row0_col2\" class=\"data row0 col2\" >0.8060</td>\n",
       "      <td id=\"T_6b964_row0_col3\" class=\"data row0 col3\" >0.7789</td>\n",
       "      <td id=\"T_6b964_row0_col4\" class=\"data row0 col4\" >0.7727</td>\n",
       "      <td id=\"T_6b964_row0_col5\" class=\"data row0 col5\" >0.7741</td>\n",
       "      <td id=\"T_6b964_row0_col6\" class=\"data row0 col6\" >0.4110</td>\n",
       "      <td id=\"T_6b964_row0_col7\" class=\"data row0 col7\" >0.4139</td>\n",
       "      <td id=\"T_6b964_row0_col8\" class=\"data row0 col8\" >0.0830</td>\n",
       "    </tr>\n",
       "    <tr>\n",
       "      <th id=\"T_6b964_level0_row1\" class=\"row_heading level0 row1\" >knn</th>\n",
       "      <td id=\"T_6b964_row1_col0\" class=\"data row1 col0\" >K Neighbors Classifier</td>\n",
       "      <td id=\"T_6b964_row1_col1\" class=\"data row1 col1\" >0.7716</td>\n",
       "      <td id=\"T_6b964_row1_col2\" class=\"data row1 col2\" >0.7792</td>\n",
       "      <td id=\"T_6b964_row1_col3\" class=\"data row1 col3\" >0.7716</td>\n",
       "      <td id=\"T_6b964_row1_col4\" class=\"data row1 col4\" >0.7642</td>\n",
       "      <td id=\"T_6b964_row1_col5\" class=\"data row1 col5\" >0.7667</td>\n",
       "      <td id=\"T_6b964_row1_col6\" class=\"data row1 col6\" >0.3912</td>\n",
       "      <td id=\"T_6b964_row1_col7\" class=\"data row1 col7\" >0.3932</td>\n",
       "      <td id=\"T_6b964_row1_col8\" class=\"data row1 col8\" >0.0880</td>\n",
       "    </tr>\n",
       "    <tr>\n",
       "      <th id=\"T_6b964_level0_row2\" class=\"row_heading level0 row2\" >qda</th>\n",
       "      <td id=\"T_6b964_row2_col0\" class=\"data row2 col0\" >Quadratic Discriminant Analysis</td>\n",
       "      <td id=\"T_6b964_row2_col1\" class=\"data row2 col1\" >0.7576</td>\n",
       "      <td id=\"T_6b964_row2_col2\" class=\"data row2 col2\" >0.7972</td>\n",
       "      <td id=\"T_6b964_row2_col3\" class=\"data row2 col3\" >0.7576</td>\n",
       "      <td id=\"T_6b964_row2_col4\" class=\"data row2 col4\" >0.7248</td>\n",
       "      <td id=\"T_6b964_row2_col5\" class=\"data row2 col5\" >0.7100</td>\n",
       "      <td id=\"T_6b964_row2_col6\" class=\"data row2 col6\" >0.2137</td>\n",
       "      <td id=\"T_6b964_row2_col7\" class=\"data row2 col7\" >0.2494</td>\n",
       "      <td id=\"T_6b964_row2_col8\" class=\"data row2 col8\" >0.0830</td>\n",
       "    </tr>\n",
       "    <tr>\n",
       "      <th id=\"T_6b964_level0_row3\" class=\"row_heading level0 row3\" >lr</th>\n",
       "      <td id=\"T_6b964_row3_col0\" class=\"data row3 col0\" >Logistic Regression</td>\n",
       "      <td id=\"T_6b964_row3_col1\" class=\"data row3 col1\" >0.7550</td>\n",
       "      <td id=\"T_6b964_row3_col2\" class=\"data row3 col2\" >0.8296</td>\n",
       "      <td id=\"T_6b964_row3_col3\" class=\"data row3 col3\" >0.7550</td>\n",
       "      <td id=\"T_6b964_row3_col4\" class=\"data row3 col4\" >0.7408</td>\n",
       "      <td id=\"T_6b964_row3_col5\" class=\"data row3 col5\" >0.6890</td>\n",
       "      <td id=\"T_6b964_row3_col6\" class=\"data row3 col6\" >0.1566</td>\n",
       "      <td id=\"T_6b964_row3_col7\" class=\"data row3 col7\" >0.2285</td>\n",
       "      <td id=\"T_6b964_row3_col8\" class=\"data row3 col8\" >0.1650</td>\n",
       "    </tr>\n",
       "    <tr>\n",
       "      <th id=\"T_6b964_level0_row4\" class=\"row_heading level0 row4\" >rf</th>\n",
       "      <td id=\"T_6b964_row4_col0\" class=\"data row4 col0\" >Random Forest Classifier</td>\n",
       "      <td id=\"T_6b964_row4_col1\" class=\"data row4 col1\" >0.7501</td>\n",
       "      <td id=\"T_6b964_row4_col2\" class=\"data row4 col2\" >0.7778</td>\n",
       "      <td id=\"T_6b964_row4_col3\" class=\"data row4 col3\" >0.7501</td>\n",
       "      <td id=\"T_6b964_row4_col4\" class=\"data row4 col4\" >0.7130</td>\n",
       "      <td id=\"T_6b964_row4_col5\" class=\"data row4 col5\" >0.6983</td>\n",
       "      <td id=\"T_6b964_row4_col6\" class=\"data row4 col6\" >0.1819</td>\n",
       "      <td id=\"T_6b964_row4_col7\" class=\"data row4 col7\" >0.2174</td>\n",
       "      <td id=\"T_6b964_row4_col8\" class=\"data row4 col8\" >0.1780</td>\n",
       "    </tr>\n",
       "    <tr>\n",
       "      <th id=\"T_6b964_level0_row5\" class=\"row_heading level0 row5\" >svm</th>\n",
       "      <td id=\"T_6b964_row5_col0\" class=\"data row5 col0\" >SVM - Linear Kernel</td>\n",
       "      <td id=\"T_6b964_row5_col1\" class=\"data row5 col1\" >0.7462</td>\n",
       "      <td id=\"T_6b964_row5_col2\" class=\"data row5 col2\" >0.7937</td>\n",
       "      <td id=\"T_6b964_row5_col3\" class=\"data row5 col3\" >0.7462</td>\n",
       "      <td id=\"T_6b964_row5_col4\" class=\"data row5 col4\" >0.7132</td>\n",
       "      <td id=\"T_6b964_row5_col5\" class=\"data row5 col5\" >0.6917</td>\n",
       "      <td id=\"T_6b964_row5_col6\" class=\"data row5 col6\" >0.2081</td>\n",
       "      <td id=\"T_6b964_row5_col7\" class=\"data row5 col7\" >0.2471</td>\n",
       "      <td id=\"T_6b964_row5_col8\" class=\"data row5 col8\" >0.0870</td>\n",
       "    </tr>\n",
       "    <tr>\n",
       "      <th id=\"T_6b964_level0_row6\" class=\"row_heading level0 row6\" >ridge</th>\n",
       "      <td id=\"T_6b964_row6_col0\" class=\"data row6 col0\" >Ridge Classifier</td>\n",
       "      <td id=\"T_6b964_row6_col1\" class=\"data row6 col1\" >0.7385</td>\n",
       "      <td id=\"T_6b964_row6_col2\" class=\"data row6 col2\" >0.7839</td>\n",
       "      <td id=\"T_6b964_row6_col3\" class=\"data row6 col3\" >0.7385</td>\n",
       "      <td id=\"T_6b964_row6_col4\" class=\"data row6 col4\" >0.6907</td>\n",
       "      <td id=\"T_6b964_row6_col5\" class=\"data row6 col5\" >0.6592</td>\n",
       "      <td id=\"T_6b964_row6_col6\" class=\"data row6 col6\" >0.0793</td>\n",
       "      <td id=\"T_6b964_row6_col7\" class=\"data row6 col7\" >0.1278</td>\n",
       "      <td id=\"T_6b964_row6_col8\" class=\"data row6 col8\" >0.0830</td>\n",
       "    </tr>\n",
       "    <tr>\n",
       "      <th id=\"T_6b964_level0_row7\" class=\"row_heading level0 row7\" >lda</th>\n",
       "      <td id=\"T_6b964_row7_col0\" class=\"data row7 col0\" >Linear Discriminant Analysis</td>\n",
       "      <td id=\"T_6b964_row7_col1\" class=\"data row7 col1\" >0.7385</td>\n",
       "      <td id=\"T_6b964_row7_col2\" class=\"data row7 col2\" >0.7338</td>\n",
       "      <td id=\"T_6b964_row7_col3\" class=\"data row7 col3\" >0.7385</td>\n",
       "      <td id=\"T_6b964_row7_col4\" class=\"data row7 col4\" >0.6907</td>\n",
       "      <td id=\"T_6b964_row7_col5\" class=\"data row7 col5\" >0.6592</td>\n",
       "      <td id=\"T_6b964_row7_col6\" class=\"data row7 col6\" >0.0793</td>\n",
       "      <td id=\"T_6b964_row7_col7\" class=\"data row7 col7\" >0.1278</td>\n",
       "      <td id=\"T_6b964_row7_col8\" class=\"data row7 col8\" >0.0780</td>\n",
       "    </tr>\n",
       "    <tr>\n",
       "      <th id=\"T_6b964_level0_row8\" class=\"row_heading level0 row8\" >et</th>\n",
       "      <td id=\"T_6b964_row8_col0\" class=\"data row8 col0\" >Extra Trees Classifier</td>\n",
       "      <td id=\"T_6b964_row8_col1\" class=\"data row8 col1\" >0.7379</td>\n",
       "      <td id=\"T_6b964_row8_col2\" class=\"data row8 col2\" >0.7473</td>\n",
       "      <td id=\"T_6b964_row8_col3\" class=\"data row8 col3\" >0.7379</td>\n",
       "      <td id=\"T_6b964_row8_col4\" class=\"data row8 col4\" >0.6890</td>\n",
       "      <td id=\"T_6b964_row8_col5\" class=\"data row8 col5\" >0.6710</td>\n",
       "      <td id=\"T_6b964_row8_col6\" class=\"data row8 col6\" >0.1069</td>\n",
       "      <td id=\"T_6b964_row8_col7\" class=\"data row8 col7\" >0.1467</td>\n",
       "      <td id=\"T_6b964_row8_col8\" class=\"data row8 col8\" >0.1600</td>\n",
       "    </tr>\n",
       "    <tr>\n",
       "      <th id=\"T_6b964_level0_row9\" class=\"row_heading level0 row9\" >lightgbm</th>\n",
       "      <td id=\"T_6b964_row9_col0\" class=\"data row9 col0\" >Light Gradient Boosting Machine</td>\n",
       "      <td id=\"T_6b964_row9_col1\" class=\"data row9 col1\" >0.7349</td>\n",
       "      <td id=\"T_6b964_row9_col2\" class=\"data row9 col2\" >0.7311</td>\n",
       "      <td id=\"T_6b964_row9_col3\" class=\"data row9 col3\" >0.7349</td>\n",
       "      <td id=\"T_6b964_row9_col4\" class=\"data row9 col4\" >0.7270</td>\n",
       "      <td id=\"T_6b964_row9_col5\" class=\"data row9 col5\" >0.7271</td>\n",
       "      <td id=\"T_6b964_row9_col6\" class=\"data row9 col6\" >0.2888</td>\n",
       "      <td id=\"T_6b964_row9_col7\" class=\"data row9 col7\" >0.2942</td>\n",
       "      <td id=\"T_6b964_row9_col8\" class=\"data row9 col8\" >0.2100</td>\n",
       "    </tr>\n",
       "    <tr>\n",
       "      <th id=\"T_6b964_level0_row10\" class=\"row_heading level0 row10\" >dummy</th>\n",
       "      <td id=\"T_6b964_row10_col0\" class=\"data row10 col0\" >Dummy Classifier</td>\n",
       "      <td id=\"T_6b964_row10_col1\" class=\"data row10 col1\" >0.7347</td>\n",
       "      <td id=\"T_6b964_row10_col2\" class=\"data row10 col2\" >0.5000</td>\n",
       "      <td id=\"T_6b964_row10_col3\" class=\"data row10 col3\" >0.7347</td>\n",
       "      <td id=\"T_6b964_row10_col4\" class=\"data row10 col4\" >0.5398</td>\n",
       "      <td id=\"T_6b964_row10_col5\" class=\"data row10 col5\" >0.6223</td>\n",
       "      <td id=\"T_6b964_row10_col6\" class=\"data row10 col6\" >0.0000</td>\n",
       "      <td id=\"T_6b964_row10_col7\" class=\"data row10 col7\" >0.0000</td>\n",
       "      <td id=\"T_6b964_row10_col8\" class=\"data row10 col8\" >0.0920</td>\n",
       "    </tr>\n",
       "    <tr>\n",
       "      <th id=\"T_6b964_level0_row11\" class=\"row_heading level0 row11\" >ada</th>\n",
       "      <td id=\"T_6b964_row11_col0\" class=\"data row11 col0\" >Ada Boost Classifier</td>\n",
       "      <td id=\"T_6b964_row11_col1\" class=\"data row11 col1\" >0.6848</td>\n",
       "      <td id=\"T_6b964_row11_col2\" class=\"data row11 col2\" >0.7266</td>\n",
       "      <td id=\"T_6b964_row11_col3\" class=\"data row11 col3\" >0.6848</td>\n",
       "      <td id=\"T_6b964_row11_col4\" class=\"data row11 col4\" >0.7221</td>\n",
       "      <td id=\"T_6b964_row11_col5\" class=\"data row11 col5\" >0.6956</td>\n",
       "      <td id=\"T_6b964_row11_col6\" class=\"data row11 col6\" >0.2707</td>\n",
       "      <td id=\"T_6b964_row11_col7\" class=\"data row11 col7\" >0.2786</td>\n",
       "      <td id=\"T_6b964_row11_col8\" class=\"data row11 col8\" >0.1230</td>\n",
       "    </tr>\n",
       "    <tr>\n",
       "      <th id=\"T_6b964_level0_row12\" class=\"row_heading level0 row12\" >gbc</th>\n",
       "      <td id=\"T_6b964_row12_col0\" class=\"data row12 col0\" >Gradient Boosting Classifier</td>\n",
       "      <td id=\"T_6b964_row12_col1\" class=\"data row12 col1\" >0.6777</td>\n",
       "      <td id=\"T_6b964_row12_col2\" class=\"data row12 col2\" >0.6702</td>\n",
       "      <td id=\"T_6b964_row12_col3\" class=\"data row12 col3\" >0.6777</td>\n",
       "      <td id=\"T_6b964_row12_col4\" class=\"data row12 col4\" >0.6892</td>\n",
       "      <td id=\"T_6b964_row12_col5\" class=\"data row12 col5\" >0.6690</td>\n",
       "      <td id=\"T_6b964_row12_col6\" class=\"data row12 col6\" >0.1716</td>\n",
       "      <td id=\"T_6b964_row12_col7\" class=\"data row12 col7\" >0.1857</td>\n",
       "      <td id=\"T_6b964_row12_col8\" class=\"data row12 col8\" >0.2200</td>\n",
       "    </tr>\n",
       "    <tr>\n",
       "      <th id=\"T_6b964_level0_row13\" class=\"row_heading level0 row13\" >dt</th>\n",
       "      <td id=\"T_6b964_row13_col0\" class=\"data row13 col0\" >Decision Tree Classifier</td>\n",
       "      <td id=\"T_6b964_row13_col1\" class=\"data row13 col1\" >0.5262</td>\n",
       "      <td id=\"T_6b964_row13_col2\" class=\"data row13 col2\" >0.5046</td>\n",
       "      <td id=\"T_6b964_row13_col3\" class=\"data row13 col3\" >0.5262</td>\n",
       "      <td id=\"T_6b964_row13_col4\" class=\"data row13 col4\" >0.6230</td>\n",
       "      <td id=\"T_6b964_row13_col5\" class=\"data row13 col5\" >0.5306</td>\n",
       "      <td id=\"T_6b964_row13_col6\" class=\"data row13 col6\" >0.0122</td>\n",
       "      <td id=\"T_6b964_row13_col7\" class=\"data row13 col7\" >0.0212</td>\n",
       "      <td id=\"T_6b964_row13_col8\" class=\"data row13 col8\" >0.1240</td>\n",
       "    </tr>\n",
       "  </tbody>\n",
       "</table>\n"
      ],
      "text/plain": [
       "<pandas.io.formats.style.Styler at 0x1abbf1e9390>"
      ]
     },
     "metadata": {},
     "output_type": "display_data"
    },
    {
     "data": {
      "text/html": [],
      "text/plain": [
       "<IPython.core.display.HTML object>"
      ]
     },
     "metadata": {},
     "output_type": "display_data"
    }
   ],
   "source": [
    "from pycaret.classification import *\n",
    "exp = ClassificationExperiment()\n",
    "exp.setup(df.drop(columns=['customerID'], axis=1), target = 'Churn', session_id = 123)\n",
    "best = exp.compare_models()"
   ]
  },
  {
   "cell_type": "markdown",
   "id": "2acf8431",
   "metadata": {},
   "source": [
    "## Business Intelligence Certification"
   ]
  },
  {
   "cell_type": "markdown",
   "id": "ccf827df",
   "metadata": {},
   "source": [
    "For Business Intelligence certification, the required units include:\n",
    "* Data Collection\n",
    "* Data Exploration\n",
    "* Data Validation\n",
    "* Data Definition\n",
    "* Data Construction\n",
    "* Data Integration\n",
    "* Dashbord Development\n",
    "\n",
    "As of this case, I also believe they could be simplified, such as: \n",
    "* Data Collection\n",
    "* Data Understanding\n",
    "* Business-Centric Objective\n",
    "* Dashboard Development\n",
    "* Dashboard Deployment\n",
    "\n",
    "Several steps, such as Data Integration, are omitted here, since in my view they align more closely with the responsibilities of data engineering rather than Business Intelligence."
   ]
  },
  {
   "cell_type": "markdown",
   "id": "4104305b",
   "metadata": {},
   "source": [
    "### Business-Centric Objective"
   ]
  },
  {
   "cell_type": "markdown",
   "id": "a4ae2ff7",
   "metadata": {},
   "source": [
    "We have covered part of Data Collection and Understanding before, now comes to the most important aspect of business intelligence, that is define the objective constrained by business-centric. This part will be heavily inspired by the Google Looker Guide 'The Art of Telling Stories With Data' that ca be accessed [[2]](https://services.google.com/fh/files/misc/2110-pmk-theartoftellingstorieswith-datas-ebook-8-5x11-en-ck.pdf)."
   ]
  },
  {
   "cell_type": "markdown",
   "id": "5b299dc3",
   "metadata": {},
   "source": [
    "#### Choosing the Right Visualization\n"
   ]
  },
  {
   "cell_type": "markdown",
   "id": "b873eff8",
   "metadata": {},
   "source": [
    "Who is your audience?\n",
    "* Is it an executive who is interested in overall business performance? \n",
    "* Is it the sales team that wants to determine whether or not they will hit their quota for the quarter?\n",
    "* Is it the marketing team that needs to determine if their social media and email campaigns are effective?"
   ]
  },
  {
   "cell_type": "markdown",
   "id": "08f9dffd",
   "metadata": {},
   "source": [
    "What is your goal?\n",
    "* Are you building something that is referential, such as a report?  Or a visualization that’s meant to A CEO or CFO may want to understan how revenue this year compares to last year and the year before that.\n",
    "* Are you creating something that is operational, like a dashboard that people will continually check to help direct their workflow?"
   ]
  },
  {
   "cell_type": "markdown",
   "id": "e66991b6",
   "metadata": {},
   "source": [
    "What are you trying to show or say?\n",
    "* Are you comparing data across different categories  (bar chart)? \n",
    "* Are you highlighting changes over time (line chart)?\n",
    "* Are you presenting a picture of the full data set (scatterplot or histogram)? A clear understanding of all these factors will help you zero in on a visualization that effectively speaks to your audience.\n"
   ]
  },
  {
   "cell_type": "markdown",
   "id": "4fcd3965",
   "metadata": {},
   "source": [
    "#### Different Users Have Different Questions and Require Different Data"
   ]
  },
  {
   "cell_type": "markdown",
   "id": "99922bc9",
   "metadata": {},
   "source": [
    "![Data Granularity](diff_users.jpeg)"
   ]
  },
  {
   "cell_type": "markdown",
   "id": "7b1d94aa",
   "metadata": {},
   "source": [
    "#### Give Context"
   ]
  },
  {
   "cell_type": "markdown",
   "id": "da530341",
   "metadata": {},
   "source": [
    "![Context First](give_context.jpeg)"
   ]
  },
  {
   "cell_type": "markdown",
   "id": "98958bb9",
   "metadata": {},
   "source": [
    "#### Choosing The Right Chart"
   ]
  },
  {
   "cell_type": "markdown",
   "id": "367f1ca3",
   "metadata": {},
   "source": [
    "![Appropriate Chart](right_chart.jpeg)"
   ]
  },
  {
   "cell_type": "markdown",
   "id": "2d5d94cb",
   "metadata": {},
   "source": [
    "#### Use Case"
   ]
  },
  {
   "cell_type": "markdown",
   "id": "181ec69f",
   "metadata": {},
   "source": [
    "![Use Case](use_case.png)"
   ]
  },
  {
   "cell_type": "markdown",
   "id": "1c4a031c",
   "metadata": {},
   "source": [
    "#### PS"
   ]
  },
  {
   "cell_type": "markdown",
   "id": "e01f4af5",
   "metadata": {},
   "source": [
    "The example use case (BI dashboard) mentioned earlier [[3]](https://public.tableau.com/app/profile/kubra.dizlek/viz/TelcoChurnDashboard_17331624461710/Homepage). was built using Tableau. Within the Business Intelligence ecosystem, there are many tools available, ranging from closed-source to open-source solutions.\n",
    "\n",
    "What I would like to emphasize is that tools are just tools. As practitioners, we have the freedom to choose any technology stack, as long as it enables us to deliver insights and effectively address the business problem. You can even rely on something as simple as Excel, or take advantage of emerging Generative AI/LLM-based tools, such as LIDA [[4]](https://microsoft.github.io/lida).\n"
   ]
  },
  {
   "cell_type": "markdown",
   "id": "769b9ce3",
   "metadata": {},
   "source": [
    "{% embed url=\"https://microsoft.github.io/lida/files/lidavid.mp4\" %}"
   ]
  },
  {
   "cell_type": "markdown",
   "id": "57c70dc9",
   "metadata": {},
   "source": [
    "Ultimately, while tools will continue to evolve, the fundamentals of Business Intelligence remain the same."
   ]
  }
 ],
 "metadata": {
  "kernelspec": {
   "display_name": "GitBook",
   "language": "python",
   "name": "python3"
  },
  "language_info": {
   "codemirror_mode": {
    "name": "ipython",
    "version": 3
   },
   "file_extension": ".py",
   "mimetype": "text/x-python",
   "name": "python",
   "nbconvert_exporter": "python",
   "pygments_lexer": "ipython3",
   "version": "3.10.18"
  }
 },
 "nbformat": 4,
 "nbformat_minor": 5
}
