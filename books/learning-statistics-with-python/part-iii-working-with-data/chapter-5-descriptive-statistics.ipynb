{
 "cells": [
  {
   "cell_type": "markdown",
   "id": "221bec8c",
   "metadata": {},
   "source": [
    "# Descriptive Statistics"
   ]
  },
  {
   "cell_type": "markdown",
   "id": "6b1f8078",
   "metadata": {},
   "source": [
    "Any time that you get a new data set to look at, one of the first tasks that you have to do is find ways of summarising the data in a compact, easily understood fashion. This is what descriptive statistics (as opposed to inferential statistics) is all about. In fact, to many people the term “statistics” is synonymous with descriptive statistics. It is this topic that we’ll consider in this chapter, but before going into any details, let’s take a moment to get a sense of why we need descriptive statistics. To do this, let’s load the afl_finalists.csv and afl_margins.csv files. Don’t worry about the Python code for now; we’ll get back to that. For now, we’ll focus on the data."
   ]
  },
  {
   "cell_type": "markdown",
   "id": "d217a588",
   "metadata": {},
   "source": []
  }
 ],
 "metadata": {
  "language_info": {
   "name": "python"
  }
 },
 "nbformat": 4,
 "nbformat_minor": 5
}
