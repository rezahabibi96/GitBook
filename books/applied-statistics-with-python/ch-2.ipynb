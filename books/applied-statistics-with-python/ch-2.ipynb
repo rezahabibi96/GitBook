{
 "cells": [
  {
   "cell_type": "markdown",
   "id": "a712e254",
   "metadata": {},
   "source": [
    "# Chapter 2: Descriptive Data Analysis"
   ]
  },
  {
   "cell_type": "code",
   "execution_count": 4,
   "id": "184ed36d",
   "metadata": {},
   "outputs": [],
   "source": [
    "from IPython.display import Markdown\n",
    "base_path = (\n",
    "    \"https://raw.githubusercontent.com/rezahabibi96/GitBook/refs/heads/main/\"\n",
    "    \"books/applied-statistics-with-python/.resources\"\n",
    ")"
   ]
  },
  {
   "cell_type": "markdown",
   "id": "e42bf651",
   "metadata": {},
   "source": [
    "This chapter reviews the ideas of **Descriptive Statistics** that summarize a sample in terms of means, standard deviations, counts, visualizations, etc. There are no attempts to generalize sample statistics to the entire population (**Inferential Statistics**)."
   ]
  },
  {
   "cell_type": "markdown",
   "id": "b4937cd4",
   "metadata": {},
   "source": [
    "## Numerical Data"
   ]
  },
  {
   "cell_type": "markdown",
   "id": "a3e48899",
   "metadata": {},
   "source": [
    "We defined in the previous introductory chapter numerical data as quantitative data that could be described with numbers. In this chapter, we review standard measures of center and spread of such data. In addition to introducing basic Statistics definitions, we introduce some new ideas such as dealing with NAs, trimmed mean, etc."
   ]
  },
  {
   "cell_type": "markdown",
   "id": "0835829a",
   "metadata": {},
   "source": [
    "### Sample and Population Means"
   ]
  },
  {
   "cell_type": "markdown",
   "id": "69a3d2d0",
   "metadata": {},
   "source": [
    "We start with the most standard measure of center of a numerical sample, the **mean** (average). For a sample of $n$ measurements $x_1, x_2, ..., x_n$, the mean is defined as:"
   ]
  },
  {
   "cell_type": "markdown",
   "id": "9c19cf6c",
   "metadata": {},
   "source": [
    "$$\n",
    "\\bar{x} = \\frac{x_1 + x_2 + ... + x_n}{n} = \\frac{1}{n} \\sum_{i=1}^{n}x_i\n",
    "$$"
   ]
  },
  {
   "cell_type": "markdown",
   "id": "b525d695",
   "metadata": {},
   "source": [
    "The way to compute it depends on whether you are dealing with a small set of data to be typed into an array manually or a data file. Let's first assume that we just have a small data set of heights for students in a class, and we want to find the average. A Python array can be defined with `[]`, but the *numpy* library needs to be imported to use numerical arrays and statistical functions effectively. Numpy arrays are better for Statistics, as they are vectorized (addition, subtraction, and many other operations are automatically done element-by-element) and have a rich set of mathematical functions. First, *np.array()* is defined, then *np.mean* is used to compute the mean. The results are printed with format specifications like {: .4f} to display the desired number of digits rather than the full 16 double-digits-accuracy."
   ]
  },
  {
   "cell_type": "code",
   "execution_count": null,
   "id": "82af55fc",
   "metadata": {
    "tags": [
     "hide-input"
    ]
   },
   "outputs": [
    {
     "name": "stdout",
     "output_type": "stream",
     "text": [
      "xbar = 68.0000 for n = 11 observations\n"
     ]
    }
   ],
   "source": [
    "import numpy as np # numerical library\n",
    "\n",
    "\n",
    "x = np.array([69,64,63,73,74,64,66,70,70,68,67])\n",
    "xbar = np.mean(x)\n",
    "\n",
    "print('xbar = {:.4f} for n = {:d} observations'.format(xbar,len(x)))"
   ]
  },
  {
   "cell_type": "markdown",
   "id": "e4b83c57",
   "metadata": {},
   "source": [
    "Note that if any of the data are missing and represented by *nan*, the mean computes to *nan*. To avoid it, we have to adjust our command:"
   ]
  },
  {
   "cell_type": "code",
   "execution_count": 2,
   "id": "a7b76bb8",
   "metadata": {
    "tags": [
     "hide-input"
    ]
   },
   "outputs": [
    {
     "name": "stdout",
     "output_type": "stream",
     "text": [
      "regular mean xbar = nan\n",
      "nanmean() xbar = 68.0000\n"
     ]
    }
   ],
   "source": [
    "x = np.array([69,64,63,73,74,64,66,70,70,68,67,float(\"nan\")])\n",
    "\n",
    "xbar = np.mean(x); \n",
    "print('regular mean xbar = {:.4f}'.format(xbar))\n",
    "\n",
    "xbar = np.nanmean(x); \n",
    "print('nanmean() xbar = {:.4f}'.format(xbar))"
   ]
  },
  {
   "cell_type": "markdown",
   "id": "1bd7111b",
   "metadata": {},
   "source": [
    "Alternatively, we can trim the mean to a specified percentage on low and high extremes."
   ]
  },
  {
   "cell_type": "code",
   "execution_count": 3,
   "id": "bb521d76",
   "metadata": {
    "tags": [
     "hide-input"
    ]
   },
   "outputs": [
    {
     "name": "stdout",
     "output_type": "stream",
     "text": [
      "trimmed mean xbar = 68.5000\n"
     ]
    }
   ],
   "source": [
    "from scipy import stats\n",
    "\n",
    "\n",
    "x = np.array([69,64,63,73,74,64,66,70,70,68,67,float(\"nan\")])\n",
    "xbar = stats.trim_mean(x,0.1)\n",
    "\n",
    "print('trimmed mean xbar = {:.4f}'.format(xbar))"
   ]
  },
  {
   "cell_type": "markdown",
   "id": "ad7b33ee",
   "metadata": {},
   "source": [
    "Next, let's fnd the average for a variable defined in the data file. We use cesd depression score in `HELPrct` data file, which we used before:"
   ]
  },
  {
   "cell_type": "code",
   "execution_count": 8,
   "id": "1e0c0331",
   "metadata": {
    "tags": [
     "hide-input"
    ]
   },
   "outputs": [
    {
     "name": "stdout",
     "output_type": "stream",
     "text": [
      "   cesd        pcs        mcs\n",
      "0    49  58.413689  25.111990\n",
      "1    30  36.036942  26.670307\n",
      "2    39  74.806328   6.762923\n",
      "3    15  61.931679  43.967880\n",
      "4    39  37.345585  21.675755\n",
      "5     6  46.475212  55.508991\n",
      "6    52  24.515039  21.793024\n",
      "7    32  65.138008   9.160530\n",
      "8    50  38.270878  22.029678\n",
      "9    46  22.610598  36.143761\n",
      "mean of cesd = 32.8477\n"
     ]
    }
   ],
   "source": [
    "import pandas as pd\n",
    "\n",
    "\n",
    "url = f'{base_path}/HELPrct.csv'\n",
    "mydata = pd.read_csv(url) \n",
    "print(mydata[['cesd','pcs','mcs']].head(10))\n",
    "\n",
    "xbar = np.mean(mydata['cesd'])\n",
    "print('mean of cesd = {:.4f}'.format(xbar))"
   ]
  },
  {
   "cell_type": "markdown",
   "id": "e1dab615",
   "metadata": {},
   "source": [
    "We can also find the mean of several columns at once with *np.mean()* function or *.mean* method as illustrated below"
   ]
  },
  {
   "cell_type": "code",
   "execution_count": 9,
   "id": "962deb16",
   "metadata": {
    "tags": [
     "hide-input"
    ]
   },
   "outputs": [
    {
     "name": "stdout",
     "output_type": "stream",
     "text": [
      "Mean of the two columns using np.mean:\n",
      "cesd    32.847682\n",
      "mcs     31.676678\n",
      "dtype: float64\n",
      "\n",
      "Mean of the two columns .mean():\n",
      "cesd    32.847682\n",
      "mcs     31.676678\n",
      "dtype: float64\n"
     ]
    }
   ],
   "source": [
    "print('Mean of the two columns using np.mean:')\n",
    "print(np.mean(mydata[['cesd', 'mcs']], axis=0) )\n",
    "\n",
    "print('\\nMean of the two columns .mean():')\n",
    "print(mydata[['cesd', 'mcs']].mean() )"
   ]
  },
  {
   "cell_type": "markdown",
   "id": "3949abf2",
   "metadata": {},
   "source": [
    "We can also trim the means of data frame columns:"
   ]
  },
  {
   "cell_type": "code",
   "execution_count": 10,
   "id": "f64234c4",
   "metadata": {},
   "outputs": [
    {
     "name": "stdout",
     "output_type": "stream",
     "text": [
      "\n",
      "Trimmed mean from stats library :  [33.06356968 31.31445885]\n"
     ]
    }
   ],
   "source": [
    "print('\\nTrimmed mean from stats library : ', stats.trim_mean(mydata[['cesd', 'mcs']], 0.05))"
   ]
  }
 ],
 "metadata": {
  "kernelspec": {
   "display_name": "ts",
   "language": "python",
   "name": "python3"
  },
  "language_info": {
   "codemirror_mode": {
    "name": "ipython",
    "version": 3
   },
   "file_extension": ".py",
   "mimetype": "text/x-python",
   "name": "python",
   "nbconvert_exporter": "python",
   "pygments_lexer": "ipython3",
   "version": "3.10.4"
  }
 },
 "nbformat": 4,
 "nbformat_minor": 5
}
