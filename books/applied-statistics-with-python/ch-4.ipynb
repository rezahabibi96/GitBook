{
 "cells": [
  {
   "cell_type": "markdown",
   "id": "8c205ff2",
   "metadata": {},
   "source": [
    "# Probability Distributions"
   ]
  },
  {
   "cell_type": "code",
   "execution_count": null,
   "id": "8f90a635",
   "metadata": {
    "tags": [
     "hide-cell",
     "hide-input"
    ]
   },
   "outputs": [],
   "source": [
    "from IPython.display import Markdown\n",
    "base_path = (\n",
    "    \"https://raw.githubusercontent.com/rezahabibi96/GitBook/refs/heads/main/\"\n",
    "    \"books/applied-statistics-with-python/.resources\"\n",
    ")"
   ]
  },
  {
   "cell_type": "code",
   "execution_count": 1,
   "id": "f8a744f0",
   "metadata": {
    "tags": [
     "hide-input"
    ]
   },
   "outputs": [],
   "source": [
    "import numpy as np\n",
    "import pandas as pd\n",
    "import matplotlib.pyplot as plt\n",
    "from scipy.stats import norm\n",
    "from matplotlib.pyplot import figure\n",
    "\n",
    "import requests\n",
    "from PIL import Image\n",
    "from io import BytesIO"
   ]
  },
  {
   "cell_type": "markdown",
   "id": "ea853280",
   "metadata": {},
   "source": [
    "## Probability Distributions"
   ]
  },
  {
   "cell_type": "markdown",
   "id": "cd764d29",
   "metadata": {},
   "source": [
    "There are many important probability distributions with numerous applications in Engineering, Biology, Medicine, Finance, etc. In this chapter, only a few distributions that are important in Statistics are considered. \n",
    "\n",
    "We have already studied simple finite probability distributions in Chapter 3. The table below, for example, reviews payout distributions for an insurance company.\n",
    "\n",
    "|              | No Accidents | One Accident  | Two Accidents |\n",
    "| ------------ | ------------ | ------------- | -----         |\n",
    "| Payout       | 0            | 5000          | 10000         |\n",
    "| Probability  | 0.96         | 0.03          | 0.01          |\n",
    "\n",
    "The above is an example of a **discrete random variable** with a finite set of distinct values, each assigned a specific probability. More generally, a discrete probability distribution can have a **countably infinite** set of outcomes. The only requirements are:\n",
    "\n",
    "1. $0 \\le p(s) \\le 1$ for each event $s$ in the sample space $S$\n",
    "2. $\\sum_{s\\in S} p(s) = 1$\n",
    "\n",
    "On the other hand, a **continuous random variable** can take any value within a given range. It is often associated with measurements like height, weight, time, temperature, distance, etc. Unlike discrete random variables, continuous ones have an uncountably infinite number of possible outcomes. Any real number range contains infinitely many values, so the probability of any specific value is 0. Instead, areas under a continuous probability distribution function are used to compute the probabilities. The two requirements for a continuous probability distribution function are:\n",
    "\n",
    "1. $0 \\le f(x) \\le 1$ for all $x$\n",
    "2. $\\int_{-\\infty}^{\\infty} f(x) dx = 1$"
   ]
  },
  {
   "cell_type": "code",
   "execution_count": null,
   "id": "87b30df6",
   "metadata": {},
   "outputs": [],
   "source": []
  },
  {
   "cell_type": "markdown",
   "id": "833c8eea",
   "metadata": {},
   "source": [
    "For example, an electric outlet voltage varies slightly around the prescribed value of 120 volts. One assumption might be that it has a **uniform distribution** in the range 119–121 V, i.e., the values are spread evenly over the range of possibilities.\n",
    "\n",
    "For a general **uniform distribution** on the interval $[a,b]$, the probability distribution function is given by:\n",
    "\n",
    "$$\n",
    "f(x) = \\begin{cases} \n",
    "\\frac{1}{b-a} & \\text{if } a < x < b \\\\\n",
    "0 & \\text{if } x \\le a \\text{ or } x \\ge b \n",
    "\\end{cases}\n",
    "$$\n",
    "\n",
    "**Example**\n",
    "\n",
    "$$\n",
    "f(x) = \\begin{cases} \n",
    "\\frac{1}{121-119} = \\frac{1}{2} & \\text{if } 119 < x < 121 \\\\\n",
    "0 & \\text{if } x \\le 119 \\text{ or } x \\ge 121 \n",
    "\\end{cases}\n",
    "$$\n",
    "\n",
    "Note that the area under any probability distribution is always 1.\n",
    "\n",
    "Total Area = base·height = $(b-a) \\cdot \\frac{1}{b-a} = 1$\n",
    "\n",
    "The probability of any particular event (interval) is equal to the area under the probability distribution function over that interval. For example, to find the probability that the voltage is between 119 and 120.5 V, we compute:\n",
    "\n",
    "$$P(119 < V < 120.5) = \\text{base} \\cdot \\text{height} = (120.5 - 119) \\cdot \\frac{1}{2} = 0.75$$\n",
    "\n",
    "Also, note that a single particular value has no area, so the probability of it is 0:\n",
    "\n",
    "$$P(V = 120) = 0$$\n",
    "\n",
    "We could ask instead for a tight interval around the value of interest:\n",
    "\n",
    "$$P(119.9 < V < 120.1) = (120.1 - 119.9) \\cdot \\frac{1}{2} = 0.1$$"
   ]
  },
  {
   "cell_type": "code",
   "execution_count": null,
   "id": "3198ba2b",
   "metadata": {
    "tags": [
     "hide-input"
    ]
   },
   "outputs": [],
   "source": []
  },
  {
   "cell_type": "markdown",
   "id": "95f0039b",
   "metadata": {},
   "source": [
    "## Normal Distribution"
   ]
  },
  {
   "cell_type": "markdown",
   "id": "b2a19eff",
   "metadata": {},
   "source": [
    "### Normal Distribution Model"
   ]
  },
  {
   "cell_type": "markdown",
   "id": "c764a609",
   "metadata": {},
   "source": [
    "One of the most important distributions in Statistics is the **normal (bell-shaped)** distribution, which is symmetric and unimodal. The IQ scores, SAT scores, heights, baby weights, and many other practical quantities closely follow such a shape with low probability for more extreme values on both ends and a bell shape in the middle. It is completely described by mean $µ$ (center of the bell curve) and standard deviation $σ$ (spread). The figure below shows a typical distribution of IQ scores with mean 100 and standard deviation 15 (one standard deviation away from the mean is shaded red). Generally, we denote the normal distribution as $N(µ,σ)$."
   ]
  },
  {
   "cell_type": "code",
   "execution_count": null,
   "id": "da027708",
   "metadata": {
    "tags": [
     "hide-input"
    ]
   },
   "outputs": [],
   "source": []
  },
  {
   "cell_type": "markdown",
   "id": "e2817259",
   "metadata": {},
   "source": [
    "The probability distribution function is given by:\n",
    "\n",
    "$$f(x) = \\frac{1}{\\sqrt{2\\pi\\sigma^2}} e^{-\\frac{(x-\\mu)^2}{2\\sigma^2}}$$\n",
    "\n",
    "However, one cannot use it to find areas under the curve analytically, only numerically. Changing the mean $µ$ shifts the normal curve horizontally, while $σ$ specifies the spread as illustrated in the figure below. On the left, we show distributions of height for populations of three different countries with means 66 in, 69 in, and 72 in, respectively, but with the same standard deviation of 3 in. On the right, all distributions have the same mean of 69 in, but the standard deviations are 3 in, 6 in, and 9 in, respectively."
   ]
  },
  {
   "cell_type": "code",
   "execution_count": null,
   "id": "589dc97a",
   "metadata": {
    "tags": [
     "hide-input"
    ]
   },
   "outputs": [],
   "source": []
  },
  {
   "cell_type": "markdown",
   "id": "90393b96",
   "metadata": {},
   "source": [
    "The normal distribution with mean $µ = 0$ and standard deviation $σ = 1$ is called the **standard normal distribution**. Its probability distribution function is:\n",
    "\n",
    "$$f(x) = \\frac{1}{\\sqrt{2\\pi}} e^{-x^2/2}$$\n",
    "\n",
    "It is used to compute the areas under any other normal distribution $N(µ,σ)$, but first, the given distribution must be standardized to a Z-score with mean 0 and standard deviation 1. The **Z-score** is the number of standard deviations above or below the mean:\n",
    "\n",
    "$$z = \\frac{x-µ}{σ}$$\n",
    "\n",
    "For example, someone with an IQ score of 130 on the standard IQ scale with mean $µ = 100$ and standard deviation $σ = 15$ has the standardized score:\n",
    "\n",
    "$$z = \\frac{x-µ}{σ} = \\frac{130-100}{15}$$\n",
    "\n",
    "On the other hand, a raw score of 85 implies:\n",
    "\n",
    "$$z = \\frac{x-µ}{σ} = \\frac{85-100}{15} = -1$$\n",
    "\n",
    "Generally, any score above the mean leads to positive $z$, and any score below the mean produces negative $z$, while the mean score produces $z = \\frac{µ-µ}{σ} = 0$.\n",
    "\n",
    "Note that you can always subtract the mean and divide by the standard deviation for any distribution, so z-scores can be defined for any type of data/distribution, not just normally distributed. Z-scores are very convenient to compare variables measured on different scales.\n",
    "\n",
    "For example, let's say in a given year the SAT scores are normally distributed with mean $µ = 1000$ and standard deviation $σ = 250$, and Regents scores are also normally distributed with mean $µ = 60$ and standard deviation $σ = 20$. Let's say Jane got 1210 on her SAT and John got 70 on his Regents exam. The scores are on completely different scales, so we cannot compare them directly. However, we can find the corresponding standardized z-scores."
   ]
  },
  {
   "cell_type": "code",
   "execution_count": null,
   "id": "e1fe46ab",
   "metadata": {
    "tags": [
     "hide-input"
    ]
   },
   "outputs": [],
   "source": []
  },
  {
   "cell_type": "markdown",
   "id": "d741f9ed",
   "metadata": {},
   "source": [
    "$$z = \\frac{1210-1000}{250} = 0.84$$\n",
    "$$z = \\frac{70-60}{20} = 0.5$$\n",
    "\n",
    "Therefore, Jane did better on her SAT than John on his Regents test."
   ]
  },
  {
   "cell_type": "markdown",
   "id": "e1d7cbf2",
   "metadata": {},
   "source": [
    "### Normal Probability Calculations"
   ]
  },
  {
   "cell_type": "markdown",
   "id": "acc2c1de",
   "metadata": {},
   "source": [
    "Let's now start discussing probability questions for normal distributions.\n",
    "\n",
    "For example, what is the fraction (percentage) of students who scored **below John's score? Or equivalently, if we select a random student, what is the probability that their score is below 70? This is given by the left-tail area under the normal probability distribution function shown in the figure below.\n",
    "\n",
    "I created my own (user) function `plot_normal()` with the `def` command. In parentheses, it has its input parameters. This function does not produce any output; it plots the areas under the normal curve with given parameters and the corresponding standard normal area."
   ]
  },
  {
   "cell_type": "code",
   "execution_count": null,
   "id": "df15da93",
   "metadata": {
    "tags": [
     "hide-input"
    ]
   },
   "outputs": [],
   "source": []
  },
  {
   "cell_type": "code",
   "execution_count": null,
   "id": "db4b53cf",
   "metadata": {
    "tags": [
     "hide-input"
    ]
   },
   "outputs": [],
   "source": []
  },
  {
   "cell_type": "code",
   "execution_count": null,
   "id": "26be2688",
   "metadata": {
    "tags": [
     "hide-input"
    ]
   },
   "outputs": [],
   "source": []
  },
  {
   "cell_type": "markdown",
   "id": "cfb7a6be",
   "metadata": {},
   "source": [
    "Therefore, 69.15% of students have scores below John's score of 70.\n",
    "\n",
    "The next common question to ask would be: what is the fraction (percentage) of students who scored **above** John's score (**at least** as good as John's)? Or equivalently, if we select a random student, what is the probability that their score is above John's score of 70? This is given by the right-tail area under the normal probability distribution function shown in the figure below.\n",
    "\n",
    "The total area under any probability distribution is 1, so we can find the complement area to the left and then subtract it from 1:"
   ]
  },
  {
   "cell_type": "code",
   "execution_count": null,
   "id": "15d230af",
   "metadata": {
    "tags": [
     "hide-input"
    ]
   },
   "outputs": [],
   "source": []
  },
  {
   "cell_type": "markdown",
   "id": "61856103",
   "metadata": {},
   "source": [
    "Finally, a school board may decide that students who scored **between** 45 and 59 require extra help. What proportion of students falls within these bounds? Or equivalently, what is the probability that a randomly chosen student falls in these bounds?\n",
    "\n",
    "This probability is best obtained as a **difference** between the probability of scoring below 59 and scoring below 45, as shown in the figure below:"
   ]
  },
  {
   "cell_type": "code",
   "execution_count": null,
   "id": "3260dee9",
   "metadata": {
    "tags": [
     "hide-input"
    ]
   },
   "outputs": [],
   "source": []
  },
  {
   "cell_type": "code",
   "execution_count": null,
   "id": "8369f612",
   "metadata": {
    "tags": [
     "hide-input"
    ]
   },
   "outputs": [],
   "source": []
  }
 ],
 "metadata": {
  "kernelspec": {
   "display_name": "GitBook",
   "language": "python",
   "name": "python3"
  },
  "language_info": {
   "codemirror_mode": {
    "name": "ipython",
    "version": 3
   },
   "file_extension": ".py",
   "mimetype": "text/x-python",
   "name": "python",
   "nbconvert_exporter": "python",
   "pygments_lexer": "ipython3",
   "version": "3.10.18"
  }
 },
 "nbformat": 4,
 "nbformat_minor": 5
}
