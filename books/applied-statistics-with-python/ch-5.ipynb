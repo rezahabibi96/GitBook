{
 "cells": [
  {
   "cell_type": "markdown",
   "id": "5addf2f6",
   "metadata": {},
   "source": [
    "# Inferential Statistics and Tests for Proportions"
   ]
  },
  {
   "cell_type": "code",
   "execution_count": 3,
   "id": "046d6fb1",
   "metadata": {
    "tags": [
     "hide-cell",
     "hide-input"
    ]
   },
   "outputs": [],
   "source": [
    "from IPython.display import Markdown\n",
    "base_path = (\n",
    "    \"https://raw.githubusercontent.com/rezahabibi96/GitBook/refs/heads/main/\"\n",
    "    \"books/applied-statistics-with-python/.resources\"\n",
    ")"
   ]
  },
  {
   "cell_type": "code",
   "execution_count": 10,
   "id": "61af8de2",
   "metadata": {},
   "outputs": [],
   "source": [
    "import math\n",
    "import numpy as np\n",
    "import pandas as pd\n",
    "from scipy import stats\n",
    "from sklearn.utils import resample\n",
    "from scipy.stats import norm, binom\n",
    "\n",
    "import seaborn as sns\n",
    "import matplotlib.pyplot as plt\n",
    "from PIL import Image\n",
    "from matplotlib.pyplot import figure\n",
    "\n",
    "import requests\n",
    "from io import BytesIO"
   ]
  },
  {
   "cell_type": "markdown",
   "id": "4ec3cd8f",
   "metadata": {},
   "source": [
    "## Introdution to Inference"
   ]
  },
  {
   "cell_type": "markdown",
   "id": "201c0217",
   "metadata": {},
   "source": [
    "In the previous chapters, we developed the main ideas of Statistics and Probability. In this chapter, we start with the main topics of Inferential Statistics, which make inferences about the entire population from the available sample data.\n",
    "\n",
    "For example, many polling agencies (Pew, Gallup, etc.) conduct regular presidential approval polls. A sample of approximately 1000–2000 people is randomly selected. A sample proportion $\\hat{p}$ estimates the true population proportion $p$.\n",
    "Consider a particular poll of sample size $n = 1600$ with 660 approving presidential performance. Then the sample proportion is:\n",
    "$\\hat{p} = \\text{yes}/\\text{total} = 660/1600 = 0.4125$ — **point estimate**.\n",
    "To find the true population proportion $p$, we would need to conduct a **census** of, say, $N = 250$ million people, which is not realistic. However, $\\hat{p}$ approximates $p$.\n",
    "\n",
    "A different random sample of the same size would produce a slightly different sample proportion, say $\\hat{p} = 665/1600 = 0.416$. Variation in this point estimate from one sample to another is quantified by **sampling error**.\n",
    "Note that an **unbiased simple random sample** is always assumed to avoid any systematic error.\n",
    "\n",
    "To understand the behavior of the **sampling error**, let's simulate its variation with a known population approval rating of $p = 0.41$. It is not known in reality, but it is set to this particular value for simulation purposes."
   ]
  },
  {
   "cell_type": "code",
   "execution_count": 4,
   "id": "abf5c20f",
   "metadata": {
    "tags": [
     "hide-input"
    ]
   },
   "outputs": [
    {
     "name": "stdout",
     "output_type": "stream",
     "text": [
      "numYes, numNo = 102500000.0, 147500000.0\n",
      "pvbar, pvsd1 = 0.4101, 0.0123\n"
     ]
    },
    {
     "data": {
      "image/png": "[encoded data removed]",
      "text/plain": [
       "<Figure size 640x480 with 1 Axes>"
      ]
     },
     "metadata": {},
     "output_type": "display_data"
    }
   ],
   "source": [
    "p = 0.41 # true population proportion\n",
    "N = 250000000 # population size\n",
    "n = 1600 # sample size\n",
    "numsamples = 20000 # number of samples in the simulation\n",
    "numYes = p*N\n",
    "numNo = (1-p)*N\n",
    "print('numYes, numNo = {:.1f}, {:.1f}'.format(numYes, numNo))\n",
    "\n",
    "possible_entries = np.concatenate((np.repeat(1,numYes), np.repeat(0,numNo)))\n",
    "pv = np.repeat(0.0,numsamples) # sample proportions\n",
    "\n",
    "for j in range(numsamples):\n",
    "    # resample below produces a SIMPLE RANDOM SAMPLE!!!\n",
    "    onesample = resample(possible_entries, n_samples=n, replace=True)\n",
    "    pv[j] = np.sum( onesample == 1) / n\n",
    "\n",
    "sns.histplot(pv,bins=14); # create histogram of sample proportions\n",
    "\n",
    "pvbar = np.mean(pv) # mean of sample proportions\n",
    "pvsd1 = np.std(pv,ddof=1) # standard deviation of sample proportions\n",
    "print('pvbar, pvsd1 = {:.4f}, {:.4f}'.format(pvbar, pvsd1))"
   ]
  },
  {
   "cell_type": "markdown",
   "id": "0ef224c8",
   "metadata": {},
   "source": [
    "From the Figure above, the distribution of sample proportions (**sampling distribution**) is symmetric and bell-shaped (*Normal distribution*). The center (*mean*) of this distribution is almost the same as the true population proportion $p = 0.41$. The spread of the sampling distribution (its standard deviation) is called the **standard error (SE)** and is computed as well. \n",
    "Only one sample out of the entire population is really taken, so such a sampling distribution is not observed, but it provides invaluable information about the properties of the point estimate.\n",
    "\n",
    "If a smaller sample size $n = 400$ is taken, the sampling distribution is still bell-shaped and centered at the same true population proportion, but the distribution is more spread out, as shown in the Figure below."
   ]
  },
  {
   "cell_type": "code",
   "execution_count": 5,
   "id": "68caa1c8",
   "metadata": {
    "tags": [
     "hide-input"
    ]
   },
   "outputs": [
    {
     "name": "stdout",
     "output_type": "stream",
     "text": [
      "numYes, numNo = 102500000.0, 147500000.0\n",
      "pvbar, pvsd1 = 0.4101, 0.0246\n"
     ]
    },
    {
     "data": {
      "image/png": "[encoded data removed]",
      "text/plain": [
       "<Figure size 640x480 with 1 Axes>"
      ]
     },
     "metadata": {},
     "output_type": "display_data"
    }
   ],
   "source": [
    "p = 0.41 # true population proportion\n",
    "N = 250000000 # population size\n",
    "n = 400 # sample size\n",
    "numsamples = 20000 # number of samples in the simulation\n",
    "numYes = p*N\n",
    "numNo = (1-p)*N\n",
    "print('numYes, numNo = {:.1f}, {:.1f}'.format(numYes, numNo))\n",
    "\n",
    "possible_entries = np.concatenate((np.repeat(1,numYes), np.repeat(0,numNo)))\n",
    "pv = np.repeat(0.0,numsamples) # sample proportions\n",
    "\n",
    "for j in range(numsamples):\n",
    "    # resample below produces a SIMPLE RANDOM SAMPLE!!!\n",
    "    onesample = resample(possible_entries, n_samples=n, replace=True)\n",
    "    pv[j] = np.sum( onesample == 1) / n\n",
    "\n",
    "sns.histplot(pv,bins=14); # create histogram of sample proportions\n",
    "\n",
    "pvbar = np.mean(pv) # mean of sample proportions\n",
    "pvsd1 = np.std(pv,ddof=1) # standard deviation of sample proportions\n",
    "print('pvbar, pvsd1 = {:.4f}, {:.4f}'.format(pvbar, pvsd1))\n"
   ]
  },
  {
   "cell_type": "markdown",
   "id": "9bb9be15",
   "metadata": {},
   "source": [
    "The standard error is about twice as much as the one obtained for the $n = 1600$ sample size. However, if the sample size is very small, $n = 25$, and the true proportion $p = 0.1$ is further away from 0.5 than 0.41, the resulting sampling distribution is skewed right (not bell-shaped), as shown in the Figure below:"
   ]
  },
  {
   "cell_type": "code",
   "execution_count": 7,
   "id": "9124755b",
   "metadata": {
    "tags": [
     "hide-input"
    ]
   },
   "outputs": [
    {
     "name": "stdout",
     "output_type": "stream",
     "text": [
      "numYes, numNo = 25000000.0, 225000000.0\n",
      "pvbar, pvsd1 = 0.1000, 0.0600\n"
     ]
    },
    {
     "data": {
      "image/png": "[encoded data removed]",
      "text/plain": [
       "<Figure size 640x480 with 1 Axes>"
      ]
     },
     "metadata": {},
     "output_type": "display_data"
    }
   ],
   "source": [
    "p = 0.10 # true population proportion\n",
    "N = 250000000 # population size\n",
    "n = 25 # sample size\n",
    "numsamples = 20000 # number of samples in the simulation\n",
    "numYes = p*N\n",
    "numNo = (1-p)*N\n",
    "print('numYes, numNo = {:.1f}, {:.1f}'.format(numYes, numNo))\n",
    "\n",
    "possible_entries = np.concatenate((np.repeat(1,numYes), np.repeat(0,numNo)))\n",
    "pv = np.repeat(0.0,numsamples) # sample proportions\n",
    "\n",
    "for j in range(numsamples):\n",
    "    # resample below produces a SIMPLE RANDOM SAMPLE!!!\n",
    "    onesample = resample(possible_entries, n_samples=n, replace=True)\n",
    "    pv[j] = np.sum( onesample == 1) / n\n",
    "\n",
    "sns.histplot(pv,bins=10); # create histogram of sample proportions\n",
    "\n",
    "pvbar = np.mean(pv) # mean of sample proportions\n",
    "pvsd1 = np.std(pv,ddof=1) # standard deviation of sample proportions\n",
    "print('pvbar, pvsd1 = {:.4f}, {:.4f}'.format(pvbar, pvsd1))\n"
   ]
  },
  {
   "cell_type": "markdown",
   "id": "bf192b4b",
   "metadata": {},
   "source": [
    "The simulations above confirm the Central Limit Theorem:\n",
    "\n",
    "**Central Limit Theorem for Proportions:**\n",
    "\n",
    "Provided that the observations are independent, and the sample size is sufficiently large to satisfy the **success/failure** conditions:\n",
    "$np \\ge 10$ and $n(1 - p) \\ge 10$,\n",
    "the sample proportion $\\hat{p}$ follows a normal distribution with mean $\\mu_{\\hat{p}} = p$ and standard deviation (**standard error**)\n",
    "$SE_{\\hat{p}} = \\sqrt{\\dfrac{p(1-p)}{n}}$\n",
    "\n",
    "First, let's verify the conditions of this CLT Theorem for the above examples:\n",
    "1. $n = 1600, p = 0.41 \\implies np = 656 \\ge 10, ; n(1-p) = 944 \\ge 10$\n",
    "2. $n = 400, p = 0.41 \\implies np = 164 \\ge 10, ; n(1-p) = 236 \\ge 10$\n",
    "3. $n = 25, p = 0.10 \\implies np = 2.5 < 10, ; n(1-p) = 22.5 \\ge 10$\n",
    "\n",
    "Thus, for the first two simulations, the CLT conditions hold, and the normal distribution is a valid approximation, but in the third case it fails and is skewed right.\n",
    "Independence of individual observations must hold and is ensured, for example, for a simple random sample of less than 10% of the population size. In an unlikely case when the sample size $n$ exceeds 10% of the population size $N$, the standard error must be multiplied by a **finite correction factor** $\\sqrt{\\dfrac{N-n}{N-1}}$, which is very close to 1 for $n < 0.1N$.\n",
    "\n",
    "Let's compare the results of the first simulation with $n = 1600$ to the predictions of the CLT. In the simulation $p = 0.41$; therefore, the corresponding normal distribution mean and standard error are:\n",
    "\n",
    "$$\\mu = p = 0.41$$\n",
    "$$SE = \\sqrt{\\dfrac{p(1-p)}{n}} = \\sqrt{\\dfrac{0.41(1-0.41)}{1600}} \\approx 0.0123$$\n",
    "\n",
    "The theoretical standard error is very close to the simulation standard error $0.0122$.\n",
    "\n",
    "In reality, the true population proportion $p$ is not known. Assume one poll of $n = 1600$ is taken and $x = 675$ participants approve the presidential performance, so the sample proportion $\\hat{p} = 675/1600 \\approx 0.422$. We cannot check the success/failure condition with unknown true population proportion $p$, so instead the sample proportion $\\hat{p}$ is **substituted**:\n",
    "\n",
    "$np \\approx n\\hat{p} = 1600 \\cdot 0.422 = 675.2 \\ge 10$\n",
    "\n",
    "$n(1-p) \\approx n(1-\\hat{p}) = 1600 \\cdot (1 - 0.422) = 924.8 \\ge 10$\n",
    "\n",
    "Therefore, the sample proportion approximately follows a normal distribution with mean and standard error:\n",
    "\n",
    "$$\\mu = 0.422$$\n",
    "$$SE = \\sqrt{\\dfrac{p(1-p)}{n}} \\approx \\sqrt{\\dfrac{\\hat{p}(1-\\hat{p})}{n}} = \\sqrt{\\dfrac{0.422(1-0.422)}{1600}} = 0.01235$$\n",
    "\n",
    "The standard error is extremely close to the one computed with the exact $p = 0.41$."
   ]
  },
  {
   "cell_type": "markdown",
   "id": "451b3bdf",
   "metadata": {},
   "source": [
    "## Confidence Interval for Proportions"
   ]
  },
  {
   "cell_type": "markdown",
   "id": "9b1b36d1",
   "metadata": {},
   "source": [
    "From the previous section, we know that sample proportions have a normal distribution centered at the true population proportion. Sample proportions naturally vary from sample to sample, so a range of plausible values (**confidence interval**) provides a better description of the true population proportion than a single sample estimate. It is like using a net to catch a fish instead of trying to hit it with a spear.\n",
    "\n",
    "Provided the conditions of the CLT Theorem are satisfied, $\\hat{p}$ follows a normal distribution with mean and standard deviation (called standard error) given by:\n",
    "\n",
    "$\\mu = \\hat{p}$ and $SE = \\sqrt{\\dfrac{\\hat{p}(1-\\hat{p})}{n}}$\n",
    "\n",
    "Note that the unknown true population proportion $p$ was substituted by its sample proportion approximation $\\hat{p}$.\n",
    "\n",
    "As we know, for a normal distribution, 95% of the data are within about 1.96 standard deviations away from the mean, as shown in the Figure below."
   ]
  },
  {
   "cell_type": "code",
   "execution_count": 11,
   "id": "77366b33",
   "metadata": {
    "tags": [
     "hide-input"
    ]
   },
   "outputs": [
    {
     "data": {
      "image/png": "[encoded data removed]",
      "text/plain": [
       "<Figure size 640x480 with 1 Axes>"
      ]
     },
     "metadata": {},
     "output_type": "display_data"
    }
   ],
   "source": [
    "xv = np.arange(-4, 4, 0.01)\n",
    "plt.plot(xv, norm.pdf(xv, 0, 1));\n",
    "\n",
    "px = np.arange(-1.96,1.96,0.01)\n",
    "plt.fill_between(px,norm.pdf(px,0,1),color='r');\n",
    "plt.text(-3.6,0.03,\"0.025\"); plt.text(3.2,0.03,\"0.025\");"
   ]
  },
  {
   "cell_type": "markdown",
   "id": "c447663d",
   "metadata": {},
   "source": [
    "Therefore, the interval:\n",
    "\n",
    "$$ \\text{point estimate} \\pm 1.96 \\cdot SE = \\hat{p} \\pm 1.96 \\sqrt{\\dfrac{\\hat{p}(1 - \\hat{p})}{n}} $$\n",
    "\n",
    "contains the true population proportion $p$ with 95% certainty — this is the **95% confidence interval (CI)**.\n",
    "\n",
    "To better understand CIs, we perform a simulation of 100 such confidence intervals, as shown in the Figure below. Each one has a slightly different center $\\hat{p}$ and slightly different length, but about 95% contain the true population proportion $p$. Therefore, if the procedure of selecting a simple random sample and computing a confidence interval is repeated, about 95% of the resulting CIs are expected to contain the true population proportion.\n",
    "\n",
    "A few confidence intervals do not contain the true population proportion, but this does not invalidate the theory. It is a manifestation of natural sampling variability. Just as some observations naturally occur more than 1.96 standard deviations from the mean, analogously some point estimates naturally are further away from the true proportion. A confidence interval gives a plausible range of values. Values outside of it are implausible (much less likely), but not impossible."
   ]
  },
  {
   "cell_type": "code",
   "execution_count": 13,
   "id": "61a309e2",
   "metadata": {
    "tags": [
     "hide-input"
    ]
   },
   "outputs": [
    {
     "name": "stdout",
     "output_type": "stream",
     "text": [
      "Proportion inside =  0.97\n"
     ]
    },
    {
     "data": {
      "image/png": "[encoded data removed]",
      "text/plain": [
       "<Figure size 600x800 with 1 Axes>"
      ]
     },
     "metadata": {},
     "output_type": "display_data"
    }
   ],
   "source": [
    "p0 = 0.41 # true population proportion\n",
    "N = 250000000 # population size\n",
    "n = 1600 # sample size\n",
    "numsamples = 100 # number of samples in the simulation\n",
    "numYes = p0*N\n",
    "numNo = (1-p0)*N\n",
    "numin = 0; # number of p's inside\n",
    "# print('numYes, numNo = ', numYes, numNo)\n",
    "\n",
    "possible_entries = np.concatenate((np.repeat(1,numYes), np.repeat(0,numNo)))\n",
    "CIL = np.repeat(0.0,numsamples); CIR = np.repeat(0.0,numsamples)\n",
    "\n",
    "_, ax = plt.subplots(1, 1, figsize=(6, 8));\n",
    "\n",
    "for j in range(numsamples):\n",
    "    # resample below produces a SIMPLE RANDOM SAMPLE!!!\n",
    "    onesample = resample(possible_entries, n_samples=n, replace=True)\n",
    "    phat = np.sum( onesample == 1) / n\n",
    "    SE = np.sqrt(phat*(1-phat)/n)\n",
    "    CIL[j] = phat - 1.96*SE\n",
    "    CIR[j] = phat + 1.96*SE\n",
    "    if (p0 > CIL[j] and p0 < CIR[j]):\n",
    "        # interval contains p\n",
    "        numin = numin + 1\n",
    "        ax.errorbar(phat, j, lolims=True, xerr=1.96*SE, yerr=0.0, linestyle='', c='black')\n",
    "    else:\n",
    "        # interval does not contain p\n",
    "        ax.errorbar(phat, j, lolims=True, xerr=1.96*SE, yerr=0.0, linestyle='', c='red')\n",
    "        \n",
    "ax.axvline(p0, color='darkorange')\n",
    "print('Proportion inside = ', numin/numsamples)\n"
   ]
  },
  {
   "cell_type": "markdown",
   "id": "28e40a97",
   "metadata": {},
   "source": [
    "**Example**\n",
    "\n",
    "A sample of $n = 1600$ randomly chosen voters is taken and $x = 675$ of them approve presidential performance. Construct and interpret a 95% confidence interval for the population proportion."
   ]
  },
  {
   "cell_type": "code",
   "execution_count": 14,
   "id": "fcefebe1",
   "metadata": {
    "tags": [
     "hide-input"
    ]
   },
   "outputs": [
    {
     "name": "stdout",
     "output_type": "stream",
     "text": [
      "success/failure conditions n*phat, n*(1-phat) <=10??  675.0 925.0\n",
      "     phat      SE  zstar  MarginErr     CIL     CIR\n",
      "0  0.4219  0.0123   1.96     0.0242  0.3977  0.4461 \n",
      "\n"
     ]
    }
   ],
   "source": [
    "alpha = 0.05 # error level corresponding to 95% confidence level\n",
    "x = 675 # number of Yes\n",
    "n = 1600 # sample size\n",
    "phat = x/n # sample proportion\n",
    "print('success/failure conditions n*phat, n*(1-phat) <=10?? ', n*phat, n*(1-phat))\n",
    "\n",
    "SE = np.sqrt(phat*(1-phat)/n) # standard error\n",
    "zstar = norm.ppf(1-alpha/2) # z critical\n",
    "MarginErr = zstar*SE;# margin of error\n",
    "\n",
    "CIL = phat - MarginErr\n",
    "CIR = phat + MarginErr\n",
    "\n",
    "df = pd.DataFrame({'phat':phat,'SE':SE,'zstar':zstar, 'MarginErr':MarginErr,'CIL':CIL,'CIR':CIR},index=[0]);\n",
    "pd.set_option(\"display.precision\", 4); print(df,'\\n')"
   ]
  },
  {
   "cell_type": "markdown",
   "id": "137a1cad",
   "metadata": {},
   "source": [
    "The interpretation is that we are 95% confident that the actual proportion of American voters who approve of the presidential performance is between $CIL = 0.400$ and $CIR = 0.446$."
   ]
  },
  {
   "cell_type": "markdown",
   "id": "ff6d96fe",
   "metadata": {},
   "source": [
    "### General Confidence Intervals"
   ]
  },
  {
   "cell_type": "markdown",
   "id": "b02ec833",
   "metadata": {},
   "source": [
    "The most common level of confidence is 95%, but any level of confidence $1-\\alpha$ equivalent to $\\alpha$ level of error can be used. The figures below show confidence level areas for 90%, 95%, and 99% on the standard normal curve."
   ]
  },
  {
   "cell_type": "code",
   "execution_count": 15,
   "id": "9a7a7646",
   "metadata": {
    "tags": [
     "hide-input"
    ]
   },
   "outputs": [
    {
     "data": {
      "text/html": [
       "<div>\n",
       "<style scoped>\n",
       "    .dataframe tbody tr th:only-of-type {\n",
       "        vertical-align: middle;\n",
       "    }\n",
       "\n",
       "    .dataframe tbody tr th {\n",
       "        vertical-align: top;\n",
       "    }\n",
       "\n",
       "    .dataframe thead th {\n",
       "        text-align: right;\n",
       "    }\n",
       "</style>\n",
       "<table border=\"1\" class=\"dataframe\">\n",
       "  <thead>\n",
       "    <tr style=\"text-align: right;\">\n",
       "      <th></th>\n",
       "      <th>ConfLevel</th>\n",
       "      <th>alpha</th>\n",
       "      <th>zstar</th>\n",
       "    </tr>\n",
       "  </thead>\n",
       "  <tbody>\n",
       "    <tr>\n",
       "      <th>0</th>\n",
       "      <td>0.90</td>\n",
       "      <td>0.10</td>\n",
       "      <td>1.6449</td>\n",
       "    </tr>\n",
       "    <tr>\n",
       "      <th>1</th>\n",
       "      <td>0.95</td>\n",
       "      <td>0.05</td>\n",
       "      <td>1.9600</td>\n",
       "    </tr>\n",
       "    <tr>\n",
       "      <th>2</th>\n",
       "      <td>0.99</td>\n",
       "      <td>0.01</td>\n",
       "      <td>2.5758</td>\n",
       "    </tr>\n",
       "  </tbody>\n",
       "</table>\n",
       "</div>"
      ],
      "text/plain": [
       "   ConfLevel  alpha   zstar\n",
       "0       0.90   0.10  1.6449\n",
       "1       0.95   0.05  1.9600\n",
       "2       0.99   0.01  2.5758"
      ]
     },
     "execution_count": 15,
     "metadata": {},
     "output_type": "execute_result"
    },
    {
     "data": {
      "image/png": "[encoded data removed]",
      "text/plain": [
       "<Figure size 600x900 with 3 Axes>"
      ]
     },
     "metadata": {},
     "output_type": "display_data"
    }
   ],
   "source": [
    "fig, axs = plt.subplots(3, 1, figsize=(6, 9), sharey=True);\n",
    "\n",
    "xv = np.arange(-4, 4, 0.01)\n",
    "ConfLevel = np.array([0.9,0.95,0.99])\n",
    "alpha = 1-ConfLevel\n",
    "zstar = norm.ppf(1-alpha/2)\n",
    "df = pd.DataFrame({'ConfLevel':ConfLevel,'alpha':alpha,'zstar':zstar})\n",
    "\n",
    "axs[0].plot(xv, norm.pdf(xv, 0, 1));\n",
    "\n",
    "px = np.arange(-zstar[0],zstar[0],0.01)\n",
    "axs[0].fill_between(px,norm.pdf(px,0,1),color='r');\n",
    "axs[0].text(-3.6,0.03,\"0.05\"); axs[0].text(3.2,0.03,\"0.05\");\n",
    "\n",
    "axs[1].plot(xv, norm.pdf(xv, 0, 1))\n",
    "\n",
    "px = np.arange(-zstar[1],zstar[1],0.01)\n",
    "axs[1].fill_between(px,norm.pdf(px,0,1),color='r');\n",
    "axs[1].text(-3.6,0.03,\"0.025\"); axs[1].text(3.2,0.03,\"0.025\");\n",
    "\n",
    "axs[2].plot(xv, norm.pdf(xv, 0, 1))\n",
    "\n",
    "px = np.arange(-zstar[2],zstar[2],0.01)\n",
    "axs[2].fill_between(px,norm.pdf(px,0,1),color='r');\n",
    "axs[2].text(-3.6,0.03,\"0.005\"); axs[2].text(3.2,0.03,\"0.005\");\n",
    "\n",
    "df"
   ]
  },
  {
   "cell_type": "markdown",
   "id": "bb0ef446",
   "metadata": {},
   "source": [
    "The critical $z^*$ is found in such a way that the area between $-z^*$ and $z^*$ under the standard normal distribution $N(0, 1)$ corresponds to the confidence level. These $z^*$ bounds for standard levels are given in the Python code above.\n",
    "\n",
    "A **general confidence interval** for any critical $z^*$ is:\n",
    "\n",
    "$$ \\text{point estimate} \\pm z^* \\cdot SE = \\hat{p} \\pm z^* \\sqrt{\\frac{\\hat{p}(1-\\hat{p})}{n}} $$\n",
    "\n",
    "As the level of confidence increases, the area of the confidence region in the middle increases, so the corresponding **critical $z^*$ bound** increases and the interval becomes wider. Thus, we are more confident but about a wider interval. To use a fishing analogy: to be more sure to trap the fish, a wider net must be used (**trade-off relationship**).\n",
    "\n",
    "The best way to write a confidence interval is in terms of margin of error $e$:\n",
    "\n",
    "$$ e = z^* \\cdot SE = z^* \\sqrt{\\frac{\\hat{p}(1-\\hat{p})}{n}} \\Rightarrow CI = \\hat{p} \\pm e $$\n",
    "\n",
    "**Example**\n",
    "\n",
    "In the previous example, construct 90%, 95%, and 99% confidence intervals."
   ]
  },
  {
   "cell_type": "code",
   "execution_count": 16,
   "metadata": {
    "tags": [
     "hide-input"
    ]
   },
   "outputs": [
    {
     "name": "stdout",
     "output_type": "stream",
     "text": [
      "sample proportion phat =  675 / 1600 = 0.421875\n",
      "success/failure conditions n*phat, n*(1-phat) <=10??  675.0 925.0\n",
      "Standard error = sqrt(phat*(1-phat)/n) =  0.012346469241624303\n"
     ]
    },
    {
     "data": {
      "text/html": [
       "<div>\n",
       "<style scoped>\n",
       "    .dataframe tbody tr th:only-of-type {\n",
       "        vertical-align: middle;\n",
       "    }\n",
       "\n",
       "    .dataframe tbody tr th {\n",
       "        vertical-align: top;\n",
       "    }\n",
       "\n",
       "    .dataframe thead th {\n",
       "        text-align: right;\n",
       "    }\n",
       "</style>\n",
       "<table border=\"1\" class=\"dataframe\">\n",
       "  <thead>\n",
       "    <tr style=\"text-align: right;\">\n",
       "      <th></th>\n",
       "      <th>ConfLevel</th>\n",
       "      <th>alpha</th>\n",
       "      <th>zstar</th>\n",
       "      <th>SE</th>\n",
       "      <th>e</th>\n",
       "      <th>phat</th>\n",
       "      <th>CIL</th>\n",
       "      <th>CIR</th>\n",
       "    </tr>\n",
       "  </thead>\n",
       "  <tbody>\n",
       "    <tr>\n",
       "      <th>0</th>\n",
       "      <td>0.90</td>\n",
       "      <td>0.10</td>\n",
       "      <td>1.6449</td>\n",
       "      <td>0.0123</td>\n",
       "      <td>0.0203</td>\n",
       "      <td>0.4219</td>\n",
       "      <td>0.4016</td>\n",
       "      <td>0.4422</td>\n",
       "    </tr>\n",
       "    <tr>\n",
       "      <th>1</th>\n",
       "      <td>0.95</td>\n",
       "      <td>0.05</td>\n",
       "      <td>1.9600</td>\n",
       "      <td>0.0123</td>\n",
       "      <td>0.0242</td>\n",
       "      <td>0.4219</td>\n",
       "      <td>0.3977</td>\n",
       "      <td>0.4461</td>\n",
       "    </tr>\n",
       "    <tr>\n",
       "      <th>2</th>\n",
       "      <td>0.99</td>\n",
       "      <td>0.01</td>\n",
       "      <td>2.5758</td>\n",
       "      <td>0.0123</td>\n",
       "      <td>0.0318</td>\n",
       "      <td>0.4219</td>\n",
       "      <td>0.3901</td>\n",
       "      <td>0.4537</td>\n",
       "    </tr>\n",
       "  </tbody>\n",
       "</table>\n",
       "</div>"
      ],
      "text/plain": [
       "   ConfLevel  alpha   zstar      SE       e    phat     CIL     CIR\n",
       "0       0.90   0.10  1.6449  0.0123  0.0203  0.4219  0.4016  0.4422\n",
       "1       0.95   0.05  1.9600  0.0123  0.0242  0.4219  0.3977  0.4461\n",
       "2       0.99   0.01  2.5758  0.0123  0.0318  0.4219  0.3901  0.4537"
      ]
     },
     "execution_count": 16,
     "metadata": {},
     "output_type": "execute_result"
    }
   ],
   "source": [
    "ConfLevel = np.array([0.9,0.95,0.99]) # confidence level\n",
    "alpha = 1-ConfLevel # error level corresponding to confidence level\n",
    "x = 675; # number of Yes\n",
    "n = 1600; # sample size\n",
    "phat = x/n # sample proportion\n",
    "\n",
    "print('sample proportion phat = ', x ,'/',n,'=',phat)\n",
    "print('success/failure conditions n*phat, n*(1-phat) <=10?? ', n*phat, n*(1-phat))\n",
    "\n",
    "SE = np.sqrt(phat*(1-phat)/n); # standard error\n",
    "print('Standard error = sqrt(phat*(1-phat)/n) = ',SE)\n",
    "\n",
    "zstar = norm.ppf(1-alpha/2) # z critical\n",
    "MarginErr = zstar*SE # margin of error\n",
    "CIL = phat - MarginErr\n",
    "CIR = phat + MarginErr\n",
    "\n",
    "df = pd.DataFrame({'ConfLevel':ConfLevel,'alpha':alpha,'zstar':zstar,'SE':SE, \n",
    "                   'e':MarginErr,'phat':phat,'CIL':CIL,'CIR':CIR})\n",
    "pd.set_option(\"display.precision\", 4); df\n"
   ]
  },
  {
   "cell_type": "markdown",
   "id": "7e343699",
   "metadata": {},
   "source": [
    "The table above shows column by column all the steps for each confidence level. The sample proportion $\\hat{p} = \\frac{x}{n} = \\frac{675}{1600} \\approx 0.422$ and standard error $SE = \\sqrt{\\frac{\\hat{p}(1-\\hat{p})}{n}} \\approx \\sqrt{\\frac{0.422(1-0.422)}{1600}} \\approx 0.0123$ are the same regardless of the level. The margin of error is the product $e = z^* \\cdot SE$, which increases with confidence level. The confidence interval is $\\hat{p} \\pm e$, which gets wider as the level of confidence increases.\n",
    "\n",
    "There are common mistakes in the interpretation of the confidence intervals. First, the confidence intervals above apply to the *population proportion for the entire population of American voters*. Confidence intervals predict **nothing** about the sample proportion from another sample! For example, if another random sample of 1600 voters is collected, it would be *wrong* to say that there is a 99% chance that the interval (39.01%, 45.37%) obtained in the previous example contains a new sample proportion. Also, it is better to avoid incorrect language implying that the true population proportion has, say, a 99% chance of *falling inside* the above confidence interval. The true population proportion is a fixed number — it does not vary. Instead, the confidence interval is variable and has a chance to contain (catch) the true population proportion."
   ]
  },
  {
   "cell_type": "markdown",
   "id": "96854c88",
   "metadata": {},
   "source": [
    "### More Examples of Proportion Confidence Intervals"
   ]
  },
  {
   "cell_type": "markdown",
   "id": "b48c4229",
   "metadata": {},
   "source": [
    "**Example**\n",
    "\n",
    "A company claims that only about 8% of its widgets can be defective. A sample of $n = 100$ randomly chosen widgets is taken and $x = 10$ of them turn out to be defective. Construct 90%, 95%, and 99% confidence intervals and interpret the results.\n",
    "\n",
    "It is much more efficient to write a Python generic function to compute all confidence intervals in one shot."
   ]
  },
  {
   "cell_type": "code",
   "execution_count": null,
   "id": "4293234d",
   "metadata": {
    "tags": [
     "hide-input"
    ]
   },
   "outputs": [],
   "source": [
    "def OneProportionCI(x,n,ConfidenceLevels):\n",
    "import numpy as np; from scipy.stats import norm; import pandas as pd\n",
    "import matplotlib.pyplot as plt\n",
    "print('One Proportion Confidence Interval function')\n",
    "print('Number of successes x = ', x)\n",
    "print('Sample size n = ', n)\n",
    "print('Confidence Levels',ConfidenceLevels)\n",
    "phat = x/n; phat # sample proportion\n",
    "print('sample proportion phat = {:.2f}/{:d} = {:.4f}'.format(x,n,phat))\n",
    "ConfLevel = np.array(ConfidenceLevels) # confidence level\n",
    "alpha = 1-ConfLevel # error level corresponding to confidence level\n",
    "print('success/failure: n*phat = {:.3f}, n*(1-phat) = {:.3f} <=10?? '\n",
    ".format(n*phat, n*(1-phat)))\n",
    "SEci = np.sqrt(phat*(1-phat)/n); # standard error for CI\n",
    "print('Standard Error = SEci =sqrt(phat*(1-phat)/n) =')\n",
    "print(' sqrt({:.4f}*(1-{:.4f})/{:d}) = {:.4f}'.\n",
    ",→format(phat,phat,n,SEci))\n",
    "zstar = norm.ppf(1-alpha/2); # z critical\n",
    "MarginErr = zstar*SEci; # margin of error\n",
    "CIL = phat - MarginErr; CIR = phat + MarginErr;\n",
    "df = pd.DataFrame({'ConfLevel':ConfLevel,'zstar':zstar,'SEci':SEci, \\\n",
    "    'MarginErr':MarginErr,'phat':phat,'CIL':CIL,'CIR':CIR});\n",
    "pd.set_option(\"display.precision\", 4); print(df,'\\n')\n",
    "OneProportionCI(x=10,n=100,ConfidenceLevels=[0.9,0.95,0.99])\n",
    "\n"
   ]
  },
  {
   "cell_type": "markdown",
   "id": "92335980",
   "metadata": {},
   "source": [
    "The most common 95% confidence interval contains the claimed 8% proportion of defective items, so there is *no reason to reject the company's claim*. In fact, in this case, all common levels of confidence produce intervals containing the claimed 8%.\n",
    "\n",
    "**Example**\n",
    "\n",
    "To assess the efficacy of a new drug, a random sample of $n = 159$ patients was taken and the drug was effective in 86% of them. The company claimed that it is at least 80% effective. Construct 90%, 95%, and 99% confidence intervals and interpret the results.\n",
    "\n",
    "In this case, the actual number of people in which the drug was effective was not given, rather a percentage — 86%. Therefore, it is computed on the fly with $x = 0.86 \\cdot 159$.\n",
    "\n",
    "$$\\hat{p} = \\frac{x}{n} \\Rightarrow x = \\hat{p} \\cdot n$$"
   ]
  },
  {
   "cell_type": "code",
   "execution_count": null,
   "id": "96ce5109",
   "metadata": {
    "tags": [
     "hide-input"
    ]
   },
   "outputs": [],
   "source": []
  },
  {
   "cell_type": "markdown",
   "id": "02332037",
   "metadata": {},
   "source": [
    "The 90% and 95% confidence intervals are completely above 80%, confirming the company's claim, but the 99% confidence interval is not. Thus, the choice of the confidence level makes a difference. There is no *right or wrong choice* of the confidence level; it is a subjective decision guided by cost-benefit analysis. If there is already an established drug on the market, a higher 99% confidence level may be needed. On the other hand, if there is no drug at all, perhaps a 90% confidence level should be used to give this drug more of a chance.\n",
    "\n",
    "**Example**\n",
    "\n",
    "A poll of US adults found that 26% of 310 Republicans supported a generic \"National Health Plan.\" A politician claims that more than 1/3 of Republicans supported such a plan. Construct standard confidence intervals and interpret the results."
   ]
  },
  {
   "cell_type": "code",
   "execution_count": null,
   "id": "e47e6945",
   "metadata": {
    "tags": [
     "hide-input"
    ]
   },
   "outputs": [],
   "source": []
  },
  {
   "cell_type": "markdown",
   "id": "9b0a3a49",
   "metadata": {},
   "source": [
    "The most common 95% confidence interval is well below $1/3 \\approx 0.3333 = 33.33%$; therefore, the claim could be rejected. In fact, in this case, all common levels of confidence produce confidence intervals below the claimed 1/3."
   ]
  },
  {
   "cell_type": "markdown",
   "id": "9b11e302",
   "metadata": {},
   "source": [
    "## Hypothesis Testing for Proportions"
   ]
  },
  {
   "cell_type": "markdown",
   "id": "8790b72c",
   "metadata": {},
   "source": [
    "In many situations, a claim is made about a population that requires a direct answer with a pre-defined certainty, which requires a **hypothesis testing framework**. We will introduce it with an example.\n",
    "\n",
    "**Example**\n",
    "\n",
    "A politician claims that the population is indifferent to imposing 2-term limits for governors (50% supporting, 50% not). A poll of $n = 1200$ likely voters is conducted, and $x = 550$ of them supported it. Investigate this hypothesis claim at the *error (significance level)* of 5%."
   ]
  },
  {
   "cell_type": "markdown",
   "id": "abf11951",
   "metadata": {},
   "source": [
    "The first step is to state **null and alternative hypotheses**. The **null hypothesis** is generally the skeptical perspective (\"no difference\"), agreeing with the status quo. The **alternative hypothesis** rejects this status quo. In this problem, it would be *not 50/50*, i.e., there is preference one way or another — majority supports or majority opposes (*two-sided alternative*).\n",
    "\n",
    "**$H_0$** $: p = 0.5$ (there are 50% supporting term limits)\n",
    "\n",
    "**$H_1$** : p \\neq 0.5$ (there is less than 50% or more than 50% supporting term limits)\n",
    "\n",
    "The hypothesis test determines whether the sample proportion $\\hat{p} = \\frac{550}{1200} = 0.4583$ is significantly different from the claimed null hypothesis proportion $p_0 = 0.5$.\n",
    "\n",
    "In hypothesis testing, it is always **initially assumed that the null hypothesis $H_0$ is true**. Then, the probability of observing the actual data or something even more extreme is found (**p-value**). Thus, assuming $H_0: p = 0.5$ is true sets **null proportion** $p_0 = 0.5$ that is used in all computations.\n",
    "\n",
    "First, check the conditions of applicability of the Central Limit Theorem:\n",
    " 1. The poll was based on a simple random sample, so *independence* holds.\n",
    " 2. $n \\cdot p_0 = 1200 \\cdot 0.5 = 600 \\ge 10$ and $n \\cdot (1 - p_0) = 1200 \\cdot 0.5 = 600 \\ge 10 \\Rightarrow$ success/failure conditions hold.\n",
    "\n",
    "Therefore, the distribution of sample proportions $\\hat{p}$ (**null distribution**) is normal with mean and standard deviation given by:\n",
    "\n",
    "$\\mu = p_0 = 0.5$ and $SE = \\sqrt{\\frac{p_0(1-p_0)}{n}} = \\sqrt{\\frac{0.5(1-0.5)}{1200}} = 0.014$.\n",
    "\n",
    "For the confidence interval approach of the previous section, $p = \\hat{p}$ was used in the success/failure conditions and the standard error (SE) computation. Now, $H_0$ is assumed true, so $p = p_0$ is used.\n",
    "\n",
    "The **p-value** is the probability to observe the sampling proportion $\\hat{p} = x/n = 0.4583$ or something even more extreme under our bell-shaped null distribution centered at $p_0 = 0.5$ with standard error $SE = 0.014$.\n",
    "\n",
    "The alternative $H_1 : p \\neq 0.5$ is two-sided; therefore both left and right tails must be accounted for. The normal distribution is symmetric, so the p-value can be found as twice the area of a single tail.\n",
    "\n",
    "To find this tail area, we first find $z$ corresponding to the observed $\\hat{p} = 0.458$:\n",
    "\n",
    "$$z = \\frac{\\hat{p} - p_0}{SE} = \\frac{0.458 - 0.5}{0.014} = -2.887$$"
   ]
  },
  {
   "cell_type": "markdown",
   "id": "db4d9a44",
   "metadata": {},
   "source": [
    "Then, Python is used to find the area under the tail and multiply it by 2 to obtain $p\\text{-value} = 0.0038924$. It measures how likely it is to observe sample proportion $\\hat{p} = 0.458$ or something more extreme and is much less than the given significance (error) level $\\alpha = 0.05$, so the initial assumption $H_0: p = 0.5$ can be rejected. Thus, the proportion of voters supporting 2-term limits for governors $\\hat{p} = 0.458$ is significantly different from $0.5 = 50%$. Note that even though $\\hat{p} = 0.458 < 0.5$, it is incorrect to change the alternative hypothesis $H_1: p \\neq 0.5$ to one-sided $H_1: p < 0.5$ post-factum. It would have negative accuracy implications as will be explained later.\n",
    "\n",
    "Using the confidence interval approach in the code below, we are 95% confident (for 5% significance error rate) that the true population proportion is between 43.01% and 48.65%, which does *not* contain the claimed $H_0: p = 0.5$. This confirms our conclusion to reject $H_0$.\n",
    "\n",
    "Note that the confidence interval standard error computed with $\\hat{p}$: $SE_{ci} = \\sqrt{\\frac{\\hat{p}(1-\\hat{p})}{n}}$ is not the same as the standard error for the hypothesis test computed with $p_0$: $SE = \\sqrt{\\frac{p_0(1-p_0)}{n}}$. Therefore, in rare **borderline cases**, the conclusions on accepting or rejecting $H_0$ may be the opposite. In Chapter 7 on hypothesis tests for means, the standard error for the confidence interval will be the same as for the hypothesis test, so the conclusions will always match.\n",
    "\n",
    "The Python code below summarizes these steps into one function."
   ]
  },
  {
   "cell_type": "code",
   "execution_count": null,
   "id": "77f083fd",
   "metadata": {
    "tags": [
     "hide-input"
    ]
   },
   "outputs": [],
   "source": []
  },
  {
   "cell_type": "code",
   "execution_count": null,
   "id": "6fcce968",
   "metadata": {
    "tags": [
     "hide-input"
    ]
   },
   "outputs": [],
   "source": []
  },
  {
   "cell_type": "markdown",
   "id": "811854e7",
   "metadata": {},
   "source": [
    "### More Proportion Hypothesis Tests Examples"
   ]
  },
  {
   "cell_type": "markdown",
   "id": "b591e15a",
   "metadata": {},
   "source": [
    "**Example**\n",
    "\n",
    "A company claims that only about 9% of its widgets are defective. A random sample of 120 widgets is taken and 14 of them turn out to be defective. Test the company's claim at a 5% level.\n",
    "\n",
    "$\\bm{H_0} : p = 0.09$ (company's claim — assume true)\n",
    "\n",
    "$\\bm{H_1} : p \\neq 0.09$ (not what they claim)"
   ]
  },
  {
   "cell_type": "code",
   "execution_count": null,
   "id": "35fd124e",
   "metadata": {
    "tags": [
     "hide-input"
    ]
   },
   "outputs": [],
   "source": []
  },
  {
   "cell_type": "markdown",
   "id": "72436365",
   "metadata": {},
   "source": [
    "The hypothesis test tries to infer whether the sample proportion $\\hat{p} = 0.117$ is significantly different from $H_0: p_0 = 0.09$. This null value $p_0$ is used to check the assumptions of the CLT. The sample of widgets is assumed to be a simple random sample, so the observations are *independent*. Also, $n \\cdot p_0 \\ge 10$ and $n \\cdot (1 - p_0) \\ge 10$, so success/failure conditions are satisfied. Therefore, the sampling distribution of $\\hat{p}$ (**null distribution**) is normal with mean and standard deviation given by $\\mu = p_0$ and $SE = \\sqrt{\\frac{p_0(1-p_0)}{n}}$.\n",
    "\n",
    "The **p-value** is the probability to see the observed sampling proportion $\\hat{p}$ or something even more extreme under this bell-shaped normal null distribution. The $z$ corresponding to the observed $\\hat{p}$ is:\n",
    "\n",
    "$$z = \\frac{\\hat{p} - p_0}{SE} = \\frac{0.117 - 0.09}{0.026} = 1.021$$\n",
    "\n",
    "The alternative $H_1 : p \\neq p_0$ is two-sided, so both tails add up to $p\\text{-value} = 0.3073751 > 0.05 = \\alpha$. Therefore, there is *not* enough evidence to reject the initial assumption $H_0: p = p_0$ — no reason to reject the company's claim.\n",
    "\n",
    "Also, from a confidence interval approach, we are 95% confident (for 5% significance error rate) that the true population proportion is between 5.92% and 17.41%, which contains the claimed $H_0: p = 0.09$. This confirms the conclusion not to reject $H_0$.\n",
    "\n",
    "**Example**\n",
    "\n",
    "About 7% of the population of some country is left-handed. The rest are right-handed, and about 1% are ambidextrous (no dominant hand). In a random sample of 300 children from a particular region, 32 are left-handed. Do these data provide evidence that the 7% value is inaccurate for children in this region? Use a stricter 1% level of significance.\n",
    "\n",
    "$\\bm{H_0} : p = 0.07$ (standard percentage — **assume true**)\n",
    "\n",
    "$\\bm{H_1} : p \\neq 0.07$ (not standard percentage)"
   ]
  },
  {
   "cell_type": "code",
   "execution_count": null,
   "id": "61f8fda7",
   "metadata": {
    "tags": [
     "hide-input"
    ]
   },
   "outputs": [],
   "source": []
  },
  {
   "cell_type": "markdown",
   "id": "faa1a13d",
   "metadata": {},
   "source": [
    "The hypothesis test tries to infer whether the sample proportion $\\hat{p} = 0.107$ is significantly different from $H_0: p_0 = 0.07$. This null value $p_0$ is used to check the assumptions of the Central Limit Theorem (CLT). The sample of children is assumed to be a simple random sample, so the observations are independent. Also, $n \\cdot p_0 \\ge 10$ and $n \\cdot (1 - p_0) \\ge 10$, so success/failure conditions are satisfied. Therefore, the sampling distribution of $\\hat{p}$ (**null distribution**) is normal with mean and standard deviation given by $\\mu = p_0$ and $SE = \\sqrt{\\frac{p_0(1-p_0)}{n}}$. (see the code and the Figure above)"
   ]
  },
  {
   "cell_type": "markdown",
   "id": "93d9ff8f",
   "metadata": {},
   "source": [
    "The p-value is the probability to see the observed sampling proportion $\\hat{p}$ or something even more extreme under this bell-shaped normal null distribution. The $z$ corresponding to the observed $\\hat{p}$ is:\n",
    "\n",
    "$z = \\frac{\\hat{p} - p_0}{SE} = \\frac{0.107 - 0.07}{0.015} = 2.489$\n",
    "\n",
    "The alternative $H_1 : p \\neq p_0$ is two-sided, so both tails add up to $p\\text{-value} = 0.0128069 > 0.01 = \\alpha$. Therefore, there is *not* enough evidence to reject the initial assumption $H_0: p = p_0$ — no reason to reject the null claim. Note, however, that if we used the usual $\\alpha = 0.05$ level, we would have rejected $H_0$.\n",
    "\n",
    "Also, from a confidence interval approach, we are 99% confident (for 1% significance error rate) that the true population proportion is between 6.08% and 15.26%, which contains the claimed $H_0: p = 0.07$. This confirms our conclusion not to reject $H_0$. Note again that at 95% level, the CI is between 7.17% and 14.16% and does not contain $H_0: p = 0.07$, which would have resulted in the rejection of $H_0$.\n",
    "\n",
    "So far, only two-sided hypothesis tests have been considered. It is often not known in advance which way the data lands, so it is a safer, more conservative approach (medical studies are usually two-sided). A one-sided hypothesis may o*verlook data supporting the opposite conclusion*, but one-sided tests are still quite common.\n",
    "\n",
    "**Example**\n",
    "\n",
    "A school district claims that **at least** 80% of its students passed the SAT. The State education board needs to check their claim. In a random sample of 200 students, 149 passed. Test at 5% error level.\n",
    "\n",
    "The Python function written above does not require any changes for one-sided tests since it always prints both two-sided and one-sided p-values (one-sided p-value is just half of the two-sided). However, the interpretation changes. \n",
    "\n",
    "The \"at least\" in the problem formulation implies a **one-sided test** and the state board is trying to refute the school district's claim, so the alternative is to the left. Whether a one-sided test refutes or supports the claim is somewhat subtle, but an important decision.\n",
    "\n",
    "$\\bm{H_0} : p = 0.80$ (district claim — **assume true**)\n",
    "$\\bm{H_1} : p < 0.80$ (trying to refute their claim)"
   ]
  },
  {
   "cell_type": "code",
   "execution_count": null,
   "id": "53f69468",
   "metadata": {
    "tags": [
     "hide-input"
    ]
   },
   "outputs": [],
   "source": []
  },
  {
   "cell_type": "markdown",
   "id": "7e2aa03a",
   "metadata": {},
   "source": [
    "The hypothesis test tries to infer whether the sample proportion $\\hat{p} = 0.745$ is significantly **less** than $H_0: p_0 = 0.80$. This null value $p_0$ is used to check the assumptions of the CLT. The sample of students is assumed to be a simple random sample, so the observations are *independent*. Also, $n \\cdot p_0 \\ge 10$ and $n \\cdot (1 - p_0) \\ge 10$, so success/failure conditions are satisfied. Therefore, the sampling distribution of $\\hat{p}$ (**null distribution**) is normal with mean and standard deviation given by $\\mu = p_0$ and $SE = \\sqrt{\\frac{p_0(1-p_0)}{n}}$.\n",
    "\n",
    "The **p-value** is the probability of seeing the observed sampling proportion $\\hat{p}$ or something even more extreme (to the left) under this bell-shaped normal null distribution.\n",
    "\n",
    "The $z$ corresponding to the observed $\\hat{p}$ is:\n",
    "\n",
    "$$z = \\frac{\\hat{p} - p_0}{SE} = \\frac{0.745 - 0.8}{0.028} = -1.944$$\n",
    "\n",
    "The alternative $H_1: p < 0.80$ is one-sided, so only the left tail area gives $p\\text{-value} = 0.025915 < 0.05 = \\alpha$. Thus, the state officials can reject the district's claim. My code provides both two-tailed and one-tailed p-values. If a two-sided test were performed, then $p\\text{-value} = 0.0518299 > 0.05$, so we would have failed to reject $H_0$.\n",
    "\n",
    "Note that a one-sided test effectively doubles the chance of an error.\n",
    "\n",
    "If $\\hat{p} < p_0$, a one-sided alternative $H_1: p < p_0$ implies that any observation in the lower 5% tail of the null distribution rejects $H_0$.\n",
    "\n",
    "If $\\hat{p} > p_0$, a one-sided alternative $H_1: p > p_0$ implies that any observation in the upper 5% tail of the null distribution rejects $H_0$.\n",
    "\n",
    "However, if $H_0$ is actually true, there is now a 10% chance of being in one of the two tails, not 5%.\n",
    "\n",
    "The confidence interval method introduced before is always two-sided, therefore the confidence level has to be adjusted to $1-2\\alpha = 0.90$, not $1-\\alpha = 0.95$. Therefore, we are 90% confident (10% significance error) that the interval $(69.43%, 79.57%)$ contains the true population proportion. This interval does not contain the claimed $H_0: p = 0.80$, which confirms rejection of $H_0$. Note that the 95% confidence interval $(68.46%, 80.54%)$ contains the claimed $H_0: p = 0.8$, so the conclusion would have been opposite. This underlines the difficulty of a one-sided test presupposing left or right direction in addition to the aforementioned loss of accuracy.\n",
    "\n",
    "Note that if, say, 165 students passed the test, then $\\hat{p} = 165/200 = 0.825 > 0.80$. Thus, $\\hat{p}$ is already opposite to the alternative $H_1 : p < 0.80$; therefore it is pointless to continue with the calculation — the data supports $H_0$. Only because the actual $\\hat{p} = 149/200 = 0.745 < 0.80$, there was a point to continue.\n",
    "\n",
    "Moreover, in case the sample proportion is below the claimed 80%, the question becomes whether it is significantly below. Assume, for example, that $\\hat{p} = 155/200 = 0.775 < 0.80$, then the code and the figure give a very large $p$-value, for which we cannot reject $H_0$. Therefore, not only should $\\hat{p}$ be below 0.80, it has to be sufficiently below to reject it."
   ]
  },
  {
   "cell_type": "code",
   "execution_count": null,
   "id": "4c4b9518",
   "metadata": {
    "tags": [
     "hide-input"
    ]
   },
   "outputs": [],
   "source": []
  },
  {
   "cell_type": "markdown",
   "id": "5de86176",
   "metadata": {},
   "source": [
    "The next example is also one-sided, illustrating substantiating rather than refuting the hypothesis.\n",
    "\n",
    "**Example**\n",
    "\n",
    "Assume a random sample of 1000 students from a top State University is taken, and 629 students are from this state. Can we conclude that **more than** 60% of students are in-state at a 5% level of significance?\n",
    "\n",
    "$\\bm{H_0} : p = 0.60$ (**assume true**)\n",
    "\n",
    "$\\bm{H_1} : p > 0.60$\n",
    "\n",
    "The test is one-sided again. However, this time, we are not refuting $H_0$, but rather trying to substantiate it."
   ]
  },
  {
   "cell_type": "code",
   "execution_count": null,
   "id": "1930ca6e",
   "metadata": {
    "tags": [
     "hide-input"
    ]
   },
   "outputs": [],
   "source": []
  },
  {
   "cell_type": "markdown",
   "id": "7cb82cdb",
   "metadata": {},
   "source": [
    "The hypothesis test tries to infer whether the sample proportion $\\hat{p} = 0.629$ is significantly **greater** than $H_0: p_0 = 0.60$. The assumptions of the CLT hold as before. Therefore, the sampling distribution of $\\hat{p}$ (**null distribution**) is normal with mean and standard deviation given by $\\mu = p_0$ and $SE = \\sqrt{\\frac{p_0(1-p_0)}{n}}$.\n",
    "\n",
    "The **p-value** is the probability to see the observed sampling proportion $\\hat{p}$ or something even more extreme under the normal null distribution. The $z$ corresponding to the observed $\\hat{p}$ is:\n",
    "\n",
    "$$z = \\frac{\\hat{p} - p_0}{SE} = \\frac{0.629 - 0.60}{0.0155} = 1.879$$\n",
    "\n",
    "The alternative $H_1: p > 0.60$ is one-sided, so only the right tail area gives $p\\text{-value} = 0.030607 < 0.05 = \\alpha$. Therefore, there is enough evidence to reject the initial assumption. Thus, there are more than 60% of in-state students (the one-sided alternative claim has been substantiated). Note that if the test was two-sided, the p-value would have been $0.06121 > 0.05$ and we would have failed to reject $H_0$.\n",
    "\n",
    "As in the previous example with one-sided test, we have to use $1 - 2\\alpha = 0.90$ confidence level, not $1 - \\alpha = 0.95$. Therefore, we are 90% confident (for 10% significance error rate) that the true population proportion is between 60.39% and 65.41%, which does not contain the claimed $H_0: p = 0.60$. This confirms our conclusion to reject $H_0$. On the other hand, the 95% confidence interval between 59.91% and 65.89% contains the claimed $H_0: p = 0.60$, so it would have given an opposite conclusion from the hypothesis test result.\n",
    "\n",
    "**Example**\n",
    "\n",
    "In a large survey, one year people were asked if they thought unemployment would increase, and 46% thought that it would increase. Next year, a small opinion poll was conducted, and 282 out of 649 said that they thought unemployment would increase. At the 10% level, is there enough evidence to show that the proportion of citizens who believe unemployment would increase is **less than** the proportion who felt it would increase in the earlier survey?\n",
    "\n",
    "$\\bm{H_0} : p = 0.46$ (**assume true**)\n",
    "$\\bm{H_1} : p < 0.46$"
   ]
  },
  {
   "cell_type": "code",
   "execution_count": null,
   "id": "6440e97a",
   "metadata": {
    "tags": [
     "hide-input"
    ]
   },
   "outputs": [],
   "source": []
  },
  {
   "cell_type": "markdown",
   "id": "2700c4a6",
   "metadata": {},
   "source": [
    "The hypothesis test tries to infer whether the sample proportion $\\hat{p} = 0.435$ is significantly **less** than $H_0: p_0 = 0.46$. The assumptions of the CLT hold as before. Therefore, the sampling distribution of $\\hat{p}$ (**null distribution**) is normal with mean and standard deviation given by $\\mu = p_0$ and $SE = \\sqrt{\\frac{p_0(1-p_0)}{n}}$.\n",
    "\n",
    "The **p-value** is the probability to see the observed sampling proportion $\\hat{p}$ or something even more extreme under the normal null distribution. The $z$ corresponding to the observed $\\hat{p}$ is:\n",
    "\n",
    "$$z = \\frac{\\hat{p} - p_0}{SE} = \\frac{0.435 - 0.46}{0.020} = -1.303$$\n",
    "\n",
    "The alternative $H_1: p < 0.46$ is one-sided, so only the left tail area gives $p\\text{-value} = 0.0963422 < 0.10 = \\alpha$. Therefore, there is enough evidence to reject the initial assumption. Thus, there were significantly fewer people who thought that unemployment would increase. If we used the more common $\\alpha = 0.05$, we would have failed to reject $H_0$. Note that my Python code provides both one-tailed and two-tailed p-values. In this case, if we had done a two-sided test, the p-value would have been $0.1926844 > 0.10$, and we would have failed to reject $H_0$ as well.\n",
    "\n",
    "As in the previous example with a one-sided test, we have to use $1 - 2\\alpha = 0.80$ confidence level, not $1 - \\alpha = 0.90$. Therefore, we are only 80% confident (20% significance error) that the true population proportion is between 40.96% and 45.95%, which does not contain the claimed $H_0: p = 0.46$. This confirms our conclusion to reject $H_0$. On the other hand, the 90% confidence interval between 40.25% and 46.65% contains the claimed $H_0: p = 0.46$, so it would have given the opposite conclusion from the hypothesis test result."
   ]
  },
  {
   "cell_type": "markdown",
   "id": "509ed69c",
   "metadata": {},
   "source": [
    "### Decision Errors and Choosing a Significance (Error) Level\n"
   ]
  },
  {
   "cell_type": "markdown",
   "id": "33be6e41",
   "metadata": {},
   "source": [
    "Data varies from sample to sample, so hypothesis tests are not perfect — errors can be made as the table below illustrates.\n",
    "|             | Fail to Reject H0 | Reject H0    |\n",
    "| ----------- | ----------------- | ------------ |\n",
    "| H0 is true  | Correct           | Type 1 error |\n",
    "| H0 is false | Type 2 error      | Correct      |\n",
    "\n",
    "\n",
    "The rows show the actual truth, while the columns correspond to the decision made by the hypothesis test based on the data. Therefore, a Type 1 Error is rejecting the null hypothesis $H_0$ when it is actually true. Its probability is the significance level $\\alpha$ in the tails of the confidence interval regions."
   ]
  },
  {
   "cell_type": "code",
   "execution_count": null,
   "id": "7bc79be4",
   "metadata": {
    "tags": [
     "hide-input"
    ]
   },
   "outputs": [],
   "source": []
  },
  {
   "cell_type": "markdown",
   "id": "80aefc0d",
   "metadata": {},
   "source": [
    "A Type 2 Error is failing to reject the null hypothesis $H_0$ when it is actually false (i.e., the alternative $H_1$ is really true). Type 2 error probability cannot be computed directly, as it assumes that $H_1$ is true and requires knowledge of the alternative true proportion.\n",
    "\n",
    "The Power of the test is the probability of the complement of the Type 2 error. It measures the probability of correctly rejecting $H_0$ when it is really false. In this section, we only introduce the idea; power computations are more naturally introduced for means tests in the subsequent chapter.\n",
    "\n",
    "Note that if you are rejecting $H_0$, you might have committed a Type 1 error, and if you are failing to reject $H_0$, you might have committed a Type 2 error. It does not have to be the case, but it is a possibility. The Type 1 and Type 2 errors are in a trade-off relationship: if Type 1 error is reduced, it is harder to reject $H_0$ when it is actually true, but it is also harder to reject $H_0$ when it is actually false, increasing Type 2 error, and vice versa. If the sample size is increased, it would simultaneously reduce both types of errors, increasing overall accuracy.\n",
    "\n",
    "In an analogy with the court system, a defendant is assumed innocent until proven guilty. Therefore:\n",
    "\n",
    "$H_0$: defendant is innocent\n",
    "\n",
    "$H_1$: defendant is guilty\n",
    "\n",
    "Type 1 error: find the defendant guilty when they are actually innocent.\n",
    "\n",
    "Type 2 error: find the defendant innocent when they are actually guilty.\n",
    "\n",
    "The null hypothesis must only be rejected if there is strong enough evidence against it. The most common choice is to use $\\alpha = 0.05$ (5% significance level, probability of Type 1 error), so that if $H_0$ is true, it is only rejected about 5% of the time.\n",
    "\n",
    "In general, if Type 1 Error is more of a concern, stronger evidence for the alternative $H_1$ is required, and a smaller significance level (e.g., 0.01) should be chosen. For example, for a new drug being tested against an established one:\n",
    "\n",
    "$H_0$: the new drug is no better than the standard (status quo)\n",
    "\n",
    "$H_1$: the new drug is better or worse than the standard\n",
    "\n",
    "It is only worth investing millions in large-scale production if the evidence in favor of the new drug is very strong.\n",
    "\n",
    "If a Type 2 Error is more of a concern, then a higher significance level (e.g., 0.10) might be chosen. For example, if there is no drug available at all, more of a chance might be given to a new promising drug by increasing the significance level threshold to $\\alpha = 0.10$. The choice of significance level $\\alpha$ is ultimately a cost–benefit business decision."
   ]
  },
  {
   "cell_type": "markdown",
   "id": "3a5e3556",
   "metadata": {},
   "source": [
    "*Statistical vs. Practical Significance*\n",
    "\n",
    "As the sample size $n$ increases, the standard error $SE = \\sqrt{\\frac{p(1-p)}{n}}$ decreases, which reduces the margin of error $e = z^* \\cdot SE$, leading to tighter confidence intervals. Also, $z = \\frac{\\hat{p}-p_0}{SE}$ increases, leading to smaller p-values. Therefore, differences between sample $\\hat{p}$ and null $p_0$ in hypothesis testing are more likely to be statistically significant.\n",
    "\n",
    "In the early days of statistics, samples were collected item-by-item and were rather small, so this was not an issue. Nowadays, samples are often automatically collected online, which can produce huge sample sizes. Then, even a minimal practically insignificant difference would be deemed statistically significant. For example, a change in advertisement strategy may increase TV show viewership by 0.01%, which is practically insignificant, but with millions in audience, it may be found statistically significant using hypothesis testing.\n",
    "\n",
    "There are specialized methods dealing with very large sample sizes, especially in genetics. In addition, these considerations lead to the next section on how big the sample size has to be to minimally achieve the desired accuracy."
   ]
  },
  {
   "cell_type": "markdown",
   "id": "8322ca17",
   "metadata": {},
   "source": [
    "### Sample Size for Proportion"
   ]
  },
  {
   "cell_type": "markdown",
   "id": "cf0bbdb1",
   "metadata": {},
   "source": [
    "In this section, we investigate how large the sample size $n$ should be to ensure a given margin of error $e$ (accuracy). First, solve the formula for the margin of error for $n$:\n",
    "\n",
    "$$e = z^* \\cdot SE = z^* \\cdot \\sqrt{\\frac{p(1-p)}{n}} \\Rightarrow e^2 = (z^*)^2 \\cdot \\frac{p(1-p)}{n}$$\n",
    "\n",
    "$$\\Rightarrow n = (z^*)^2 \\cdot \\frac{p(1-p)}{e^2}$$\n",
    "\n",
    "Note that we are trying to determine the sample size $n$ *before* the experiment, so $p$ or $\\hat{p}$ are *not* known. If an estimate of $p$ is available from a previous study, use it. If not, $p(1-p) = p - p^2$ is a downward parabola maximized in the middle of $[0, 1]$ interval at $p = 0.5$. Then $p = 0.5$ is taken as a conservative worst-case estimate."
   ]
  },
  {
   "cell_type": "code",
   "execution_count": null,
   "id": "d429dead",
   "metadata": {
    "tags": [
     "hide-input"
    ]
   },
   "outputs": [],
   "source": []
  },
  {
   "cell_type": "markdown",
   "id": "f015bdbe",
   "metadata": {},
   "source": [
    "The sample size is directly proportional to $(z^*)^2$. Therefore, as the level of confidence increases (say 90% to 95%, to 99%), $z^*$ increases, and the sample size $n$ increases (see Figure below). In addition, $n$ is inversely proportional to $e^2$, so as the margin of error $e$ increases (lower accuracy), $n$ will decrease.\n",
    "\n",
    "**Example**\n",
    "\n",
    "How big of a sample is required for a pollster to measure a proportion of adults using the internet with a maximum error of 1% and 95% confidence?\n",
    " 1. Assume a previous survey showed 70% of adults use the internet.\n",
    " 2. Assume nothing is known about the proportion."
   ]
  },
  {
   "cell_type": "code",
   "execution_count": null,
   "id": "412da373",
   "metadata": {
    "tags": [
     "hide-input"
    ]
   },
   "outputs": [],
   "source": []
  },
  {
   "cell_type": "markdown",
   "id": "50a5f51d",
   "metadata": {},
   "source": [
    "Both sample sizes are rather large. The reason is that the given margin of error of 1% is too small; increasing it to 2% results in a 4-fold reduction in sample sizes."
   ]
  },
  {
   "cell_type": "code",
   "execution_count": null,
   "id": "5fc6f42d",
   "metadata": {
    "tags": [
     "hide-input"
    ]
   },
   "outputs": [],
   "source": []
  },
  {
   "cell_type": "markdown",
   "id": "f35153ca",
   "metadata": {},
   "source": [
    "Let's illustrate the sample size needed for different confidence levels."
   ]
  },
  {
   "cell_type": "code",
   "execution_count": null,
   "id": "99631743",
   "metadata": {
    "tags": [
     "hide-input"
    ]
   },
   "outputs": [],
   "source": []
  },
  {
   "cell_type": "markdown",
   "id": "1eaf40bd",
   "metadata": {},
   "source": [
    "As the confidence level increases, $z^*$ increases, and the required sample size increases."
   ]
  },
  {
   "cell_type": "markdown",
   "id": "5bcf92fb",
   "metadata": {},
   "source": [
    "### One-Proportion Tests for Data Files"
   ]
  },
  {
   "cell_type": "markdown",
   "id": "4dad614a",
   "metadata": {},
   "source": [
    "In this section, a one-proportion test is applied to a data file, which requires first determining each level count as was done in Chapter 2.\n",
    "\n",
    "**Example**\n",
    "\n",
    "We investigate the file 'HELPrct.csv' used in Chapter 2. It contains information about 453 substance abusers. We focus on the proportion of homeless vs. housed in this sample and want to test if it is 50/50.\n",
    "\n",
    "$\\bm{H_0} : p = 0.5$ (**assume true**)\n",
    "$\\bm{H_1} : p \\neq 0.5$\n",
    "\n",
    "We use 'value_counts()' to count subgroups. The '.bar()' method is used to produce a bar plot."
   ]
  },
  {
   "cell_type": "code",
   "execution_count": null,
   "id": "330ffe9d",
   "metadata": {
    "tags": [
     "hide-input"
    ]
   },
   "outputs": [],
   "source": []
  },
  {
   "cell_type": "code",
   "execution_count": null,
   "id": "9ae94365",
   "metadata": {
    "tags": [
     "hide-input"
    ]
   },
   "outputs": [],
   "source": []
  },
  {
   "cell_type": "markdown",
   "id": "e52aad75",
   "metadata": {},
   "source": [
    "The hypothesis test tries to infer whether the sample proportion $\\hat{p} = 0.461$ is significantly different from $H_0: p_0 = 0.5$. This null value $p_0$ is used to check the assumptions of the CLT. The patients can be assumed independent from each other (based on selection, simple random sample, etc.). Also, $n \\cdot p_0 \\ge 10$ and $n \\cdot (1-p_0) \\ge 10$, so success/failure conditions are satisfied. Therefore, the sampling distribution of $\\hat{p}$ (**null distribution**) is normal with mean and standard deviation given by $\\mu = p_0$ and $SE = \\sqrt{\\frac{p_0(1-p_0)}{n}}$.\n",
    "\n",
    "The **p-value** is the probability of seeing the observed sampling proportion $\\hat{p}$ or something even more extreme under this bell-shaped normal null distribution. The $z$ corresponding to the observed $\\hat{p}$ is:\n",
    "\n",
    "$$z = \\frac{\\hat{p} - p_0}{SE} = \\frac{0.461 - 0.5}{0.023} = -1.644$$\n",
    "\n",
    "The alternative $H_1: p \\neq p_0$ is two-sided, so both tails add up to p-value = 0.1000846 > 0.05 = $\\alpha$. Therefore, there is *not* enough evidence to reject the initial assumption $H_0: p = p_0$. Thus, no reason to reject the 50/50 claim.\n",
    "\n",
    "Using the confidence interval approach, we are 95% confident (for 5% significance error rate) that the true population proportion is between 41.55% and 50.73%, which contains the claimed $H_0: p = 0.50$. This confirms our conclusion not to reject $H_0$."
   ]
  },
  {
   "cell_type": "markdown",
   "id": "fbe60095",
   "metadata": {},
   "source": [
    "## Difference of Two Proportions"
   ]
  },
  {
   "cell_type": "markdown",
   "id": "f4744520",
   "metadata": {},
   "source": [
    "Earlier in this chapter, one-sample proportions were considered. A more common situation, however, is to compare two proportions to each other. For example, a smartphone manufacturer may need to compare the proportions of defective chips from two chip manufacturers. A government oversight organization may be interested in comparing the success proportions of heart transplants at two hospitals. The Center for Disease Control may need to compare COVID-19 infection rates in two universities, etc.\n",
    "\n",
    "**Central Limit Theorem for Two Proportions**\n",
    "\n",
    "Consider two simple random samples. Assume the following conditions:\n",
    " * The data are *independent within and between the two groups* (for example, two independent simple random samples).\n",
    " * *Success/failure conditions* hold for both groups:\n",
    "$n_1p_1 \\ge 10, n_1(1 - p_1) \\ge 10, n_2p_2 \\ge 10, n_2(1 - p_2) \\ge 10$\n",
    "\n",
    "Then the difference of sample proportions $\\hat{p}_1 - \\hat{p}_2$ follows a **normal distribution** with the mean and standard error given by:\n",
    "\n",
    "$\\mu = p_1 - p_2$ and $SE = \\sqrt{\\frac{p_1(1-p_1)}{n_1} + \\frac{p_2(1-p_2)}{n_2}}$\n",
    "\n",
    "respectively, where $p_1$ and $p_2$ represent population proportions, and $n_1$ and $n_2$ are sample sizes.\n",
    "\n",
    "For the confidence interval approach, success/failure conditions and standard error computations directly use $\\hat{p}_1$ and $\\hat{p}_2$:\n",
    " 1. Success/failure conditions: $n_1\\hat{p}_1 \\ge 10, n_1(1 - \\hat{p}_1) \\ge 10, n_2\\hat{p}_2 \\ge 10, n_2(1 - \\hat{p}_2) \\ge 10$\n",
    " 2. $SE = \\sqrt{\\frac{\\hat{p}_1(1-\\hat{p}_1)}{n_1} + \\frac{\\hat{p}_2(1-\\hat{p}_2)}{n_2}}$\n",
    "\n",
    "Then the margin of error $e$ and confidence interval $CI$ are:\n",
    "\n",
    "$$e = z^* \\cdot SE = z^* \\sqrt{\\frac{\\hat{p}_1(1 - \\hat{p}_1)}{n_1} + \\frac{\\hat{p}_2(1 - \\hat{p}_2)}{n_2}}$$\n",
    "\n",
    "$$CI = \\hat{p}_1 - \\hat{p}_2 \\pm e$$\n",
    "\n",
    "For the hypothesis testing approach for two proportions, $H_0: p_1 - p_2 = 0$ (equal population proportions); therefore, sample proportions are pooled as follows:\n",
    "\n",
    "Let $\\hat{p}_1 = \\frac{x_1}{n_1}$ and $\\hat{p}_2 = \\frac{x_2}{n_2}$ be the two-sample proportions, then the **pooled proportion** is:\n",
    "\n",
    "$p_{pool} = \\frac{x_1 + x_2}{n_1 + n_2} = \\frac{\\hat{p}_1 n_1 + \\hat{p}_2 n_2}{n_1 + n_2}$\n",
    "\n",
    "It is used in success/failure conditions and standard error computations:\n",
    " 1. Success/failure conditions: $n_1 p_{pool} \\ge 10, n_1(1 - p_{pool}) \\ge 10, n_2 p_{pool} \\ge 10, n_2(1 - p_{pool}) \\ge 10$\n",
    " 2. $SE = \\sqrt{\\frac{p_{pool}(1 - p_{pool})}{n_1} + \\frac{p_{pool}(1 - p_{pool})}{n_2}} = \\sqrt{p_{pool}(1 - p_{pool})\\left(\\frac{1}{n_1} + \\frac{1}{n_2}\\right)}$\n",
    "\n",
    "Then the test statistic is:\n",
    "\n",
    "$$z = \\frac{(\\hat{p}_1 - \\hat{p}_2) - (p_1 - p_2)}{SE} = \\frac{(\\hat{p}1 - \\hat{p}2) - 0}{\\sqrt{p{pool}(1 - p{pool})\\left(\\frac{1}{n_1} + \\frac{1}{n_2}\\right)}}$$\n",
    "\n",
    "Finally, the p-value is computed based on this standardized statistic $z$ in the same way as for one sample.\n",
    "\n",
    "**Example**\n",
    "\n",
    "The computer manufacturing company evaluates the quality of computer chips provided by companies A and B. In a random sample of manufacturer A, 23 out of 80 chips were defective, and for manufacturer B, 30 out of 64 were defective. Compare the proportions at the 5% level and make conclusions.\n",
    "\n",
    "$\\bm{H_0} : p_1 - p_2 = 0$ (no difference in proportions - **assume true**)\n",
    "\n",
    "$\\bm{H_1} : p_1 - p_2 \\ne 0$ (there is a difference in proportions)\n",
    "\n",
    "First, we create a 'TwoProportionTest' function to implement this method. The code is long, but it is all based on the above formulas plus a few technical details to print the steps and plot the figures."
   ]
  },
  {
   "cell_type": "code",
   "execution_count": null,
   "id": "652d7a74",
   "metadata": {
    "tags": [
     "hide-input"
    ]
   },
   "outputs": [],
   "source": []
  },
  {
   "cell_type": "markdown",
   "id": "50abbb7c",
   "metadata": {},
   "source": [
    "Let's call on the function above to solve the given problem"
   ]
  },
  {
   "cell_type": "code",
   "execution_count": null,
   "id": "d136163a",
   "metadata": {
    "tags": [
     "hide-input"
    ]
   },
   "outputs": [],
   "source": []
  },
  {
   "cell_type": "markdown",
   "id": "d3fe7478",
   "metadata": {},
   "source": [
    "The hypothesis test aims to infer whether the sample proportions difference $\\hat{p}_1 - \\hat{p}_2 = 0.288 - 0.469 = -0.181$ is significantly different from the claimed null hypothesis difference of 0. The samples of chips are assumed to be simple random samples, so the observations are *independent* within groups and the samples are independent from each other. Also, the code above shows that:\n",
    "\n",
    "$n_1 p_{pool} = 80 \\cdot 0.368 = 29.444 \\ge 10$, $n_1(1 - p_{pool}) = 80 \\cdot (1 - 0.368) = 50.556 \\ge 10$\n",
    "\n",
    "$n_2 p_{pool} = 64 \\cdot 0.368 = 23.556 \\ge 10$, $n_2(1 - p_{pool}) = 64 \\cdot (1 - 0.368) = 40.444 \\ge 10$\n",
    "\n",
    "so the success/failure conditions are satisfied.\n",
    "\n",
    "Therefore, based on CLT, the sampling distribution of $\\hat{p}_1 - \\hat{p}_2$ (**null distribution**) is normal with mean and standard deviation given by:\n",
    "\n",
    "$\\mu = 0$ and $SE = \\sqrt{p_{pool}(1 - p_{pool})\\left(\\frac{1}{n_1} + \\frac{1}{n_2}\\right)} = \\sqrt{0.368(1 - 0.368)\\left(\\frac{1}{80} + \\frac{1}{64}\\right)} = 0.081$ (see left plot of the Figure above).\n",
    "\n",
    "The **p-value** is the probability to see the observed sampling proportion difference $\\hat{p}_1 - \\hat{p}_2 = -0.181$ or something even more extreme under the normal null distribution.\n",
    "\n",
    "The $z$ corresponding to $\\hat{p}_1 - \\hat{p}_2 = -0.181$ is:\n",
    "\n",
    "$$z = \\frac{\\hat{p}_1 - \\hat{p}_2 - 0}{SE} = \\frac{0.288 - 0.469}{0.081} = \\frac{-0.181}{0.081} = -2.241$$\n",
    "\n",
    "The alternative $H_1 : p_1 - p_2 \\ne 0$ is two-sided, so both tails add up to $p$-value = 0.0250282 < 0.05 = $\\alpha$, as shown in the Figure above (for the original proportions in the left Figure, and for the standardized z-scores in the right Figure). Thus, there is enough evidence to reject the initial assumption $H_0$, i.e., rejecting the claim of equal proportion of defective chips produced by these two companies.\n",
    "\n",
    "For the confidence interval computations, the success/failure conditions and standard error are computed using $\\hat{p}_1$ and $\\hat{p}_2$:\n",
    "\n",
    "$n_1 \\hat{p}_1 = 80 \\cdot 0.288 = 23 \\ge 10$, $n_1(1 - \\hat{p}_1) = 80 \\cdot (1 - 0.288) = 57 \\ge 10$\n",
    "\n",
    "$n_2 \\hat{p}_2 = 64 \\cdot 0.469 = 30 \\ge 10$, $n_2(1 - \\hat{p}_2) = 64 \\cdot (1 - 0.469) = 34 \\ge 10$\n",
    "\n",
    "⇒ success/failure conditions are satisfied.\n",
    "\n",
    "Standard error:\n",
    "\n",
    "$$SE = \\sqrt{\\frac{\\hat{p}_1(1 - \\hat{p}_1)}{n_1} + \\frac{\\hat{p}_2(1 - \\hat{p}_2)}{n_2}}$$\n",
    "\n",
    "$$= \\sqrt{\\frac{0.288(1 - 0.288)}{80} + \\frac{0.469(1 - 0.469)}{64}} = 0.0803$$\n",
    "\n",
    "Therefore, say 95% confidence interval for the difference of population proportions $p_1 - p_2$ is:\n",
    "\n",
    "$$\\hat{p}_1 - \\hat{p}_2 \\pm z^* \\cdot SE = 0.288 - 0.469 \\pm 1.96 \\cdot 0.0803$$\n",
    "\n",
    "$$= -0.181 \\pm 0.157 = (-0.3387, -0.0238)$$\n",
    "\n",
    "Therefore, we are 95% confident (5% significance error) that the true population proportion difference is between −33.87% and −2.38%, which does *not* contain $H_0 : p_1 - p_2 = 0$, once again confirming our conclusion to reject $H_0$.\n",
    "\n",
    "**Example**\n",
    "\n",
    "A total of 87 out of 100 students preparing with firm B's preparation guide passed the Medical admission test MCAT, while 91 out of 120 passed it with firm P's guide. Is there a significant difference at the 1% level? How about a 5% level?\n",
    "\n",
    "$\\bm{H_0} : p_1 - p_2 = 0$ (no difference in proportions - **assume true**)\n",
    "\n",
    "$\\bm{H_1} : p_1 - p_2 \\ne 0$ (there is a difference in proportions)"
   ]
  },
  {
   "cell_type": "code",
   "execution_count": null,
   "id": "605ea4ba",
   "metadata": {
    "tags": [
     "hide-input"
    ]
   },
   "outputs": [],
   "source": []
  },
  {
   "cell_type": "markdown",
   "id": "54ca1cd9",
   "metadata": {},
   "source": [
    "The hypothesis test tries to infer whether the sample proportions difference $\\hat{p}_1 - \\hat{p}_2 = 0.87 - 0.758 = 0.112$ is significantly different from the claimed null hypothesis difference of 0.\n",
    "\n",
    "The samples of students are assumed to be simple random samples, so the observations are *independent* within groups, and the samples themselves are independent from each other. Also, the code above shows that $n_1 p_{pool}, n_1(1 - p_{pool}), n_2 p_{pool}, n_2(1 - p_{pool})$ are all at least 10, so success/failure conditions are satisfied.\n",
    "\n",
    "Therefore, according to the CLT, the sampling distribution of $\\hat{p}_1 - \\hat{p}_2$ (**null distribution**) is normal with mean: $\\mu = p_1 - p_2 = 0$ and standard deviation given by\n",
    "$SE = \\sqrt{p_{pool}(1 - p_{pool})\\left(\\frac{1}{n_1} + \\frac{1}{n_2}\\right)}$\n",
    "(see the code as well as the left plot of the Figure above).\n",
    "\n",
    "The **p-value** is the probability of seeing the observed sampling proportion difference or something even more extreme under the bell-shaped normal null distribution. The $z$ corresponding to $\\hat{p}_1 - \\hat{p}_2$ is:\n",
    "\n",
    "$$z = \\frac{\\hat{p}_1 - \\hat{p}_2 - 0}{SE} = \\frac{0.87 - 0.758}{0.053} = \\frac{0.112}{0.053} = 2.098$$\n",
    "\n",
    "The alternative $H_1 : p_1 - p_2 \\ne 0$ is two-sided, so both tails add up to $p$-value = 0.0358687 > 0.01 = $\\alpha$, as shown in the figures above. Thus, there is not enough evidence to reject the initial assumption $H_0 : p_1 - p_2 = 0$ at the more strict 1% level. Therefore, we cannot reject the claim of an equal proportion of MCAT passing with the two prep guides. However, if a 5% significance level was applied, then the same $p$-value < 0.05 and we would have rejected the equality of population proportions.\n",
    "\n",
    "In the confidence interval computations, the success/failure conditions and standard error are computed using $\\hat{p}_1$ and $\\hat{p}_2$. The code above shows that $n_1 \\hat{p}_1, n_1(1 - \\hat{p}_1), n_2 \\hat{p}_2, n_2(1 - \\hat{p}_2)$ are all 10 or more, so the success/failure conditions are satisfied.\n",
    "\n",
    "Therefore, the confidence interval for the difference of population proportions $p_1 - p_2$ is:\n",
    "\n",
    "$$\\hat{p}_1 - \\hat{p}_2 \\pm z^* \\cdot SE = 0.87 - 0.758 \\pm 2.576 \\cdot 0.052 = 0.112 \\pm 0.132 = (-0.021, 0.244)$$\n",
    "\n",
    "Therefore, we are 99% confident (1% significance error) that the true population proportion difference is between −2.11% and 24.45%, which contains the claimed $H_0 : p_1 - p_2 = 0$, confirming *not* rejecting $H_0$. Once again, the 95% CI (1.06%, 21.27%) does *not* contain 0, so we would have rejected $H_0$.\n",
    "\n",
    "**Example**\n",
    "\n",
    "In this example, we look again at the substance abusers dataset. We want to investigate if the proportions of people who got treatment are different in homeless vs. housed patients. Is there a significant difference at the 5% level? How about a 10% level?\n",
    "\n",
    "$\\bm{H_0} : p_1 - p_2 = 0$ (no difference in proportions - **assume true**)\n",
    "\n",
    "$\\bm{H_1} : p_1 - p_2 \\ne 0$ (there is a difference in proportions)"
   ]
  },
  {
   "cell_type": "code",
   "execution_count": null,
   "id": "2cbff2b6",
   "metadata": {
    "tags": [
     "hide-input"
    ]
   },
   "outputs": [],
   "source": []
  },
  {
   "cell_type": "code",
   "execution_count": null,
   "id": "52d5e354",
   "metadata": {
    "tags": [
     "hide-input"
    ]
   },
   "outputs": [],
   "source": []
  },
  {
   "cell_type": "markdown",
   "id": "c48293d7",
   "metadata": {},
   "source": [
    "The hypothesis test tries to infer whether the sample proportions difference \n",
    "$\\hat{p}_1 - \\hat{p}_2 = 0.325 - 0.25 = 0.075$\n",
    "is significantly different from the claimed null hypothesis difference of 0. \n",
    "\n",
    "The substance abuse patients in each group are assumed to be simple random samples, so the observations are *independent* within groups and the samples themselves are independent of each other. Also, the code above shows that $n_1 p_{pool}, n_1(1 - p_{pool}), n_2 p_{pool}, n_2(1 - p_{pool})$ are all at least 10, so success/failure conditions are satisfied.\n",
    "Therefore, according to the CLT, the sampling distribution of $\\hat{p}_1 - \\hat{p}_2$ (**null distribution**) is normal with mean $\\mu = p_1 - p_2 = 0$ and standard deviation given by\n",
    "$SE = \\sqrt{p_{pool}(1 - p_{pool})\\left(\\frac{1}{n_1} + \\frac{1}{n_2}\\right)}$\n",
    "(see the calculations and the left plot of the Figure above)\n",
    "\n",
    "The **p-value** is the probability of seeing the observed sampling proportion difference or something even more extreme under our bell-shaped normal null distribution. The $z$ corresponding to $\\hat{p}_1 - \\hat{p}_2$ is:\n",
    "\n",
    "$$z = \\frac{\\hat{p}_1 - \\hat{p}_2 - 0}{SE} = \\frac{0.325 - 0.25}{0.043} = \\frac{0.075}{0.053} = 1.772$$\n",
    "\n",
    "Given the two-sided nature of the alternative $H_1 : p_1 - p_2 \\ne 0$, we have to account for both left and right tails. The areas in these tails add up to the final $p$-value = 0.0764485 > 0.05 = $\\alpha$, as shown in the figures above. Thus, we conclude that there is *not* enough evidence to reject the initial assumption $H_0 : p_1 - p_2 = 0$ at the 5% level, i.e., not rejecting the claim of an equal proportion of patients getting treatment in homeless vs. housed population.\n",
    "Note that if we apply a 10% significance level, then the same $p$-value < 0.10 and our conclusion is the opposite — there is enough evidence to reject the equality of the two population proportions.\n",
    "\n",
    "For the confidence interval computations, the success/failure conditions and standard error are computed using $\\hat{p}_1$ and $\\hat{p}_2$. The code above shows that $n_1 \\hat{p}_1, n_1(1 - \\hat{p}_1), n_2 \\hat{p}_2, n_2(1 - \\hat{p}_2)$ are all 10 or more, so the success/failure conditions are satisfied.\n",
    "Therefore, the confidence interval for the difference of population proportions $p_1 - p_2$ is:\n",
    "\n",
    "$$\\hat{p}_1 - \\hat{p}_2 \\pm z^* \\cdot SE = 0.325 - 0.25 \\pm z^* \\cdot 0.0426 = 0.075 \\pm z^* \\cdot 0.0836$$\n",
    "\n",
    "Thus, we are 95% confident (for 5% significance error rate) that the true population proportion difference is between −0.82% and 15.89%, which contains the claimed $H_0 : p_1 - p_2 = 0$. This confirms our conclusion *not* to reject $H_0$ at the 95% level. However, the 90% CI given by (0.52%, 14.55%) does not contain 0 and leads to the rejection of $H_0$."
   ]
  }
 ],
 "metadata": {
  "kernelspec": {
   "display_name": "ts",
   "language": "python",
   "name": "python3"
  },
  "language_info": {
   "codemirror_mode": {
    "name": "ipython",
    "version": 3
   },
   "file_extension": ".py",
   "mimetype": "text/x-python",
   "name": "python",
   "nbconvert_exporter": "python",
   "pygments_lexer": "ipython3",
   "version": "3.10.4"
  }
 },
 "nbformat": 4,
 "nbformat_minor": 5
}
