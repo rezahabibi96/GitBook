{
 "cells": [
  {
   "cell_type": "markdown",
   "id": "41c5b686",
   "metadata": {},
   "source": [
    "# Correlation and Regression"
   ]
  },
  {
   "cell_type": "code",
   "execution_count": null,
   "id": "38b0b83a",
   "metadata": {
    "tags": [
     "hide-cell",
     "hide-input"
    ]
   },
   "outputs": [],
   "source": [
    "from IPython.display import Markdown\n",
    "base_path = (\n",
    "    \"https://raw.githubusercontent.com/rezahabibi96/GitBook/refs/heads/main/\"\n",
    "    \"books/applied-statistics-with-python/.resources\"\n",
    ")"
   ]
  },
  {
   "cell_type": "code",
   "execution_count": null,
   "id": "ca7c4a9c",
   "metadata": {
    "tags": [
     "hide-input"
    ]
   },
   "outputs": [],
   "source": [
    "import math\n",
    "import numpy as np\n",
    "import pandas as pd\n",
    "from scipy import stats\n",
    "from sklearn.utils import resample\n",
    "from scipy.stats import norm, binom, chi2, chisquare, chi2_contingency, expon, shapiro, t, wilcoxon\n",
    "from statsmodels.stats.power import TTestPower, TTestIndPower\n",
    "\n",
    "import seaborn as sns\n",
    "import matplotlib.pyplot as plt\n",
    "from PIL import Image\n",
    "from matplotlib.pyplot import figure\n",
    "\n",
    "import requests\n",
    "from io import BytesIO"
   ]
  },
  {
   "cell_type": "markdown",
   "id": "33d8501c",
   "metadata": {},
   "source": [
    "In this chapter, we introduce methods for determining whether there is a linear correlation, or association, between two numerical variables. In the case it exists, we learn how to derive a linear model and how to use it for prediction, which is very important in applications of many different fields from Business and Finance to Biology and Medicine.\n",
    "For example:\n",
    "* Based on income, consumer debt, and several other predictors about a person, we might be interested in predicting a person's credit rating.\n",
    "* We might be interested in predicting growth in sales of a company based on current economic conditions and its previous year's performance.\n",
    "* In Medicine, it would be important to predict patients' blood pressure based on health measurements and the dosage of a new drug.\n",
    "\n",
    "In fairness, the more interesting examples above have several predictors, which is called multiple regression and is taken up in detail in later chapters. In this chapter, we study correlation in general, but the linear models are limited to a single predictor."
   ]
  },
  {
   "cell_type": "markdown",
   "id": "d2af5e4a",
   "metadata": {},
   "source": [
    "## Correlation"
   ]
  },
  {
   "cell_type": "markdown",
   "id": "cf8446fd",
   "metadata": {},
   "source": [
    "As an example, let's return to the file `MHEALTH.csv` mentioned before in chapters 1 and 2. It contains many health measurements for 40 men. Let's investigate weight (WT) dependence on the waist size (WAIST).\n",
    "\n",
    "Whenever you plan a correlation/regression study, you *must always start with a scatterplot* as shown in the figure below."
   ]
  },
  {
   "cell_type": "code",
   "execution_count": null,
   "id": "574c9d33",
   "metadata": {
    "tags": [
     "hide-input"
    ]
   },
   "outputs": [],
   "source": []
  },
  {
   "cell_type": "markdown",
   "id": "ed6d97ab",
   "metadata": {},
   "source": [
    "There is a fair amount of variation, but there seems to be an overall linear trend with a positive slope. Not surprisingly, a man with a larger waist size has a higher weight.\n",
    "\n",
    "The numerical measure of the strength of this *linear* trend is given by the **Pearson correlation coefficient**:\n",
    "\n",
    "$$ r = \\frac{1}{n-1} \\sum_{i=1}^n (z_x)_i \\cdot (z_y)i = \\frac{1}{n-1} \\sum{i=1}^n \\frac{x_i - \\bar{x}}{s_x} \\cdot \\frac{y_i - \\bar{y}}{s_y} $$\n",
    "\n",
    "where $n$ is the number of data point pairs. The `scipy.stats` library has an effective function to perform this rather tedious computation."
   ]
  },
  {
   "cell_type": "code",
   "execution_count": null,
   "id": "04b70567",
   "metadata": {
    "tags": [
     "hide-input"
    ]
   },
   "outputs": [],
   "source": []
  },
  {
   "cell_type": "markdown",
   "id": "8cb49a0c",
   "metadata": {},
   "source": []
  }
 ],
 "metadata": {
  "kernelspec": {
   "display_name": "ts",
   "language": "python",
   "name": "python3"
  },
  "language_info": {
   "name": "python",
   "version": "3.10.4"
  }
 },
 "nbformat": 4,
 "nbformat_minor": 5
}
