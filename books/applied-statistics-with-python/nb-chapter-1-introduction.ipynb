{
 "cells": [
  {
   "cell_type": "markdown",
   "id": "5c11642b",
   "metadata": {},
   "source": [
    "# Chapter 1: Introduction"
   ]
  },
  {
   "cell_type": "code",
   "execution_count": 2,
   "id": "ee89e0f8",
   "metadata": {},
   "outputs": [],
   "source": [
    "from IPython.display import Markdown\n",
    "base_path = (\n",
    "    \"https://raw.githubusercontent.com/rezahabibi96/GitBook/refs/heads/main/\"\n",
    "    \"books/applied-statistics-wuth-python/.resources\"\n",
    ")\n",
    "\n",
    "base_path = \"https://raw.githubusercontent.com/leonkag/Statistics0/main\""
   ]
  },
  {
   "cell_type": "markdown",
   "id": "7cb2c20c",
   "metadata": {},
   "source": [
    "## Introduction to Statistics"
   ]
  },
  {
   "cell_type": "markdown",
   "id": "740c1308",
   "metadata": {},
   "source": [
    "Statistics is the science of working with data collection (-polls, surveys, experiments, etc.) and subsequent data analysis and interpretation. It has become an integral part of almost every subject from Business and Economics to Medicine, Biology, Engineering, etc."
   ]
  },
  {
   "cell_type": "markdown",
   "id": "2e814a2a",
   "metadata": {},
   "source": [
    "Consider a typical example from Medicine. A new cholesterol-reducing drug is invented and its efficacy needs to be tested against a standard drug used in medical practice. In the study of 200 patients who had high cholesterol, each one was randomly assigned to one of the two groups:\n",
    "\n",
    "**Treatment group** - 98 patients treated with the new drug.\n",
    "\n",
    "**Control group** - 102 patients treated with the standard drug\n",
    "\n",
    "The results were assessed after a month. For the treatment group, 77/98 = 0.786 = 78.6 % had more than 10 points reduction in their cholesterol levels. In the control group, 75/102 = 0.735 = 73.5 % had more than 10 points reduction in their cholesterol levels."
   ]
  },
  {
   "cell_type": "markdown",
   "id": "8cfc8b77",
   "metadata": {},
   "source": [
    "The treatment group had about 5% better chance of having a sizeable cholesterolreduction. The main question of Statistics is if it happened by chance or if it is astatistically significant result. There are always natural variations (fluctuations) in\n",
    "any data - a perfectly fair coin flipped 200 times does not land on 100 heads and 100 tails. Each such trial would come out slightly differently. Then the question becomes, how likely is it to obtain a 5% difference if the new drug and old drug perform about the same? We have to wait until a later chapter to develop computational tools to answer this question, but intuitively, the larger the difference, the less probable it is to obtain it by chance."
   ]
  },
  {
   "cell_type": "markdown",
   "id": "a1228b67",
   "metadata": {},
   "source": [
    "## Data Introduction"
   ]
  },
  {
   "cell_type": "markdown",
   "id": "8a333351",
   "metadata": {},
   "source": [
    "The files have to be in the right data format for Statistical software to read and analyze. Two standard files will be used extensively: HELPrct (medical data on substance abusers) and CPS85 (-economics data on hourly wages). We show the summary of a\n",
    "portion of the first file below. The lines of Python code are commented out with text starting with a hashtag #. These are explanations for us humans to understand what is going on. Python approaches Statistics and Data Science by introducing many libraries like pandas imported below. Pandas library has the command *read_csv()* that reads in data files in comma-separated-values (.csv) format, which is used below. The. *shape* command shows that there are 453 substance abusers in the HELPrct file with 31columns describing them. Here, we show only a very small portion of it selecting variables (columns) of interest with double brackets `mydata[[‘cesd’,...]]`.\n"
   ]
  },
  {
   "cell_type": "code",
   "execution_count": null,
   "id": "aa7977a5",
   "metadata": {
    "tags": [
     "hide-input"
    ]
   },
   "outputs": [
    {
     "name": "stdout",
     "output_type": "stream",
     "text": [
      "Data Frame dimensions:  (453, 31)\n"
     ]
    },
    {
     "data": {
      "text/html": [
       "<div>\n",
       "<style scoped>\n",
       "    .dataframe tbody tr th:only-of-type {\n",
       "        vertical-align: middle;\n",
       "    }\n",
       "\n",
       "    .dataframe tbody tr th {\n",
       "        vertical-align: top;\n",
       "    }\n",
       "\n",
       "    .dataframe thead th {\n",
       "        text-align: right;\n",
       "    }\n",
       "</style>\n",
       "<table border=\"1\" class=\"dataframe\">\n",
       "  <thead>\n",
       "    <tr style=\"text-align: right;\">\n",
       "      <th></th>\n",
       "      <th>cesd</th>\n",
       "      <th>age</th>\n",
       "      <th>mcs</th>\n",
       "      <th>pcs</th>\n",
       "      <th>homeless</th>\n",
       "      <th>substance</th>\n",
       "      <th>sex</th>\n",
       "    </tr>\n",
       "  </thead>\n",
       "  <tbody>\n",
       "    <tr>\n",
       "      <th>0</th>\n",
       "      <td>49</td>\n",
       "      <td>37</td>\n",
       "      <td>25.111990</td>\n",
       "      <td>58.413689</td>\n",
       "      <td>housed</td>\n",
       "      <td>cocaine</td>\n",
       "      <td>male</td>\n",
       "    </tr>\n",
       "    <tr>\n",
       "      <th>1</th>\n",
       "      <td>30</td>\n",
       "      <td>37</td>\n",
       "      <td>26.670307</td>\n",
       "      <td>36.036942</td>\n",
       "      <td>homeless</td>\n",
       "      <td>alcohol</td>\n",
       "      <td>male</td>\n",
       "    </tr>\n",
       "    <tr>\n",
       "      <th>2</th>\n",
       "      <td>39</td>\n",
       "      <td>26</td>\n",
       "      <td>6.762923</td>\n",
       "      <td>74.806328</td>\n",
       "      <td>housed</td>\n",
       "      <td>heroin</td>\n",
       "      <td>male</td>\n",
       "    </tr>\n",
       "    <tr>\n",
       "      <th>3</th>\n",
       "      <td>15</td>\n",
       "      <td>39</td>\n",
       "      <td>43.967880</td>\n",
       "      <td>61.931679</td>\n",
       "      <td>housed</td>\n",
       "      <td>heroin</td>\n",
       "      <td>female</td>\n",
       "    </tr>\n",
       "    <tr>\n",
       "      <th>4</th>\n",
       "      <td>39</td>\n",
       "      <td>32</td>\n",
       "      <td>21.675755</td>\n",
       "      <td>37.345585</td>\n",
       "      <td>homeless</td>\n",
       "      <td>cocaine</td>\n",
       "      <td>male</td>\n",
       "    </tr>\n",
       "    <tr>\n",
       "      <th>...</th>\n",
       "      <td>...</td>\n",
       "      <td>...</td>\n",
       "      <td>...</td>\n",
       "      <td>...</td>\n",
       "      <td>...</td>\n",
       "      <td>...</td>\n",
       "      <td>...</td>\n",
       "    </tr>\n",
       "    <tr>\n",
       "      <th>448</th>\n",
       "      <td>28</td>\n",
       "      <td>33</td>\n",
       "      <td>41.943066</td>\n",
       "      <td>56.968681</td>\n",
       "      <td>housed</td>\n",
       "      <td>heroin</td>\n",
       "      <td>male</td>\n",
       "    </tr>\n",
       "    <tr>\n",
       "      <th>449</th>\n",
       "      <td>37</td>\n",
       "      <td>49</td>\n",
       "      <td>62.175503</td>\n",
       "      <td>57.253838</td>\n",
       "      <td>housed</td>\n",
       "      <td>alcohol</td>\n",
       "      <td>male</td>\n",
       "    </tr>\n",
       "    <tr>\n",
       "      <th>450</th>\n",
       "      <td>28</td>\n",
       "      <td>39</td>\n",
       "      <td>33.434536</td>\n",
       "      <td>40.045715</td>\n",
       "      <td>homeless</td>\n",
       "      <td>heroin</td>\n",
       "      <td>female</td>\n",
       "    </tr>\n",
       "    <tr>\n",
       "      <th>451</th>\n",
       "      <td>11</td>\n",
       "      <td>59</td>\n",
       "      <td>54.424816</td>\n",
       "      <td>53.732044</td>\n",
       "      <td>homeless</td>\n",
       "      <td>cocaine</td>\n",
       "      <td>male</td>\n",
       "    </tr>\n",
       "    <tr>\n",
       "      <th>452</th>\n",
       "      <td>35</td>\n",
       "      <td>45</td>\n",
       "      <td>30.212227</td>\n",
       "      <td>43.476074</td>\n",
       "      <td>homeless</td>\n",
       "      <td>alcohol</td>\n",
       "      <td>male</td>\n",
       "    </tr>\n",
       "  </tbody>\n",
       "</table>\n",
       "<p>453 rows × 7 columns</p>\n",
       "</div>"
      ],
      "text/plain": [
       "     cesd  age        mcs        pcs  homeless substance     sex\n",
       "0      49   37  25.111990  58.413689    housed   cocaine    male\n",
       "1      30   37  26.670307  36.036942  homeless   alcohol    male\n",
       "2      39   26   6.762923  74.806328    housed    heroin    male\n",
       "3      15   39  43.967880  61.931679    housed    heroin  female\n",
       "4      39   32  21.675755  37.345585  homeless   cocaine    male\n",
       "..    ...  ...        ...        ...       ...       ...     ...\n",
       "448    28   33  41.943066  56.968681    housed    heroin    male\n",
       "449    37   49  62.175503  57.253838    housed   alcohol    male\n",
       "450    28   39  33.434536  40.045715  homeless    heroin  female\n",
       "451    11   59  54.424816  53.732044  homeless   cocaine    male\n",
       "452    35   45  30.212227  43.476074  homeless   alcohol    male\n",
       "\n",
       "[453 rows x 7 columns]"
      ]
     },
     "execution_count": 4,
     "metadata": {},
     "output_type": "execute_result"
    }
   ],
   "source": [
    "import pandas as pd # pandas library works with data frames in Python\n",
    "\n",
    "\n",
    "url = f'{base_path}/HELPrct.csv'\n",
    "mydata = pd.read_csv(url) # save as mydata file\n",
    "\n",
    "print('Data Frame dimensions: ', mydata.shape) # #rows and # cols\n",
    "\n",
    "mydata = mydata[['cesd','age','mcs','pcs','homeless','substance','sex']];\n",
    "mydata # NOTE that Python counts from row 0!!!\n"
   ]
  },
  {
   "cell_type": "markdown",
   "id": "3a56a58e",
   "metadata": {},
   "source": [
    "The file above has a data frame (data matrix) form. Each row (case) is a patient, and each column is a variable describing that patient. Variables have different types. The `age`, `cesd` (depression score), `mcs` (mental health score), and `pcs` (physical health score) are all numerical (quantitative) variables. The `homeless`, `sex`, and `substance` are all categorical (qualitative) variables (labels).\n"
   ]
  },
  {
   "cell_type": "markdown",
   "id": "3ef234b0",
   "metadata": {},
   "source": [
    "The CPS85.csv data set on wages is shown below:"
   ]
  },
  {
   "cell_type": "code",
   "execution_count": null,
   "id": "5fef1930",
   "metadata": {
    "tags": [
     "hide-input"
    ]
   },
   "outputs": [
    {
     "name": "stdout",
     "output_type": "stream",
     "text": [
      "Data Frame dimensions:  (534, 12)\n"
     ]
    },
    {
     "data": {
      "text/html": [
       "<div>\n",
       "<style scoped>\n",
       "    .dataframe tbody tr th:only-of-type {\n",
       "        vertical-align: middle;\n",
       "    }\n",
       "\n",
       "    .dataframe tbody tr th {\n",
       "        vertical-align: top;\n",
       "    }\n",
       "\n",
       "    .dataframe thead th {\n",
       "        text-align: right;\n",
       "    }\n",
       "</style>\n",
       "<table border=\"1\" class=\"dataframe\">\n",
       "  <thead>\n",
       "    <tr style=\"text-align: right;\">\n",
       "      <th></th>\n",
       "      <th>wage</th>\n",
       "      <th>educ</th>\n",
       "      <th>race</th>\n",
       "      <th>sex</th>\n",
       "      <th>south</th>\n",
       "      <th>married</th>\n",
       "      <th>exper</th>\n",
       "      <th>sector</th>\n",
       "    </tr>\n",
       "  </thead>\n",
       "  <tbody>\n",
       "    <tr>\n",
       "      <th>0</th>\n",
       "      <td>9.00</td>\n",
       "      <td>10</td>\n",
       "      <td>W</td>\n",
       "      <td>M</td>\n",
       "      <td>NS</td>\n",
       "      <td>Married</td>\n",
       "      <td>27</td>\n",
       "      <td>const</td>\n",
       "    </tr>\n",
       "    <tr>\n",
       "      <th>1</th>\n",
       "      <td>5.50</td>\n",
       "      <td>12</td>\n",
       "      <td>W</td>\n",
       "      <td>M</td>\n",
       "      <td>NS</td>\n",
       "      <td>Married</td>\n",
       "      <td>20</td>\n",
       "      <td>sales</td>\n",
       "    </tr>\n",
       "    <tr>\n",
       "      <th>2</th>\n",
       "      <td>3.80</td>\n",
       "      <td>12</td>\n",
       "      <td>W</td>\n",
       "      <td>F</td>\n",
       "      <td>NS</td>\n",
       "      <td>Single</td>\n",
       "      <td>4</td>\n",
       "      <td>sales</td>\n",
       "    </tr>\n",
       "    <tr>\n",
       "      <th>3</th>\n",
       "      <td>10.50</td>\n",
       "      <td>12</td>\n",
       "      <td>W</td>\n",
       "      <td>F</td>\n",
       "      <td>NS</td>\n",
       "      <td>Married</td>\n",
       "      <td>29</td>\n",
       "      <td>clerical</td>\n",
       "    </tr>\n",
       "    <tr>\n",
       "      <th>4</th>\n",
       "      <td>15.00</td>\n",
       "      <td>12</td>\n",
       "      <td>W</td>\n",
       "      <td>M</td>\n",
       "      <td>NS</td>\n",
       "      <td>Married</td>\n",
       "      <td>40</td>\n",
       "      <td>const</td>\n",
       "    </tr>\n",
       "    <tr>\n",
       "      <th>5</th>\n",
       "      <td>9.00</td>\n",
       "      <td>16</td>\n",
       "      <td>W</td>\n",
       "      <td>F</td>\n",
       "      <td>NS</td>\n",
       "      <td>Married</td>\n",
       "      <td>27</td>\n",
       "      <td>clerical</td>\n",
       "    </tr>\n",
       "    <tr>\n",
       "      <th>6</th>\n",
       "      <td>9.57</td>\n",
       "      <td>12</td>\n",
       "      <td>W</td>\n",
       "      <td>F</td>\n",
       "      <td>NS</td>\n",
       "      <td>Married</td>\n",
       "      <td>5</td>\n",
       "      <td>service</td>\n",
       "    </tr>\n",
       "    <tr>\n",
       "      <th>7</th>\n",
       "      <td>15.00</td>\n",
       "      <td>14</td>\n",
       "      <td>W</td>\n",
       "      <td>M</td>\n",
       "      <td>NS</td>\n",
       "      <td>Single</td>\n",
       "      <td>22</td>\n",
       "      <td>sales</td>\n",
       "    </tr>\n",
       "    <tr>\n",
       "      <th>8</th>\n",
       "      <td>11.00</td>\n",
       "      <td>8</td>\n",
       "      <td>W</td>\n",
       "      <td>M</td>\n",
       "      <td>NS</td>\n",
       "      <td>Married</td>\n",
       "      <td>42</td>\n",
       "      <td>manuf</td>\n",
       "    </tr>\n",
       "    <tr>\n",
       "      <th>9</th>\n",
       "      <td>5.00</td>\n",
       "      <td>12</td>\n",
       "      <td>W</td>\n",
       "      <td>F</td>\n",
       "      <td>NS</td>\n",
       "      <td>Married</td>\n",
       "      <td>14</td>\n",
       "      <td>sales</td>\n",
       "    </tr>\n",
       "  </tbody>\n",
       "</table>\n",
       "</div>"
      ],
      "text/plain": [
       "    wage  educ race sex south  married  exper    sector\n",
       "0   9.00    10    W   M    NS  Married     27     const\n",
       "1   5.50    12    W   M    NS  Married     20     sales\n",
       "2   3.80    12    W   F    NS   Single      4     sales\n",
       "3  10.50    12    W   F    NS  Married     29  clerical\n",
       "4  15.00    12    W   M    NS  Married     40     const\n",
       "5   9.00    16    W   F    NS  Married     27  clerical\n",
       "6   9.57    12    W   F    NS  Married      5   service\n",
       "7  15.00    14    W   M    NS   Single     22     sales\n",
       "8  11.00     8    W   M    NS  Married     42     manuf\n",
       "9   5.00    12    W   F    NS  Married     14     sales"
      ]
     },
     "execution_count": 5,
     "metadata": {},
     "output_type": "execute_result"
    }
   ],
   "source": [
    "url = f'{base_path}/CPS85.csv'\n",
    "mydata = pd.read_csv(url)\n",
    "\n",
    "print('Data Frame dimensions: ', mydata.shape)\n",
    "\n",
    "mydata = mydata[['wage','educ','race','sex','south','married','exper','sector']]\n",
    "mydata.head(10)"
   ]
  },
  {
   "cell_type": "markdown",
   "id": "ae087fc6",
   "metadata": {},
   "source": [
    "Variables `wage`, `age`, `educ`, and `exper` are numerical, while `race`, `sex`, `south`, `married`, and `sector` are categorical."
   ]
  },
  {
   "cell_type": "markdown",
   "id": "8bf5fd41",
   "metadata": {},
   "source": [
    "Lastly, MHEALTH.csv data file contains a lot of information about the health measures of 40 males. All variables are numerical."
   ]
  },
  {
   "cell_type": "code",
   "execution_count": null,
   "id": "074fbd61",
   "metadata": {
    "tags": [
     "hide-input"
    ]
   },
   "outputs": [
    {
     "name": "stdout",
     "output_type": "stream",
     "text": [
      "Data Frame dimensions:  (40, 14)\n"
     ]
    },
    {
     "data": {
      "text/html": [
       "<div>\n",
       "<style scoped>\n",
       "    .dataframe tbody tr th:only-of-type {\n",
       "        vertical-align: middle;\n",
       "    }\n",
       "\n",
       "    .dataframe tbody tr th {\n",
       "        vertical-align: top;\n",
       "    }\n",
       "\n",
       "    .dataframe thead th {\n",
       "        text-align: right;\n",
       "    }\n",
       "</style>\n",
       "<table border=\"1\" class=\"dataframe\">\n",
       "  <thead>\n",
       "    <tr style=\"text-align: right;\">\n",
       "      <th></th>\n",
       "      <th>AGE</th>\n",
       "      <th>HT</th>\n",
       "      <th>WT</th>\n",
       "      <th>WAIST</th>\n",
       "      <th>PULSE</th>\n",
       "      <th>BMI</th>\n",
       "    </tr>\n",
       "  </thead>\n",
       "  <tbody>\n",
       "    <tr>\n",
       "      <th>0</th>\n",
       "      <td>20</td>\n",
       "      <td>69.7</td>\n",
       "      <td>137.4</td>\n",
       "      <td>75.2</td>\n",
       "      <td>88</td>\n",
       "      <td>19.9</td>\n",
       "    </tr>\n",
       "    <tr>\n",
       "      <th>1</th>\n",
       "      <td>25</td>\n",
       "      <td>67.6</td>\n",
       "      <td>151.3</td>\n",
       "      <td>75.6</td>\n",
       "      <td>64</td>\n",
       "      <td>23.3</td>\n",
       "    </tr>\n",
       "    <tr>\n",
       "      <th>2</th>\n",
       "      <td>34</td>\n",
       "      <td>63.7</td>\n",
       "      <td>119.5</td>\n",
       "      <td>75.7</td>\n",
       "      <td>56</td>\n",
       "      <td>20.7</td>\n",
       "    </tr>\n",
       "    <tr>\n",
       "      <th>3</th>\n",
       "      <td>29</td>\n",
       "      <td>70.0</td>\n",
       "      <td>162.4</td>\n",
       "      <td>77.0</td>\n",
       "      <td>56</td>\n",
       "      <td>23.4</td>\n",
       "    </tr>\n",
       "    <tr>\n",
       "      <th>4</th>\n",
       "      <td>22</td>\n",
       "      <td>66.2</td>\n",
       "      <td>144.2</td>\n",
       "      <td>78.1</td>\n",
       "      <td>64</td>\n",
       "      <td>23.2</td>\n",
       "    </tr>\n",
       "    <tr>\n",
       "      <th>5</th>\n",
       "      <td>41</td>\n",
       "      <td>66.5</td>\n",
       "      <td>135.0</td>\n",
       "      <td>78.8</td>\n",
       "      <td>60</td>\n",
       "      <td>21.5</td>\n",
       "    </tr>\n",
       "    <tr>\n",
       "      <th>6</th>\n",
       "      <td>26</td>\n",
       "      <td>68.5</td>\n",
       "      <td>144.1</td>\n",
       "      <td>79.6</td>\n",
       "      <td>64</td>\n",
       "      <td>21.6</td>\n",
       "    </tr>\n",
       "    <tr>\n",
       "      <th>7</th>\n",
       "      <td>20</td>\n",
       "      <td>66.3</td>\n",
       "      <td>151.0</td>\n",
       "      <td>79.9</td>\n",
       "      <td>72</td>\n",
       "      <td>24.2</td>\n",
       "    </tr>\n",
       "    <tr>\n",
       "      <th>8</th>\n",
       "      <td>36</td>\n",
       "      <td>70.3</td>\n",
       "      <td>137.1</td>\n",
       "      <td>81.6</td>\n",
       "      <td>64</td>\n",
       "      <td>19.6</td>\n",
       "    </tr>\n",
       "    <tr>\n",
       "      <th>9</th>\n",
       "      <td>54</td>\n",
       "      <td>65.6</td>\n",
       "      <td>139.0</td>\n",
       "      <td>82.5</td>\n",
       "      <td>60</td>\n",
       "      <td>22.7</td>\n",
       "    </tr>\n",
       "  </tbody>\n",
       "</table>\n",
       "</div>"
      ],
      "text/plain": [
       "   AGE    HT     WT  WAIST  PULSE   BMI\n",
       "0   20  69.7  137.4   75.2     88  19.9\n",
       "1   25  67.6  151.3   75.6     64  23.3\n",
       "2   34  63.7  119.5   75.7     56  20.7\n",
       "3   29  70.0  162.4   77.0     56  23.4\n",
       "4   22  66.2  144.2   78.1     64  23.2\n",
       "5   41  66.5  135.0   78.8     60  21.5\n",
       "6   26  68.5  144.1   79.6     64  21.6\n",
       "7   20  66.3  151.0   79.9     72  24.2\n",
       "8   36  70.3  137.1   81.6     64  19.6\n",
       "9   54  65.6  139.0   82.5     60  22.7"
      ]
     },
     "execution_count": 6,
     "metadata": {},
     "output_type": "execute_result"
    }
   ],
   "source": [
    "url = f'{base_path}/MHEALTH.csv'\n",
    "mydata = pd.read_csv(url)\n",
    "\n",
    "print('Data Frame dimensions: ', mydata.shape)\n",
    "\n",
    "mydata = mydata[['AGE','HT','WT','WAIST','PULSE','BMI']];\n",
    "mydata.head(10)"
   ]
  },
  {
   "cell_type": "markdown",
   "id": "26f98909",
   "metadata": {},
   "source": [
    "In addition, numerical (quantitative) variables can be subdivided into **discrete** and **continuous**. **Discrete variables** can only take on distinct, separate values, which are typically counted in whole numbers (0,1,2,. . . ). Unlike\n",
    "**continuous variables**, which can take on any value within a range, discrete variables have a finite or countably infnite number of possible values. For example, the number of students in a class, the number of cars in a garage, the number of books on a shelf, etc. are discrete, while distance, time, height, weight, etc. are continuous."
   ]
  },
  {
   "cell_type": "markdown",
   "id": "ba960364",
   "metadata": {},
   "source": [
    "Categorical (qualitative) variables can also be subdivided into nominal and ordinal. Nominal variables represent categories or labels without any inherent order or relationship. For example, gender, eye color, marital status, experimental group (Treatment vs. Control), country, etc. The values of nominal variables are called levels. Ordinal variables are categorical variables that have order or ranking, but the intervals in between the levels are not necessarily uniform or meaningful. For example, education level (high school < bachelor < master < Ph.D.), income (low < medium < high), and Likert scale in surveys (strongly disagree < disagree < neutral < agree < strongly agree)."
   ]
  },
  {
   "cell_type": "markdown",
   "id": "2d342736",
   "metadata": {},
   "source": [
    "For numerical variables both discrete and continuous, numerical statistics likemean, and median, as well as transformations, make sense. For categorical variables, whether nominal or ordinal, only counting in each group (level) makes sense. Also note that there are some variables represented via numbers that are categorical, like zip codes. The mean zip code of students in a class doesn't make any sense."
   ]
  },
  {
   "cell_type": "markdown",
   "id": "c805b4da",
   "metadata": {},
   "source": [
    "In addition to the individual variable classifcation, relationships between variables play an important role in Statistics. For two numerical variables, a scatterplot illustrates a possible relationship. For example, consider the dependence between `cesd` depression score and `mcs` mental score for substance abusers shown in the Figure below:"
   ]
  },
  {
   "cell_type": "code",
   "execution_count": null,
   "id": "91e0e468",
   "metadata": {
    "tags": [
     "hide-input"
    ]
   },
   "outputs": [
    {
     "data": {
      "text/plain": [
       "<AxesSubplot: xlabel='mcs', ylabel='cesd'>"
      ]
     },
     "execution_count": 8,
     "metadata": {},
     "output_type": "execute_result"
    },
    {
     "data": {
      "image/png": "[encoded data removed]",
      "text/plain": [
       "<Figure size 640x480 with 1 Axes>"
      ]
     },
     "metadata": {},
     "output_type": "display_data"
    }
   ],
   "source": [
    "import seaborn as sns # - seaborn is a Statistics graphics library\n",
    "\n",
    "\n",
    "url = f'{base_path}/HELPrct.csv'\n",
    "mydata = pd.read_csv(url) \n",
    "\n",
    "sns.scatterplot(data=mydata, x=\"mcs\", y=\"cesd\")\n"
   ]
  },
  {
   "cell_type": "markdown",
   "id": "4b8bd5ab",
   "metadata": {},
   "source": [
    "Not surprisingly, as the mental score becomes higher, the depression score decreases, so these variables are **negatively associated (dependent)**. In this setting, the x-axis mcs would be an **explanatory (independent, predictor) variable**, while the y-axis cesd would be a **response (dependent) variable**. On the other hand, men's weight (`WT`) is **positively associated** with waist measurement (`WAIST`) as shown in the Figure below."
   ]
  },
  {
   "cell_type": "code",
   "execution_count": 9,
   "id": "0209b2a2",
   "metadata": {
    "tags": [
     "hide-input"
    ]
   },
   "outputs": [
    {
     "data": {
      "text/plain": [
       "<AxesSubplot: xlabel='WAIST', ylabel='WT'>"
      ]
     },
     "execution_count": 9,
     "metadata": {},
     "output_type": "execute_result"
    },
    {
     "data": {
      "image/png": "[encoded data removed]",
      "text/plain": [
       "<Figure size 640x480 with 1 Axes>"
      ]
     },
     "metadata": {},
     "output_type": "display_data"
    }
   ],
   "source": [
    "url = f'{base_path}/MHEALTH.csv'\n",
    "mydata = pd.read_csv(url)\n",
    "\n",
    "sns.scatterplot(data=mydata, x=\"WAIST\", y=\"WT\")"
   ]
  },
  {
   "cell_type": "markdown",
   "id": "579c19b1",
   "metadata": {},
   "source": [
    "Finally, men's weight (`WT`) is **not associated (independent)** with pulse (`PULSE`) as shown in Figure below."
   ]
  },
  {
   "cell_type": "code",
   "execution_count": 10,
   "id": "92ff663d",
   "metadata": {
    "tags": [
     "hide-input"
    ]
   },
   "outputs": [
    {
     "data": {
      "text/plain": [
       "<AxesSubplot: xlabel='PULSE', ylabel='WT'>"
      ]
     },
     "execution_count": 10,
     "metadata": {},
     "output_type": "execute_result"
    },
    {
     "data": {
      "image/png": "[encoded data removed]",
      "text/plain": [
       "<Figure size 640x480 with 1 Axes>"
      ]
     },
     "metadata": {},
     "output_type": "display_data"
    }
   ],
   "source": [
    "sns.scatterplot(data=mydata, x=\"PULSE\", y=\"WT\")"
   ]
  },
  {
   "cell_type": "markdown",
   "id": "762e2ca5",
   "metadata": {},
   "source": [
    "Remember that **association does not imply causation**. The `mcs` does not cause the reduction in `cesd` score; they are just measurements of depression and mental state which are related to each other. A classic example of association without causation is NYC subway fare and average pizza slice price, which have stayed almost the same throughout the years since the 1950s. Both prices have grown over the years due to inflation, etc., not one causing the another."
   ]
  },
  {
   "cell_type": "markdown",
   "id": "ab07fbe3",
   "metadata": {},
   "source": [
    "The data is collected in two primary ways: **observational studies and experiments**. If researchers do not directly interfere with how the data arises, it is an **observational study**. The data sets considered in this section are all observational. Any opinion polls, surveys, etc. are observational. A study looking back in time at medical or business records (*retrospective studies*), and *prospective studies* where a cohort (group) of similar individuals is followed over many years into the future are all observational. **Experiments**, however, involve manipulating one or more independent variables to observe their efect on a dependent variable. The example at the beginning of the chapter on the effects of a new cholesterol-reducing drug was an experimental study. Researchers randomized patients into treatment and control groups and proportions were compared. The explanatory group variable has two levels (treatment and control). The proportions by group are the responses. *Observational studies may only show the association/relationship between variables, not cause and effect. Only a carefully designed randomized experiment may be used to establish cause and effect*."
   ]
  },
  {
   "cell_type": "markdown",
   "id": "542cf029",
   "metadata": {},
   "source": [
    "To illustrate why it would be wrong to infer cause and effect based on a simple association, let's consider the following example. A medical study focusing on blood pressure and mortality may find that low blood pressure is associated with a higher risk of mortality. However, it does not cause death directly, rather, it is due to the confounding effect of heart disease. A variable that is associated with both the explanatory (low blood pressure) and response variable (mortality) but is not directly accounted for by the study is called a **confounding (lurking) variable**. There are ways to account for confounding variables; they should not be dismissed"
   ]
  },
  {
   "cell_type": "markdown",
   "id": "a73b8ac8",
   "metadata": {},
   "source": [
    "## Sampling Methods"
   ]
  },
  {
   "cell_type": "markdown",
   "id": "d7317f4d",
   "metadata": {},
   "source": [
    "In statistics, a **population** is the pool of all individuals or items from which a much smaller **statistical sample** is drawn for a study. For example, in the drug study considered before, 200 patients with high cholesterol constitute a random sample out of the whole population of such patients. It is impractical to take **census** of the entire population, instead, a small randomized sample is considered. For example, presidential approval polls are conducted almost every day. It is impossible each time to run a census of many millions of American voters, so a much smaller 1200-1500 random sample is obtained. A sample should be **representative of a target population**, which is not an easy task undertaken by polling agencies. Most of them failed to correctly predict Donald Trump's election in 2016 missing new \"Trump Voters\" giving him an edge. A characteristic of the entire population is called a **parameter** and denoted by a Greek letter like a population mean µ. The same quantity measured on a sample is called a **statistic** denoted by a regular letter with some special sign like a sample mean $\\bar{x}$."
   ]
  },
  {
   "cell_type": "markdown",
   "id": "211a2d22",
   "metadata": {},
   "source": [
    "In Statistics, we almost always use a **simple random sample** - an **unbiased** approach where a subset is chosen randomly with all items equally likely to be selected (like a computerized raffle). Systematic bias is different from natural variation in the data, and cannot be corrected by any statistical techniques. For example, a survey on smartphone usage conducted on tech-savvy young users would be highly inaccurate in reflecting the entire population's phone usage."
   ]
  },
  {
   "cell_type": "markdown",
   "id": "66e73acf",
   "metadata": {},
   "source": [
    "Another possible flaw in sampling is a **voluntary response** sample. For example, a voting questionnaire was mailed to a large sample of individuals, but only a much smaller sub-sample responded corresponding to a high **non-response rate**. It could be that most people who felt strongly about the election responded, which would produce an additional *bias*. Similarly, self-selected polls of viewers of highly partisan networks like FOX and MSNBC are not representative of the entire population. There are other more specialized sampling techniques like **stratified sampling**, **cluster sampling**, etc., but they are mostly used in polling and will not be considered in this textbook."
   ]
  },
  {
   "cell_type": "markdown",
   "id": "c2377076",
   "metadata": {},
   "source": [
    "## Statistical Experiments"
   ]
  },
  {
   "cell_type": "markdown",
   "id": "a1120643",
   "metadata": {},
   "source": [
    "In this section, we consider **randomized experimental design** that involves randomly assigning participants to different experimental conditions to control for confounding and allow causal inferences. A control group must always be included to provide a baseline for comparison with one or more of the experimental groups. For example, in the new drug study described at the beginning of the chapter, there was a control group of patients taking the standard drug. Also, the patients in the two groups should take the new drug and the standard one in a similar manner, say after a meal, same time of the day, etc. Randomization can be achieved via random number generators. This helps to account for other variables that cannot be controlled. For example, some patients may be healthier due to their lifestyle, so randomizing helps to even out such differences and avoid bias. The experiment should be replicated a sufficient number of times with different samples and/or in different settings. It strengthens the confidence in being able to generalize the observed effects to a much larger population."
   ]
  },
  {
   "cell_type": "markdown",
   "id": "82a27fce",
   "metadata": {},
   "source": [
    "In some studies, a **randomized block design** is called for that involves dividing participants into homogeneous blocks before random assignment. It can be particularly useful when there are factors that may influence the outcome but are not the primary focus of the study (confounding variables). For example, considering again the new drug experiment, it seems logical to assume that the drug reaction could be different for patients with moderately high cholesterol levels (moderate) vs. patients with very high cholesterol levels (high). Therefore, we create a blocking variable Chol with two levels of moderate and high, separate all 200 patients according to this variable, and then take simple random samples of equal sizes from moderate and high groups, respectively. This strategy ensures each treatment group has an equal number of moderate and high cholesterol level patients."
   ]
  },
  {
   "cell_type": "markdown",
   "id": "654cf47a",
   "metadata": {},
   "source": [
    "In addition, it is important to reduce unintended human bias via **double blinding** where neither the patient nor the doctor knows whether a particular patient is on a new drug or a standard drug. If a new drug is tested against no treatment, the patients in the control (no treatment) group should still receive a placebo to avoid possible **placebo effects**."
   ]
  },
  {
   "cell_type": "markdown",
   "id": "ff404913",
   "metadata": {},
   "source": [
    "## Roadmap for the Book"
   ]
  },
  {
   "cell_type": "markdown",
   "id": "b8ffb2e5",
   "metadata": {},
   "source": [
    "At the end of this first chapter of the book, let's discuss the roadmap for the rest of the text. In this chapter, some of the basic ideas of Statistics have been introduced. The next chapter reviews the main approaches of **Descriptive Statistics**. It summarizes a sample in terms of means, standard deviations, and counts as well as introduces important visualizations like histograms, boxplots, etc. Within the descriptive approach, we only try to describe the sample at hand, not to infer anything about the larger population from which it came; that would be the task of **Inferential Statistics**."
   ]
  },
  {
   "cell_type": "markdown",
   "id": "013a71be",
   "metadata": {},
   "source": [
    "The inferential Statistics method uses sample statistics to make inferences about population parameters. First, however, basic probability ideas and probability distributions relevant to Statistics (normal and binomial) must be introduced/reviewed. The next chapters introduce the main approaches of inferential statistics such as confidence intervals and hypothesis testing. They are applied to both categorical and numerical data leading to proportions, goodness of fit, independence, and means tests. Next, Part 2 of the book will look at more advanced topics such as ANOVA, linear and nonlinear models, multiple and logistic regression, tree models, principal component analysis, clustering, etc."
   ]
  }
 ],
 "metadata": {
  "kernelspec": {
   "display_name": "ts",
   "language": "python",
   "name": "python3"
  },
  "language_info": {
   "codemirror_mode": {
    "name": "ipython",
    "version": 3
   },
   "file_extension": ".py",
   "mimetype": "text/x-python",
   "name": "python",
   "nbconvert_exporter": "python",
   "pygments_lexer": "ipython3",
   "version": "3.10.4"
  }
 },
 "nbformat": 4,
 "nbformat_minor": 5
}
