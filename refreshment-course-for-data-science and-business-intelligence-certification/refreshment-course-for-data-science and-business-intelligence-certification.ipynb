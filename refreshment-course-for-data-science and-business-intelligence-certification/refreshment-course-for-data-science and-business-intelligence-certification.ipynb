{
 "cells": [
  {
   "cell_type": "markdown",
   "id": "9d29d9a6",
   "metadata": {},
   "source": [
    "# Refreshment Course for Data Science and Business Intelligence Certification"
   ]
  },
  {
   "cell_type": "markdown",
   "id": "8bf4135b",
   "metadata": {},
   "source": [
    "## Introduction"
   ]
  },
  {
   "cell_type": "markdown",
   "id": "5ca53f96",
   "metadata": {},
   "source": [
    "When we are asked to prove our credibility in a field, for example, as doctors we are required to show our licenses. In many professions, certification is one of the main ways to demonstrate credibility.\n",
    "\n",
    "For instance, there are internationally recognized certifications such as AWS or GCP. Many countries or third-party institutions also provide their own certifications. In Indonesia, an official government body is responsible for this. In this post, we will discuss some of their certifications in data science and business intelligence, as well as the refresher materials available for preparation."
   ]
  },
  {
   "cell_type": "markdown",
   "id": "c6b432f2",
   "metadata": {},
   "source": [
    "## Data Science Certification"
   ]
  },
  {
   "cell_type": "markdown",
   "id": "a84fa5ef",
   "metadata": {},
   "source": [
    "Each certification comes with predefined units that the test taker must complete in order to become certified. For example, in Data Science, the required units include:\n",
    "* Data Collection\n",
    "* Data Exploration\n",
    "* Data Validation\n",
    "* Data Definition\n",
    "* Data Construction\n",
    "* Data Labeling\n",
    "* Model Building\n",
    "* Model Evaaluation\n",
    "\n",
    "While I am not entirely sure whether these units fully reflect the best practices of a modern data science workflow, I believe they could be simplified and better aligned with current standards, such as: \n",
    "* Data Collection\n",
    "* Data Understanding\n",
    "* Data Exploration\n",
    "* Data Preprocessing\n",
    "* Model Development\n",
    "* Model Deployment\n",
    "\n",
    "It is also worth noting that these units were most likely designed before the pre-LLM era. Today, with the advancement of generative AI, many of these steps could potentially be automated or significantly accelerated. :D"
   ]
  },
  {
   "cell_type": "markdown",
   "id": "55622b80",
   "metadata": {},
   "source": [
    "### Data Collection"
   ]
  },
  {
   "cell_type": "markdown",
   "id": "efadaabc",
   "metadata": {},
   "source": [
    "The first step is data collection. When taking a certification, the provider usually provides both the dataset and the goal for the test takers. However, there may be cases where you need to find and collect the data yourself. If so, what should you do?\n",
    "\n",
    "First, you need to determine what kind of data you want to analyze. For example:\n",
    "* Stock data, if you are role-playing as an investment analyst.\n",
    "* Revenue data, if you are role-playing as a company analyst aiming to boost revenue.\n",
    "* Customer churn data, if your goal is to prevent the company from losing customers, etc.\n",
    "\n",
    "It is important to remember that every type of data comes with its own characteristics, which will influence how you approach analysis.\n",
    "\n",
    "Second, after deciding on the type of data, you should identify platforms to find open datasets, such as Kaggle. Alternatively, if you have access to proprietary data and permission to use it, you can work with that as long as privacy and confidentiality are preserved.\n",
    "\n",
    "For simplicity, we will use the Telco customer churn dataset, which can be found [[1]](https://www.kaggle.com/datasets/alfathterry/telco-customer-churn-11-1-3).\n"
   ]
  },
  {
   "cell_type": "markdown",
   "id": "439d76cf",
   "metadata": {},
   "source": [
    "### Data Understanding"
   ]
  },
  {
   "cell_type": "markdown",
   "id": "54fa1c20",
   "metadata": {},
   "source": [
    "After deciding on the dataset, it is essential to understand what the data is about. I usually find that reading the data’s description and metadata is very helpful. Here is what the provider states about the Telco dataset:\n",
    "\n",
    ">The Telco customer churn data contains information about a fictional telco company that provided home phone and Internet services to 7,043 customers in California in Q3. It indicates which customers have left, stayed, or signed up for their service. Multiple important demographics are included for each customer, as well as a Satisfaction Score, Churn Score, and Customer Lifetime Value (CLTV) index\n",
    "\n",
    "From this, we know that the dataset contains 7,043 customers with 50 properties. Taking a quick glance at the data, we can notice some properties that are likely of most interest, such as Churn Category and Churn Reason. By this time, we may come up with several questions, such as:\n",
    "* What proportion of customers have churned?\n",
    "* What are the main reasons customers decide to churn?\n",
    "* How does customer churn affect the company?\n",
    "* How can we prevent more customers from churning?\n",
    "* What strategies should we implement?\n",
    "\n",
    "From my perspective, data science is essentially a workflow designed to answer these questions. This can be achieved by building predictive models to simulate customer behavior and ultimately create the desired outcome; in this case, retaining more customers.\n"
   ]
  },
  {
   "cell_type": "markdown",
   "id": "2acf8431",
   "metadata": {},
   "source": [
    "## Business Intelligence Certification"
   ]
  },
  {
   "cell_type": "markdown",
   "id": "ccf827df",
   "metadata": {},
   "source": [
    "For Business Intelligence certification, the required units include:\n",
    "* Data Collection\n",
    "* Data Exploration\n",
    "* Data Validation\n",
    "* Data Definition\n",
    "* Data Construction\n",
    "* Data Integration\n",
    "* Dashbord Development\n",
    "\n",
    "As of this case, I also believe they could be simplified, such as: \n",
    "* Data Collection\n",
    "* Data Understanding\n",
    "* Business-Centric Objective\n",
    "* Dashboard Development\n",
    "* Dashboard Deployment\n",
    "\n",
    "Several steps, such as Data Integration, are omitted here, since in my view they align more closely with the responsibilities of data engineering rather than Business Intelligence."
   ]
  },
  {
   "cell_type": "markdown",
   "id": "95124566",
   "metadata": {},
   "source": []
  }
 ],
 "metadata": {
  "language_info": {
   "name": "python"
  }
 },
 "nbformat": 4,
 "nbformat_minor": 5
}
